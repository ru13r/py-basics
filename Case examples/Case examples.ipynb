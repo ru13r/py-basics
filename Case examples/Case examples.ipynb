{
 "cells": [
  {
   "cell_type": "markdown",
   "metadata": {},
   "source": [
    "### Объединение файлов на отдельных листах Excel"
   ]
  },
  {
   "cell_type": "code",
   "execution_count": 35,
   "metadata": {},
   "outputs": [],
   "source": [
    "import xlwings as xw\n",
    "import os\n",
    "\n",
    "def combine_on_sheets(source, dest='combined.xlsx'):\n",
    "    \n",
    "    files = os.listdir(source)\n",
    "    \n",
    "    new_book = xw.Book()\n",
    "    app = xw.apps.active\n",
    "    app.visible = False\n",
    "    \n",
    "    for file in files:\n",
    "        file_name = os.path.splitext(file)[0]\n",
    "        full_path = source + file\n",
    "        source_book = xw.books.open(full_path)\n",
    "        source_book.sheets[0].copy(name=file_name, after=new_book.sheets[0])\n",
    "        source_book.close()\n",
    "        \n",
    "    new_book.save(dest)\n",
    "    app.visible = True"
   ]
  },
  {
   "cell_type": "code",
   "execution_count": 36,
   "metadata": {},
   "outputs": [],
   "source": [
    "combine_on_sheets('Exchange rates/')"
   ]
  },
  {
   "cell_type": "code",
   "execution_count": null,
   "metadata": {},
   "outputs": [],
   "source": []
  }
 ],
 "metadata": {
  "kernelspec": {
   "display_name": "Python 3",
   "language": "python",
   "name": "python3"
  },
  "language_info": {
   "codemirror_mode": {
    "name": "ipython",
    "version": 3
   },
   "file_extension": ".py",
   "mimetype": "text/x-python",
   "name": "python",
   "nbconvert_exporter": "python",
   "pygments_lexer": "ipython3",
   "version": "3.9.6"
  }
 },
 "nbformat": 4,
 "nbformat_minor": 4
}
