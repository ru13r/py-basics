{
 "cells": [
  {
   "cell_type": "markdown",
   "metadata": {},
   "source": [
    "## Объединение файлов на отдельных листах Excel"
   ]
  },
  {
   "cell_type": "markdown",
   "metadata": {},
   "source": [
    "Задача данного примера - агрегировать информацию из набора файлов excel в один файл, помещая данные из каждого следующего файла на отдельную вкладку. Для примера используем выгрузки с курсом валют за некоторый период по нескольким валютам. Исходные файлы находятся в папке \"Examples/Exchange rates\".\n",
    "\n",
    "Для начала импортируем необходимые нам библиотеки, в том числе:\n",
    "\n",
    "* xlwings - для работы с excel\n",
    "* os - для работы с файловой системой (с папками в windows)"
   ]
  },
  {
   "cell_type": "code",
   "execution_count": 1,
   "metadata": {},
   "outputs": [],
   "source": [
    "import xlwings as xw\n",
    "import os"
   ]
  },
  {
   "cell_type": "markdown",
   "metadata": {},
   "source": [
    "### Библиотека OS"
   ]
  },
  {
   "cell_type": "markdown",
   "metadata": {},
   "source": [
    "Библиотека OS предоставляет набор функций для работы с операционной системой, в том числе функции для работы с файловой системой, например, для получения списка файлов в папке, для создания, переименования и удаления папок.\n",
    "\n",
    "Функции, которые нам понадобятся в этом примере:\n",
    "\n",
    "**1) ``os.listdir('folder path')``**<br>\n",
    "Функция для получения списка файлов и папок в указанной папке.\n",
    "Возвращает список имен файлов/папок вида **['file1.xlsx', 'file2.xlsx', 'Folder1']**"
   ]
  },
  {
   "cell_type": "code",
   "execution_count": 2,
   "metadata": {},
   "outputs": [
    {
     "data": {
      "text/plain": [
       "['Exchange rates', 'GDP.xlsx', 'Sales by region.xlsx']"
      ]
     },
     "execution_count": 2,
     "metadata": {},
     "output_type": "execute_result"
    }
   ],
   "source": [
    "os.listdir('../Examples') # Знак \"..\" используется для возврата в каталог верхнерго уровня"
   ]
  },
  {
   "cell_type": "markdown",
   "metadata": {},
   "source": [
    "**2) ``os.path.splitext('file path')``**<br>\n",
    "Функция разбивает полный путь к файлу (например '/folder/file_name.xlsx') на две части:\n",
    "\n",
    "1. путь + имя файла ('/folder/file_name')\n",
    "2. расширение файла ('xlsx')\n",
    "\n",
    "Возвращает кортеж из пути и расширения вида ***('folder/file_name', 'xlsx')***."
   ]
  },
  {
   "cell_type": "code",
   "execution_count": 3,
   "metadata": {},
   "outputs": [
    {
     "data": {
      "text/plain": [
       "('../Examples/Exchange rates/USD', '.xlsx')"
      ]
     },
     "execution_count": 3,
     "metadata": {},
     "output_type": "execute_result"
    }
   ],
   "source": [
    "os.path.splitext('../Examples/Exchange rates/USD.xlsx')"
   ]
  },
  {
   "cell_type": "markdown",
   "metadata": {},
   "source": [
    "Рассмотрим пример чтения и переноса данных из файла excel в новую книгу на примере выгрузки курса доллара.<br>\n",
    "Создадим новую книгу excel при помощи библиотеки xlwings и поместим ссылку на нее в переменную new_book."
   ]
  },
  {
   "cell_type": "code",
   "execution_count": 4,
   "metadata": {},
   "outputs": [],
   "source": [
    "new_book = xw.Book()"
   ]
  },
  {
   "cell_type": "markdown",
   "metadata": {},
   "source": [
    "Далее откроем файл с выгрузкой и поместим ссылку на него в переменную source_book."
   ]
  },
  {
   "cell_type": "code",
   "execution_count": 5,
   "metadata": {},
   "outputs": [],
   "source": [
    "source_book = xw.books.open('../Examples/Exchange rates/USD.xlsx')"
   ]
  },
  {
   "cell_type": "markdown",
   "metadata": {},
   "source": [
    "Скопируем лист с выгрузкой курсов долл. в новую книгу при помощи функции ``copy()``, указав имя нового листа в параметре ``name`` и его позицию в новой книге через параметр ``after``."
   ]
  },
  {
   "cell_type": "code",
   "execution_count": 6,
   "metadata": {},
   "outputs": [
    {
     "data": {
      "text/plain": [
       "<Sheet [Book1]USD>"
      ]
     },
     "execution_count": 6,
     "metadata": {},
     "output_type": "execute_result"
    }
   ],
   "source": [
    "source_book.sheets[0].copy(name='USD', after=new_book.sheets[0])"
   ]
  },
  {
   "cell_type": "markdown",
   "metadata": {},
   "source": [
    "Лист скопирован в новый файл. На практике такая автоматизация как правило имеет смысл для большого количества файлов. Поэтому в конечном итоге мы бы хотели получить цикл, который перебирает все файлы excel в папке и копирует из них листы с курсами в новый файл.\n",
    "\n",
    "Для начала получим список всех файлов в папке с выгрузками."
   ]
  },
  {
   "cell_type": "code",
   "execution_count": 7,
   "metadata": {},
   "outputs": [
    {
     "name": "stdout",
     "output_type": "stream",
     "text": [
      "['CHF.xlsx', 'EUR.xlsx', 'JPY.xlsx', 'not excel file.txt', 'USD.xlsx']\n"
     ]
    }
   ],
   "source": [
    "files = os.listdir('../Examples/Exchange rates')\n",
    "print(files)"
   ]
  },
  {
   "cell_type": "markdown",
   "metadata": {},
   "source": [
    "Как видим в полученном списке не только искомые файлы с выгрузками, но также лишний текстовый файл 'not excel file.txt', а также временный файл '~$USD.xlsx', который создался, когда мы открыли файл USD.xlsx. Чтобы отфильтровать их воспользуемся условием и проверим, что:\n",
    "1. Расширение файла относится к стандартным файлам excel (xls, xlsx)\n",
    "2. Название файла не начинается на знак ~\n",
    "\n",
    "Для начала разделим полное название каждого файла на собственно имя файла и расширение и присвоим их отдельным переменным file_name и file_ext.\n",
    "\n",
    "Чтобы проверить является ли расширение одним из тех, которые используются excel можно воспользоваться оператором ``in``, который позволяет проверить входит ли определенное значение в список.\n",
    "\n",
    "Например"
   ]
  },
  {
   "cell_type": "code",
   "execution_count": 8,
   "metadata": {},
   "outputs": [],
   "source": [
    "lst = ['a', 'b', 'd']"
   ]
  },
  {
   "cell_type": "code",
   "execution_count": 9,
   "metadata": {},
   "outputs": [
    {
     "data": {
      "text/plain": [
       "True"
      ]
     },
     "execution_count": 9,
     "metadata": {},
     "output_type": "execute_result"
    }
   ],
   "source": [
    "'b' in lst # 'b' входит в список"
   ]
  },
  {
   "cell_type": "code",
   "execution_count": 10,
   "metadata": {},
   "outputs": [
    {
     "data": {
      "text/plain": [
       "False"
      ]
     },
     "execution_count": 10,
     "metadata": {},
     "output_type": "execute_result"
    }
   ],
   "source": [
    "'c' in lst # а 'c' не входит"
   ]
  },
  {
   "cell_type": "markdown",
   "metadata": {},
   "source": [
    "Для проверки того, что название файла начинается с тильды воспользуемся свойством того, что все строковые объекты в python итерируемые, и просто сравним первый элемент (с индексом 0) в имени каждого файла со знаком \"~\"."
   ]
  },
  {
   "cell_type": "code",
   "execution_count": 11,
   "metadata": {},
   "outputs": [
    {
     "name": "stdout",
     "output_type": "stream",
     "text": [
      "CHF\n",
      "EUR\n",
      "JPY\n",
      "USD\n"
     ]
    }
   ],
   "source": [
    "for file in files: # перебираем все файлы в папке\n",
    "    file_name = os.path.splitext(file)[0] # первый элемент в кортеже, возвращаемом функцией splitext, - имя файла\n",
    "    file_ext = os.path.splitext(file)[1] # второй элемент - расширение файла\n",
    "    if (file_ext in ['.xls', '.xlsx']) and (file_name[0] != '~'):\n",
    "        print(file_name)"
   ]
  },
  {
   "cell_type": "markdown",
   "metadata": {},
   "source": [
    "Как видим, мы получили только имена файлов с выгрузками. Теперь сохраним адрес папки с выгрузками в отдельную переменную source (она еще пригодится нам позже для оформления нашего скрипта в функцию) и получим полный адрес каждого файла (full_path), объединив путь к папке с выгрузками с названиями каждого excel файла, перебираемого в цикле.\n",
    "\n",
    "Далее повторим ранее использованную логику для копирования листов в excel в цикле. Будем открывать каждый файл, который мы определили как файл excel, копировать из него первый (и единственный) лист и вставлять его в новую книгу.\n",
    "\n",
    "Для корректной работы примера, закройте файлы Book1.xlsx и USD.xlsx (и все другие файлы из папки с выгрузками, если они открыты)."
   ]
  },
  {
   "cell_type": "code",
   "execution_count": 12,
   "metadata": {},
   "outputs": [],
   "source": [
    "source = '../Examples/Exchange rates/'\n",
    "new_book = xw.Book()\n",
    "\n",
    "for file in files:\n",
    "    file_name, file_ext = os.path.splitext(file) # можно присвоить элементы кортежа сразу двум переменным одной инструкцией\n",
    "    if (file_ext in ['.xls', '.xlsx']) and (file_name[0] != '~'):\n",
    "        full_path = source + file\n",
    "        source_book = xw.books.open(full_path)\n",
    "        source_book.sheets[0].copy(name=file_name, after=new_book.sheets[0])\n",
    "        source_book.close() # не забываем закрывать не используемые файлы!"
   ]
  },
  {
   "cell_type": "markdown",
   "metadata": {},
   "source": [
    "Все вкладки скопированы в новую книгу. Для удобства использования этого скрипта, оформим его в виде функции. Пусть наша функция принимает адрес папки с выгрузками, которые необходимо объединить, а также адрес и имя файла, в который нужно сохранить результат. Причем второй параметр можно сделать опциональным: если он не указан, файл будет сохраняться под каким-нибудь стандартным именем (например, \"combined.xlsx\") в папке с нашим скриптом (в данном случае с jupyter noteboook)."
   ]
  },
  {
   "cell_type": "code",
   "execution_count": 13,
   "metadata": {},
   "outputs": [],
   "source": [
    "def combine_excels(source, dest='combined.xlsx'):\n",
    "    \n",
    "    import xlwings as xw\n",
    "    import os\n",
    "    \n",
    "    files = os.listdir(source)\n",
    "    new_book = xw.Book()\n",
    "    \n",
    "    for file in files:\n",
    "        file_name, file_ext = os.path.splitext(file)\n",
    "        if (file_ext in ['.xls', '.xlsx']) and (file_name[0] != '~'):\n",
    "            full_path = source + file\n",
    "            source_book = xw.books.open(full_path)\n",
    "            source_book.sheets[0].copy(name=file_name, after=new_book.sheets[0])\n",
    "            source_book.close()\n",
    "            \n",
    "    new_book.save(dest)"
   ]
  },
  {
   "cell_type": "markdown",
   "metadata": {},
   "source": [
    "Закроем все файлы excel и протестируем нашу функцию"
   ]
  },
  {
   "cell_type": "code",
   "execution_count": 15,
   "metadata": {},
   "outputs": [],
   "source": [
    "combine_excels('../Examples/Exchange rates/')"
   ]
  },
  {
   "cell_type": "markdown",
   "metadata": {},
   "source": [
    "В качестве последнего штриха можно скрыть процесс открывания файлов, копирования данных и перевести все операции в excel в фоновый режим. Для этого перед выполнением цикла нужно найти объект ``Application`` (приложение excel), с которым мы работаем, и установить свойство ``visible`` для этого объекта равным **False**, а в после выполнения скрипта, вернуть значение по умолчанию (**True**)."
   ]
  },
  {
   "cell_type": "code",
   "execution_count": 16,
   "metadata": {},
   "outputs": [],
   "source": [
    "def combine_excels(source, dest='combined.xlsx'):\n",
    "    \n",
    "    import xlwings as xw\n",
    "    import os\n",
    "    \n",
    "    files = os.listdir(source)\n",
    "    new_book = xw.Book()\n",
    "    \n",
    "    app = xw.apps.active # найти активное приложение Excel\n",
    "    app.visible = False # отключить для него обновление экрана\n",
    "    \n",
    "    for file in files:\n",
    "        file_name, file_ext = os.path.splitext(file)\n",
    "        if (file_ext in ['.xls', '.xlsx']) and (file_name[0] != '~'):\n",
    "            full_path = source + file\n",
    "            source_book = xw.books.open(full_path)\n",
    "            source_book.sheets[0].copy(name=file_name, after=new_book.sheets[0])\n",
    "            source_book.close()\n",
    "            \n",
    "    new_book.save(dest)\n",
    "    app.visible = True # включить обратно обновление экрана для Excel"
   ]
  },
  {
   "cell_type": "code",
   "execution_count": 17,
   "metadata": {},
   "outputs": [],
   "source": [
    "combine_excels('../Examples/Exchange rates/')"
   ]
  },
  {
   "cell_type": "markdown",
   "metadata": {},
   "source": [
    "### Задание"
   ]
  },
  {
   "cell_type": "markdown",
   "metadata": {},
   "source": [
    "Для того, чтобы немного попрактиковать полученные знания, попробуйте написать схожую функцию, которая также будет собирать данные из каждого excel файла в указанной папке, но в отличие от рассмотренного примера, данные будут не вставляться отдельными листами в новую книгу, а собираться в единый pandas DataFrame. А затем объединенный массив с данными по всем валютам должен сохраняться в отдельный файл excel."
   ]
  }
 ],
 "metadata": {
  "kernelspec": {
   "display_name": "Python 3",
   "language": "python",
   "name": "python3"
  },
  "language_info": {
   "codemirror_mode": {
    "name": "ipython",
    "version": 3
   },
   "file_extension": ".py",
   "mimetype": "text/x-python",
   "name": "python",
   "nbconvert_exporter": "python",
   "pygments_lexer": "ipython3",
   "version": "3.9.6"
  }
 },
 "nbformat": 4,
 "nbformat_minor": 4
}
