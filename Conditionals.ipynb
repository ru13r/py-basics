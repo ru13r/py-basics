{
 "cells": [
  {
   "cell_type": "markdown",
   "metadata": {},
   "source": [
    "# Типы данных\n",
    "\n",
    "Вспоним, что строки - это последовательности символов в кавычках."
   ]
  },
  {
   "cell_type": "code",
   "execution_count": 2,
   "metadata": {},
   "outputs": [],
   "source": [
    "s1 = 'Hello'\n",
    "s2 = 'World'"
   ]
  },
  {
   "cell_type": "markdown",
   "metadata": {},
   "source": [
    "Строки можно \"складывать\". Такая операция называется *конкатенацией (concatenation)*. Для конкатенации используется оператор ``+``:"
   ]
  },
  {
   "cell_type": "code",
   "execution_count": 3,
   "metadata": {},
   "outputs": [
    {
     "data": {
      "text/plain": [
       "'HelloWorld'"
      ]
     },
     "execution_count": 3,
     "metadata": {},
     "output_type": "execute_result"
    }
   ],
   "source": [
    "s1 + s2"
   ]
  },
  {
   "cell_type": "markdown",
   "metadata": {},
   "source": [
    "Мы можем использовать не только переменные, но и литералы (обращаем внимание на кавычки):"
   ]
  },
  {
   "cell_type": "code",
   "execution_count": 4,
   "metadata": {},
   "outputs": [
    {
     "data": {
      "text/plain": [
       "'Hello World!'"
      ]
     },
     "execution_count": 4,
     "metadata": {},
     "output_type": "execute_result"
    }
   ],
   "source": [
    "s1 + ' ' + s2 + '!'"
   ]
  },
  {
   "cell_type": "markdown",
   "metadata": {},
   "source": [
    "Запись конкатенации при помощи знака ``+`` не случайна. Операция очень похожа на сложение натуральных чисел. А можно ли \"умножать\" строки? Попробуем:"
   ]
  },
  {
   "cell_type": "code",
   "execution_count": 7,
   "metadata": {},
   "outputs": [
    {
     "data": {
      "text/plain": [
       "'HelloHelloHello'"
      ]
     },
     "execution_count": 7,
     "metadata": {},
     "output_type": "execute_result"
    }
   ],
   "source": [
    "s1 * 3"
   ]
  },
  {
   "cell_type": "markdown",
   "metadata": {},
   "source": [
    "Оказывается, да! В этом случае строка повторяется нужное количество раз."
   ]
  },
  {
   "cell_type": "markdown",
   "metadata": {},
   "source": [
    "## Функция str\n",
    "\n",
    "Операцию ``+`` можно использовать и для чисел, и для строк. \n",
    "\n",
    "Как Питон понимает, когда переменная является числом, а когда строкой? Попробуем вывести на экран текст ``\"Number: 33\"``:"
   ]
  },
  {
   "cell_type": "code",
   "execution_count": 1,
   "metadata": {},
   "outputs": [
    {
     "ename": "TypeError",
     "evalue": "can only concatenate str (not \"int\") to str",
     "output_type": "error",
     "traceback": [
      "\u001b[0;31m---------------------------------------------------------------------------\u001b[0m",
      "\u001b[0;31mTypeError\u001b[0m                                 Traceback (most recent call last)",
      "\u001b[1;32m/Users/ru13r/devel/py-basics/Conditionals.ipynb Cell 11'\u001b[0m in \u001b[0;36m<module>\u001b[0;34m\u001b[0m\n\u001b[1;32m      <a href='vscode-notebook-cell:/Users/ru13r/devel/py-basics/Conditionals.ipynb#ch0000010?line=0'>1</a>\u001b[0m number \u001b[39m=\u001b[39m \u001b[39m33\u001b[39m\n\u001b[1;32m      <a href='vscode-notebook-cell:/Users/ru13r/devel/py-basics/Conditionals.ipynb#ch0000010?line=1'>2</a>\u001b[0m message \u001b[39m=\u001b[39m \u001b[39m\"\u001b[39m\u001b[39mNumber: \u001b[39m\u001b[39m\"\u001b[39m\n\u001b[0;32m----> <a href='vscode-notebook-cell:/Users/ru13r/devel/py-basics/Conditionals.ipynb#ch0000010?line=2'>3</a>\u001b[0m message \u001b[39m+\u001b[39;49m number\n",
      "\u001b[0;31mTypeError\u001b[0m: can only concatenate str (not \"int\") to str"
     ]
    }
   ],
   "source": [
    "number = 33\n",
    "message = \"Number: \"\n",
    "message + number"
   ]
  },
  {
   "cell_type": "markdown",
   "metadata": {},
   "source": [
    "Как и ожидалось, Питон не может сложить строоку и число. Интерпретатор выдал *ошибку типа (TypeError)* - и объяснил, что нельзя складывать яблоки с бананами!\n",
    "\n",
    "Как исправить ситуацию? Необходимо преобразовать число в строку. Для этого есть специальная функция ``str``: "
   ]
  },
  {
   "cell_type": "code",
   "execution_count": 12,
   "metadata": {},
   "outputs": [
    {
     "data": {
      "text/plain": [
       "'33'"
      ]
     },
     "execution_count": 12,
     "metadata": {},
     "output_type": "execute_result"
    }
   ],
   "source": [
    "str(number)"
   ]
  },
  {
   "cell_type": "markdown",
   "metadata": {},
   "source": [
    "Обратите внимание, что в выводе появились кавычки. \n",
    "* ``'33'`` это строка, состоящая из двух цифр ``'3'``. \n",
    "* а ``33`` (без кавычек) - это целое число. \n",
    "\n",
    "Для интерпретатора это разные типы данных. \n",
    "\n",
    "Исправим наш код:"
   ]
  },
  {
   "cell_type": "code",
   "execution_count": 2,
   "metadata": {},
   "outputs": [
    {
     "data": {
      "text/plain": [
       "'Number: 33'"
      ]
     },
     "execution_count": 2,
     "metadata": {},
     "output_type": "execute_result"
    }
   ],
   "source": [
    "message + str(number)"
   ]
  },
  {
   "cell_type": "markdown",
   "metadata": {},
   "source": [
    "Теперь все работает!\n",
    "\n",
    "Функцию ``str`` применяют, чтобы вывести данные пользователю (на экран или в файл).\n",
    "\n",
    "В Jupyter Notebook это происходит автоматически. При вычислении ячейки:\n",
    "* вычисляется выражение или выполняется инструкция\n",
    "* к результату (если он есть) автоматически применяется функция ``str``, и он выводится на экран.\n"
   ]
  },
  {
   "cell_type": "markdown",
   "metadata": {},
   "source": [
    "## Функция print\n",
    "\n",
    "Вывод сообщений на экран нужно так часто, что для этой задачи предусмотрена функция ``print``."
   ]
  },
  {
   "cell_type": "code",
   "execution_count": 13,
   "metadata": {},
   "outputs": [
    {
     "name": "stdout",
     "output_type": "stream",
     "text": [
      "25\n"
     ]
    }
   ],
   "source": [
    "a = 10\n",
    "b = 15\n",
    "print(a+b)"
   ]
  },
  {
   "cell_type": "markdown",
   "metadata": {},
   "source": [
    "Функция ``print`` неявно перобразовывает свой аргумент в строку, вызывая \"под капотом\" функцию ``str``. \n",
    "\n",
    "Большинство встроенных типов и объектов Питона можно вывести на печать.\n",
    "Для ручного форматирования вывода следует вызывать функцию ``str`` явно, как в примере выше."
   ]
  },
  {
   "cell_type": "markdown",
   "metadata": {},
   "source": [
    "## Функции int и float\n",
    "\n",
    "Если вы получили числовые данные извне, скорее всего, они будут в строковом формате. Для работы надо преобразовать их в числовые значения. Для этого есть встроенные функции ``int`` для **целочисленного значения (integer)** и ``float`` для значения с **плавающей точкой (float)**. "
   ]
  },
  {
   "cell_type": "code",
   "execution_count": 4,
   "metadata": {},
   "outputs": [
    {
     "data": {
      "text/plain": [
       "33.0"
      ]
     },
     "execution_count": 4,
     "metadata": {},
     "output_type": "execute_result"
    }
   ],
   "source": [
    "a = '33'\n",
    "float(a)"
   ]
  },
  {
   "cell_type": "code",
   "execution_count": 5,
   "metadata": {},
   "outputs": [
    {
     "data": {
      "text/plain": [
       "33"
      ]
     },
     "execution_count": 5,
     "metadata": {},
     "output_type": "execute_result"
    }
   ],
   "source": [
    "int(a)"
   ]
  },
  {
   "cell_type": "markdown",
   "metadata": {},
   "source": [
    "Без преобразования Питон будет интерпретировать ввод как строковое значение.\n",
    "Ниже мы используем функцию ``input``, которая выводит приглашение на экран и ожидает ввода от пользователя. \n",
    "\n",
    "Ввод пользователя - это всегда набор символов, введенный с клавиатуры (то есть строка). Питон обрабатывает его как строку, если ему явно не указать иное.\n",
    "\n",
    "Int и float это тоже разные типы (видно выше). В арифметических операциях Питон выполняет приведение типа автоматически. Если мы делим целое число ``2`` на целое число ``3`` то получаем ``1.5`` - число с плавающеей точкой.\n",
    "\n",
    "Исправьте программу, чтобы она интерпретировала ввод ползователя как число число:"
   ]
  },
  {
   "cell_type": "code",
   "execution_count": 21,
   "metadata": {},
   "outputs": [
    {
     "name": "stdout",
     "output_type": "stream",
     "text": [
      "The result:234234\n"
     ]
    }
   ],
   "source": [
    "a = input('Enter the number:')\n",
    "a = 2 * a\n",
    "print('The result:' + a)"
   ]
  },
  {
   "cell_type": "markdown",
   "metadata": {},
   "source": [
    "# Истина и ложь\n",
    "\n",
    "## Литералы True и False\n",
    "\n",
    "В Питоне предусмотрены два литерала ``True`` и ``False`` которые означают логические **истину** и **ложь**. Эти литералы в программировании называются **булевскими (Boolean)** в честь фамилии математика Буля (Bool), который занимался исследованиями в области логики в первой половине 20 века.\n",
    "\n",
    "Булевские величины позволяют управлять логикой вычислений.\n",
    "\n",
    "*Аналогия с Excel* В Excel встроены значения TRUE и FALSE, а с булевскими выражениями мы сталкиваемся, когда используем функции OR, NOT, AND."
   ]
  },
  {
   "cell_type": "markdown",
   "metadata": {},
   "source": [
    "## Операторы сравнения\n",
    "\n",
    "В Питоне предусмотрено пять операторов сравнения:\n",
    "\n",
    "| Оператор | Название              | Пример |\n",
    "|----------| ---------             |------- |\n",
    "| ``==``   | равенство             | ``x == y`` |\n",
    "| ``!=``   | неравенство           | ``x != y`` |\n",
    "| ``>``    | больше, чем           | ``x < y``  |\n",
    "| ``<``    | меньше, чем           | ``x > y``  |\n",
    "| ``>=``   | больше или равно, чем | ``x >= y`` |\n",
    "| ``<=``   | меньше или равно, чем | ``x <= y`` |\n",
    "\n",
    "В результате вычисления выражений с данными оператороми мы получаем булевскую величину - либо ``True``, либо  ``False``.\n",
    "\n",
    "Обратите внимание: оператор равенства это двойной знак равенства (``==``), не путайте его с оператором присваивания (``=``).\n",
    "\n",
    "Примеры:"
   ]
  },
  {
   "cell_type": "code",
   "execution_count": 22,
   "metadata": {},
   "outputs": [
    {
     "data": {
      "text/plain": [
       "True"
      ]
     },
     "execution_count": 22,
     "metadata": {},
     "output_type": "execute_result"
    }
   ],
   "source": [
    "2 + 2 == 4"
   ]
  },
  {
   "cell_type": "code",
   "execution_count": 23,
   "metadata": {},
   "outputs": [
    {
     "data": {
      "text/plain": [
       "False"
      ]
     },
     "execution_count": 23,
     "metadata": {},
     "output_type": "execute_result"
    }
   ],
   "source": [
    "2 + 3 == 1"
   ]
  },
  {
   "cell_type": "code",
   "execution_count": 25,
   "metadata": {},
   "outputs": [
    {
     "data": {
      "text/plain": [
       "False"
      ]
     },
     "execution_count": 25,
     "metadata": {},
     "output_type": "execute_result"
    }
   ],
   "source": [
    "2 + 3 * 9**2 > 8 ** 3"
   ]
  },
  {
   "cell_type": "markdown",
   "metadata": {},
   "source": [
    "Операторы равенства имеют более низкий приоритет, чем арифметические операции. То есть \n",
    "* сначала выполняются все арифметические действия, \n",
    "* затем выполняются операции сравнения. \n",
    "\n",
    "Часто можно поставить скобки, чтобы выражение легче читалось, или если вы сомневаетесь в результате:"
   ]
  },
  {
   "cell_type": "code",
   "execution_count": 26,
   "metadata": {},
   "outputs": [
    {
     "data": {
      "text/plain": [
       "False"
      ]
     },
     "execution_count": 26,
     "metadata": {},
     "output_type": "execute_result"
    }
   ],
   "source": [
    "(2 + 3 * 9**2) > (8 ** 3)"
   ]
  },
  {
   "cell_type": "markdown",
   "metadata": {},
   "source": [
    "Скобки в данном случае не влияют на результат. Но так выражение прочитать проще."
   ]
  },
  {
   "cell_type": "markdown",
   "metadata": {},
   "source": [
    "## Сравнение строк\n",
    "\n",
    "Строки также можно сравнивать друг с другом:"
   ]
  },
  {
   "cell_type": "code",
   "execution_count": 27,
   "metadata": {},
   "outputs": [
    {
     "data": {
      "text/plain": [
       "True"
      ]
     },
     "execution_count": 27,
     "metadata": {},
     "output_type": "execute_result"
    }
   ],
   "source": [
    "'a' + 'b' == 'ab'"
   ]
  },
  {
   "cell_type": "code",
   "execution_count": 28,
   "metadata": {},
   "outputs": [
    {
     "data": {
      "text/plain": [
       "True"
      ]
     },
     "execution_count": 28,
     "metadata": {},
     "output_type": "execute_result"
    }
   ],
   "source": [
    "'a' < 'b'"
   ]
  },
  {
   "cell_type": "markdown",
   "metadata": {},
   "source": [
    "Питон чувствителен к регистру: ``a`` и ``A`` это разные буквы!"
   ]
  },
  {
   "cell_type": "code",
   "execution_count": 36,
   "metadata": {},
   "outputs": [
    {
     "data": {
      "text/plain": [
       "False"
      ]
     },
     "execution_count": 36,
     "metadata": {},
     "output_type": "execute_result"
    }
   ],
   "source": [
    "'a' == 'A'"
   ]
  },
  {
   "cell_type": "code",
   "execution_count": 37,
   "metadata": {},
   "outputs": [
    {
     "data": {
      "text/plain": [
       "False"
      ]
     },
     "execution_count": 37,
     "metadata": {},
     "output_type": "execute_result"
    }
   ],
   "source": [
    "'apple' <= 'banana'"
   ]
  },
  {
   "cell_type": "markdown",
   "metadata": {},
   "source": [
    "Сравнение строк выполняется в лексикографическом порядке (сначала по длине, затем в алфавитном порядке по каждой букве). Но не все так просто:"
   ]
  },
  {
   "cell_type": "code",
   "execution_count": 6,
   "metadata": {},
   "outputs": [
    {
     "data": {
      "text/plain": [
       "False"
      ]
     },
     "execution_count": 6,
     "metadata": {},
     "output_type": "execute_result"
    }
   ],
   "source": [
    "'apple' <= 'Apple'"
   ]
  },
  {
   "cell_type": "markdown",
   "metadata": {},
   "source": [
    "Питон \"под капотом\" сравнивает номера символов (просто числа) в кодовой таблице. В данное таблице буква ``A`` имеет меньший номер, чем ``a`` (то есть сначала идут все заглавные буквы, потом уже все строчные).\n",
    "\n",
    "Для получения номера символа в таблице используется функция ``ord`` (от слова \"order\"), а для получения символа по номеру ``chr`` (от слова \"character\"):"
   ]
  },
  {
   "cell_type": "code",
   "execution_count": 38,
   "metadata": {},
   "outputs": [
    {
     "data": {
      "text/plain": [
       "65"
      ]
     },
     "execution_count": 38,
     "metadata": {},
     "output_type": "execute_result"
    }
   ],
   "source": [
    "ord('A')"
   ]
  },
  {
   "cell_type": "code",
   "execution_count": 40,
   "metadata": {},
   "outputs": [
    {
     "data": {
      "text/plain": [
       "'A'"
      ]
     },
     "execution_count": 40,
     "metadata": {},
     "output_type": "execute_result"
    }
   ],
   "source": [
    "chr(65)"
   ]
  },
  {
   "cell_type": "markdown",
   "metadata": {},
   "source": [
    "Ниже приведен фрагмент кодовой таблицы для кодов от 32 до 126 (код поймем, когда разберемся со списками):"
   ]
  },
  {
   "cell_type": "code",
   "execution_count": 60,
   "metadata": {},
   "outputs": [
    {
     "data": {
      "text/plain": [
       "'  ! \" # $ % & \\' ( ) * + , - . / 0 1 2 3 4 5 6 7 8 9 : ; < = > ? @ A B C D E F G H I J K L M N O P Q R S T U V W X Y Z [ \\\\ ] ^ _ ` a b c d e f g h i j k l m n o p q r s t u v w x y z { | } ~'"
      ]
     },
     "execution_count": 60,
     "metadata": {},
     "output_type": "execute_result"
    }
   ],
   "source": [
    "' '.join([chr(x) for x in range(32,127)])"
   ]
  },
  {
   "cell_type": "markdown",
   "metadata": {},
   "source": [
    "Все символы кодируются числами. Поэтому ``'3'`` (строка из одного символа) и число ``3`` - разные вещи. Символ ``'3'`` имеет код 51 в таблице."
   ]
  },
  {
   "cell_type": "code",
   "execution_count": 50,
   "metadata": {},
   "outputs": [
    {
     "data": {
      "text/plain": [
       "51"
      ]
     },
     "execution_count": 50,
     "metadata": {},
     "output_type": "execute_result"
    }
   ],
   "source": [
    "ord('3')"
   ]
  },
  {
   "cell_type": "code",
   "execution_count": 7,
   "metadata": {},
   "outputs": [
    {
     "data": {
      "text/plain": [
       "'\\x03'"
      ]
     },
     "execution_count": 7,
     "metadata": {},
     "output_type": "execute_result"
    }
   ],
   "source": [
    "chr(3)"
   ]
  },
  {
   "cell_type": "markdown",
   "metadata": {},
   "source": [
    "Строки в памяти компьютера являются обычной последовательностью чисел. \n",
    "\n",
    "При выводе на экран к ней применяется кодовая таблица и в результате печатаются символы."
   ]
  },
  {
   "cell_type": "markdown",
   "metadata": {},
   "source": [
    "## Булевские выражения"
   ]
  },
  {
   "cell_type": "markdown",
   "metadata": {},
   "source": [
    "Выражения, результатом которых является **ИСТИНА** или **ЛОЖЬ** называются **булевскими выражениями (boolean expressions)** и применяются в программировании повсеместно, поскольку позволяют управлять логикой исполнения программы:\n",
    "\n",
    "* выполнять какие-то оперции только при определенному условии (ветвление)\n",
    "* выполнять какие-то операции пока условие не будет выполнено (циклы)\n",
    "\n",
    "Булевские выражения также прекрасно подходят для описания состояний типа \"включено / выключено\" или \"да или нет\":\n",
    "\n",
    "* Существует ли какой-то объект?\n",
    "* Найдена ли искомая величина?\n",
    "* Включен ли какой-то режим?\n",
    "* Произошла ли ошибка?\n",
    "* и т. д."
   ]
  },
  {
   "cell_type": "markdown",
   "metadata": {},
   "source": [
    "## Булевские операции"
   ]
  },
  {
   "cell_type": "markdown",
   "metadata": {},
   "source": [
    "В Питоне есть три логические операции: ``and``, ``or``, ``not``.\n",
    "\n",
    "Таблица истинности для ``and``  и ``or`` представлена ниже:\n",
    "\n",
    "| A         | B         | A ``and`` B | A ``or`` B | \n",
    "|-----------|-----------|-------------|------------|\n",
    "| ``False`` | ``False`` | ``False``   | ``False``  |\n",
    "| ``True``  | ``False`` | ``False``   | ``True``   |\n",
    "| ``False`` | ``True``  | ``False``   | ``True``   |\n",
    "| ``True``  | ``True``  | ``True``    | ``True``   |\n",
    "\n",
    "* Операция ``and`` возвращает истинное значение, если все операнды истинные (выполняются все условия).\n",
    "* Операция ``or`` возвращает истинное значение, если хотя бы один операнд истинный (выполняется хотя бы одно условие).\n",
    "\n",
    "Операция ``not`` унарная, то есть ей необходим только один агрумент:\n",
    "\n",
    "| A         | ``not`` A | \n",
    "|-----------|-----------|\n",
    "| ``True``  | ``False`` | \n",
    "| ``False`` | ``True``  |\n",
    "\n",
    "Примеры логических операций:"
   ]
  },
  {
   "cell_type": "code",
   "execution_count": 61,
   "metadata": {},
   "outputs": [
    {
     "data": {
      "text/plain": [
       "False"
      ]
     },
     "execution_count": 61,
     "metadata": {},
     "output_type": "execute_result"
    }
   ],
   "source": [
    "not True"
   ]
  },
  {
   "cell_type": "code",
   "execution_count": 62,
   "metadata": {},
   "outputs": [
    {
     "data": {
      "text/plain": [
       "True"
      ]
     },
     "execution_count": 62,
     "metadata": {},
     "output_type": "execute_result"
    }
   ],
   "source": [
    "not False"
   ]
  },
  {
   "cell_type": "code",
   "execution_count": 70,
   "metadata": {},
   "outputs": [
    {
     "data": {
      "text/plain": [
       "True"
      ]
     },
     "execution_count": 70,
     "metadata": {},
     "output_type": "execute_result"
    }
   ],
   "source": [
    "a = 10\n",
    "\n",
    "(a % 5 == 0) or (a % 3 == 0)"
   ]
  },
  {
   "cell_type": "code",
   "execution_count": 8,
   "metadata": {},
   "outputs": [
    {
     "data": {
      "text/plain": [
       "True"
      ]
     },
     "execution_count": 8,
     "metadata": {},
     "output_type": "execute_result"
    }
   ],
   "source": [
    "a = 1\n",
    "command = \"add\"\n",
    "\n",
    "command == \"add\" and not (a == 2)"
   ]
  },
  {
   "cell_type": "markdown",
   "metadata": {},
   "source": [
    "## Ассоциативность и порядок операций\n",
    "\n",
    "Операции, которые принимают один аргумент, называются **унарными (unary)**, а те которым нужны два аргумента, называются **бинарными (binary)**. \n",
    "* ``not`` - это унарная операция, \n",
    "* арифметические операции, операции сравнения, логические ``and`` и ``or`` - это бинарные операции.\n",
    "\n",
    "Все бинарные операции в Питоне являются ассоциативными, то есть их результат не зависит от расстановки скобок. На примере сложения:"
   ]
  },
  {
   "cell_type": "code",
   "execution_count": 72,
   "metadata": {},
   "outputs": [
    {
     "data": {
      "text/plain": [
       "True"
      ]
     },
     "execution_count": 72,
     "metadata": {},
     "output_type": "execute_result"
    }
   ],
   "source": [
    "1 + 2 + 3 + 5 == ((1 + 2) + 3) + 5 "
   ]
  },
  {
   "cell_type": "markdown",
   "metadata": {},
   "source": [
    "Ассоциативность позволяет применять бинарную операцию к большему чем два количеству аргументов. Каждый ``+`` применяется к двум аргументам, просто мы не пишем скобки явно благодаря ассоциативности.\n",
    "\n",
    "Операции ``and`` и ``or`` тоже являются ассоциативными. То есть мы можем конструировать цепочки:\n"
   ]
  },
  {
   "cell_type": "code",
   "execution_count": 73,
   "metadata": {},
   "outputs": [
    {
     "data": {
      "text/plain": [
       "True"
      ]
     },
     "execution_count": 73,
     "metadata": {},
     "output_type": "execute_result"
    }
   ],
   "source": [
    "x = 1000\n",
    "\n",
    "(x >= 999) and (x <= 1001) and (x % 100 == 0)"
   ]
  },
  {
   "cell_type": "markdown",
   "metadata": {},
   "source": [
    "В силу определения операций ``and`` и ``or``, в случае многих аргументов: \n",
    "* ``and`` истинно, если и только если *все* аргументы истинные,\n",
    "*  ``or`` ложно, если и только если все аргументы ложные.\n",
    "\n",
    "При этом Питон вычисляет выражения слева направо:\n",
    "* цепочка с ``and`` вычисляется до первого значения ``False`` (что идет дальше уже не важно, результат ``False``)\n",
    "* цепочка с ``or`` вычисляется до первого значения ``True`` (что идет дальше уже не важно, результат ``True``)"
   ]
  },
  {
   "cell_type": "markdown",
   "metadata": {},
   "source": [
    "Приоритет логических операций ниже, чем у операций сравнения. Поэтому скобки в примере выше мы можем опустить (но оставили для читабельности!). \n",
    "\n",
    "Теперь мы можем составить таблицу приоритета операций (более высокая строка означает более высокий приоритет):\n",
    "\n",
    "| Оператор                 | Название  | \n",
    "|------------------------- |-----------|\n",
    "| ``()``                   | скобки       | \n",
    "| ``**``                   | экспонента (возведение в степень)  |\n",
    "| ``\\*, /, //, %``         | умножение и деление, частное и остаток  |\n",
    "| ``+ -``                  | сложение и вычитание  |\n",
    "| ``==, !=, <, >, <=, >=`` | операторы сравнения |\n",
    "| ``not``                  | логическое НЕ |\n",
    "| ``and``                  | логическое И  |\n",
    "| ``or ``                  | логическое ИЛИ|\n",
    "\n",
    "Понимать приоритет необходимо для работы с инструкциями ``if`` или ``while``. Чтобы не запутаться и для облегчения чтения кода, всегда можно поставить \"лишние\" скобки."
   ]
  },
  {
   "cell_type": "markdown",
   "metadata": {},
   "source": [
    "# Инструкция if\n",
    "\n",
    "Инструкция ``if`` позволяет сделать выполнение кода **условным (conditional)**, то есть зависимым от выполнения условия. Базовый синтаксис следующий:\n",
    "```python\n",
    "if <булевское выражение>:\n",
    "    <код, который выполнится, только если выражение истинное>\n",
    "```\n",
    "Пример:"
   ]
  },
  {
   "cell_type": "code",
   "execution_count": 75,
   "metadata": {},
   "outputs": [
    {
     "name": "stdout",
     "output_type": "stream",
     "text": [
      "X - четное\n"
     ]
    }
   ],
   "source": [
    "x = 10\n",
    "if x % 2 == 0:\n",
    "    print('X - четное')"
   ]
  },
  {
   "cell_type": "markdown",
   "metadata": {},
   "source": [
    "Знак двоеточия (``:``) создает в Питоне вложенный блок кода. \n",
    "\n",
    "**Блок (block)** это группа инструкций (одна или более строк кода, которые логически связаны). \n",
    "\n",
    "Для выделения блоков в используются **отступы (indents)**. \n",
    "Отсутуп группирует код под инструкцией ``if`` в блок, который выполняется только при истинном значении выражения. "
   ]
  },
  {
   "cell_type": "code",
   "execution_count": 9,
   "metadata": {},
   "outputs": [
    {
     "name": "stdout",
     "output_type": "stream",
     "text": [
      "checking the fruit...\n",
      "x is apple!\n",
      "apples are fresh\n",
      "x is a fruit anyway!\n"
     ]
    }
   ],
   "source": [
    "x = 'apple'\n",
    "\n",
    "print('checking the fruit...')\n",
    "if x == 'banana':\n",
    "    print('x is banana!')\n",
    "    print('bananas are good')\n",
    "\n",
    "if x == 'apple':\n",
    "    print('x is apple!')\n",
    "    print('apples are fresh')\n",
    "\n",
    "print ('x is a fruit anyway!')\n",
    "\n"
   ]
  },
  {
   "cell_type": "markdown",
   "metadata": {},
   "source": [
    "Поскольку последняя инструкция ``print`` не входит в блоки под ``if`` (нет отступа!), она выполняется безусловно (всегда).\n",
    "\n",
    "Если мы хотим выполнить одни действия, когда условие выполняется, а другие только в противном случае, для нас предусмотрели инструкцию ``else``:\n",
    "```python\n",
    "if <булевское выражение>:\n",
    "    <код, который выполнится, если выражение истино>\n",
    "else:\n",
    "    <код, который выполнится, если выражение ложно>\n",
    "```"
   ]
  },
  {
   "cell_type": "code",
   "execution_count": 10,
   "metadata": {},
   "outputs": [
    {
     "name": "stdout",
     "output_type": "stream",
     "text": [
      "x is banana!\n"
     ]
    }
   ],
   "source": [
    "x = 'banana'\n",
    "\n",
    "if x == 'banana':\n",
    "    print('x is banana!')\n",
    "else:\n",
    "    print('x is not a banana!')\n"
   ]
  },
  {
   "cell_type": "markdown",
   "metadata": {},
   "source": [
    "Без ключевого слово ``else`` инструкция ``print('x is not a banana!')`` выполнилась бы безусловно:"
   ]
  },
  {
   "cell_type": "code",
   "execution_count": 81,
   "metadata": {},
   "outputs": [
    {
     "name": "stdout",
     "output_type": "stream",
     "text": [
      "x is banana!\n",
      "x is not a banana!\n"
     ]
    }
   ],
   "source": [
    "x = 'banana'\n",
    "if x == 'banana':\n",
    "    print('x is banana!')\n",
    "print('x is not a banana!')"
   ]
  },
  {
   "cell_type": "markdown",
   "metadata": {},
   "source": [
    "Если необходимо последовательно (а не одновременно) проверить несколько условий, например, мы можем вложить инструкции ``if`` друг в друга:"
   ]
  },
  {
   "cell_type": "code",
   "execution_count": 83,
   "metadata": {},
   "outputs": [
    {
     "name": "stdout",
     "output_type": "stream",
     "text": [
      "x is neither a banana, nor an apple, nor an orange!\n"
     ]
    }
   ],
   "source": [
    "x = 'some other fruit'\n",
    "if x == 'banana':\n",
    "    print('x is banana!')\n",
    "else:\n",
    "    if x == 'apple':\n",
    "        print('x is an apple!')\n",
    "    else:\n",
    "        if x == 'orange':\n",
    "            print ('okay, x is an orange')\n",
    "        else:\n",
    "            print('x is neither a banana, nor an apple, nor an orange!')\n"
   ]
  },
  {
   "cell_type": "markdown",
   "metadata": {},
   "source": [
    "Код с вложенными отступами тяжело воспринимать, поэтому создатели Питона предусмотрели ключевое слово ``elif``:\n",
    "\n",
    "```python\n",
    "if <выражение1>:\n",
    "    <код выполнится, если выражение1 истинно>\n",
    "elif <выражение2>:\n",
    "    <код выполнится, если выражение2 истинно>\n",
    "elif <выражение3>:\n",
    "    и т. д.\n",
    "else:\n",
    "    <код, который выполнится, если выражение ложно>\n",
    "```\n",
    "Перепишем предыдущий пример с помощью ``elif``:"
   ]
  },
  {
   "cell_type": "code",
   "execution_count": 84,
   "metadata": {},
   "outputs": [
    {
     "name": "stdout",
     "output_type": "stream",
     "text": [
      "x is neither a banana, nor an apple, nor an orange!\n"
     ]
    }
   ],
   "source": [
    "x = 'some other fruit'\n",
    "if x == 'banana':\n",
    "    print('x is banana!')\n",
    "elif x == 'apple':\n",
    "    print('x is an apple!')\n",
    "elif x == 'orange':\n",
    "    print ('okay, x is an orange')\n",
    "else:\n",
    "    print('x is neither a banana, nor an apple, nor an orange!')"
   ]
  },
  {
   "cell_type": "markdown",
   "metadata": {},
   "source": [
    "Заметили, насколько легче код с ``elif`` воспринимается?"
   ]
  },
  {
   "cell_type": "markdown",
   "metadata": {},
   "source": [
    "# Циклы while\n",
    "\n",
    "Мы научились выполнять инструкции в зависимости от условий. \n",
    "\n",
    "Если нужно повторить действия несколько раз. Для этого предусмотрены **циклы (cycles)** или, как их еще называют, **петли (loops)**.\n",
    "\n",
    "Код под инструкцией ``while`` выполняется \"по кругу\", пока некоторое условие истинно:\n",
    "```python\n",
    "while <булевское выражение>:\n",
    "    <код выполнится, если выражение истинно, а затем выполнение начнется сначала>\n",
    "```\n",
    "Это проще понять на примере:"
   ]
  },
  {
   "cell_type": "code",
   "execution_count": 86,
   "metadata": {},
   "outputs": [
    {
     "name": "stdout",
     "output_type": "stream",
     "text": [
      "0\n",
      "1\n",
      "2\n",
      "3\n",
      "4\n",
      "5\n"
     ]
    }
   ],
   "source": [
    "x = 0\n",
    "while x <= 5:\n",
    "    print(x)\n",
    "    x = x + 1"
   ]
  },
  {
   "cell_type": "markdown",
   "metadata": {},
   "source": [
    "Данный цикл \n",
    "1. проверяет, является ли истинным выражение под ключевым словом ``while``\n",
    "1. печатает содержимое переменной `x`\n",
    "1. увелчичивает значение ``x`` на единицу\n",
    "1. возвращается к пункту 1\n",
    "\n",
    "Этот код - рецепт повторения действий ``n`` раз:\n"
   ]
  },
  {
   "cell_type": "code",
   "execution_count": null,
   "metadata": {},
   "outputs": [],
   "source": [
    "i = 0\n",
    "n = 10\n",
    "while (i < n):\n",
    "    # do something\n",
    "    # do something else\n",
    "    i += 1"
   ]
  },
  {
   "cell_type": "markdown",
   "metadata": {},
   "source": [
    "А вот такой цикл будет исполняться вечно, так как под словом ``while`` стоит значение, которое всегда истинно:"
   ]
  },
  {
   "cell_type": "code",
   "execution_count": 11,
   "metadata": {},
   "outputs": [
    {
     "ename": "KeyboardInterrupt",
     "evalue": "",
     "output_type": "error",
     "traceback": [
      "\u001b[0;31m---------------------------------------------------------------------------\u001b[0m",
      "\u001b[0;31mKeyboardInterrupt\u001b[0m                         Traceback (most recent call last)",
      "\u001b[1;32m/Users/ru13r/devel/py-basics/Conditionals.ipynb Cell 82'\u001b[0m in \u001b[0;36m<module>\u001b[0;34m\u001b[0m\n\u001b[1;32m      <a href='vscode-notebook-cell:/Users/ru13r/devel/py-basics/Conditionals.ipynb#ch0000080?line=0'>1</a>\u001b[0m x \u001b[39m=\u001b[39m \u001b[39m0\u001b[39m\n\u001b[1;32m      <a href='vscode-notebook-cell:/Users/ru13r/devel/py-basics/Conditionals.ipynb#ch0000080?line=1'>2</a>\u001b[0m \u001b[39mwhile\u001b[39;00m \u001b[39mTrue\u001b[39;00m:\n\u001b[0;32m----> <a href='vscode-notebook-cell:/Users/ru13r/devel/py-basics/Conditionals.ipynb#ch0000080?line=2'>3</a>\u001b[0m     x \u001b[39m=\u001b[39m x \u001b[39m+\u001b[39;49m \u001b[39m1\u001b[39;49m\n",
      "\u001b[0;31mKeyboardInterrupt\u001b[0m: "
     ]
    }
   ],
   "source": [
    "x = 0\n",
    "while True:\n",
    "    x = x + 1"
   ]
  },
  {
   "cell_type": "markdown",
   "metadata": {},
   "source": [
    "Все сталкивались с зависанием программ. Скорее всего, где-то в их коде попался бесконечный цикл...\n",
    "\n",
    "Но иногда такое поведение программы осмысленно. Например, если вы пишете сервер, который будет висеть в памяти и обрабатывать входящие запросы. "
   ]
  },
  {
   "cell_type": "markdown",
   "metadata": {},
   "source": [
    "Давайте, напишем, программу, которая суммирует последовательные нечетные числа:"
   ]
  },
  {
   "cell_type": "code",
   "execution_count": 12,
   "metadata": {},
   "outputs": [
    {
     "name": "stdout",
     "output_type": "stream",
     "text": [
      "1\n",
      "4\n",
      "9\n",
      "16\n",
      "25\n",
      "36\n",
      "49\n",
      "64\n",
      "81\n",
      "100\n",
      "out of the cycle\n"
     ]
    }
   ],
   "source": [
    "N = 10     # сколько числе надо просуммировать\n",
    "k = 1      # первое число\n",
    "i = 1      # наш счетчик\n",
    "result = 0 # здесь мы будем хранить результат\n",
    "\n",
    "while (i <= N):\n",
    "    result = result + k\n",
    "    print(result)\n",
    "    k = k + 2\n",
    "    i = i + 1\n",
    "print('out of the cycle')"
   ]
  },
  {
   "cell_type": "markdown",
   "metadata": {},
   "source": [
    "Интересный результат. Оказывается последовательное суммирование нечетных чисел дает нам последовательные квадраты :)\n",
    "\n",
    "Что если мы хотим прервать цикл досрочно? Например, если резултат превысил 50? Для управления циклом существуют две инструкции: \n",
    "\n",
    "* ``break`` - немедленно прерывает цикл\n",
    "* ``continue`` - возвращает исполнение в начало цикла\n",
    "\n",
    "Модифицируем предыдущий пример, чтобы он завершился, как только результат больше 50:"
   ]
  },
  {
   "cell_type": "code",
   "execution_count": null,
   "metadata": {},
   "outputs": [],
   "source": [
    "N = 10     # сколько числе надо просуммировать\n",
    "k = 1      # первое число\n",
    "i = 1      # наш счетчик\n",
    "result = 0 # здесь мы будем хранить результат\n",
    "\n",
    "while (i <= N):\n",
    "    result = result + k\n",
    "    if result > 50:\n",
    "        break\n",
    "    print(result)\n",
    "    k = k + 2\n",
    "    i = i + 1\n",
    "print('out of the cycle')"
   ]
  },
  {
   "cell_type": "markdown",
   "metadata": {},
   "source": [
    "Пример использования ``continue`` - найдем все делители числа:"
   ]
  },
  {
   "cell_type": "code",
   "execution_count": 98,
   "metadata": {},
   "outputs": [
    {
     "name": "stdout",
     "output_type": "stream",
     "text": [
      "1\n",
      "3\n",
      "5\n",
      "9\n",
      "15\n",
      "45\n"
     ]
    }
   ],
   "source": [
    "number = 45  # наше число\n",
    "divisor = 0  # \n",
    "\n",
    "while (divisor <= number):\n",
    "    divisor += 1                 # на каждом шаге увеличиваем делитель на 1 (перебираем все)\n",
    "    if (number % divisor != 0):  # если остаток от деления ненулевой (не делится!) \n",
    "        continue                 # то сразу прыгаем в начало цикла\n",
    "    print(divisor)               # а вот эта инструкция выполнится, только если делится"
   ]
  },
  {
   "cell_type": "markdown",
   "metadata": {},
   "source": [
    "К управлению циклами при помощи ``break`` и ``continue`` мы еще вернемся, когда будем разбирать списки и цикл ``for`` в менее искуственных примерах."
   ]
  },
  {
   "cell_type": "markdown",
   "metadata": {},
   "source": [
    "# Что мы усвоили?\n",
    "\n",
    "Строки (**strings**)\n",
    "\n",
    "* строки можно \"складывать\" при помощи операции **конкатенации (concatenation)** ``+``\n",
    "* можно преобразовывать числа в строки с помощью ``str`` и обратно с помощью ``int`` и ``float``\n",
    "* символы в строках кодируются таблицей (функции ``ord`` и ``chr``)\n",
    "\n",
    "Булевские величины (**booleans**)\n",
    "* операторы ``and``, ``or`` и ``not`` работают по таблицам истинности\n",
    "* сравнения (``==``, ``<=``, ``>=``, ``!=``, ``<``, ``>``) являются булевскими операциями (дают ``True`` и ``False``)\n",
    "* порядок выполнения операций зависит от приоритета\n",
    "\n",
    "Управление исполнением программы (**control flow**)\n",
    "* инструкция ``if..elif..else`` позволяет выполнять **условным исполнением (conditional)**\n",
    "* инструкция while позволяет создать **цикл (loop)**\n",
    "* циклом можно управлять при помощи ``break`` и ``continue``\n",
    "\n",
    "Мы также узнали, что для группировки инструкций в **блоки кода (code blocks)** Питон использует **сдвиг indentation**. Это отличительная особенность Питона от многих языков, которая делает код на Питоне хорошо читаемым.\n",
    "\n",
    "Что осталось за кадром? В Питоне есть также **побитовые (bitwise)** операции и операторы побитового сравнения. Однако это чуть более сложная тема, и для простоты мы их здесь не разбирали. "
   ]
  },
  {
   "cell_type": "markdown",
   "metadata": {},
   "source": []
  }
 ],
 "metadata": {
  "interpreter": {
   "hash": "edd03d84c871bdfbd07a148ccd6ab54f96410cb62f1cefdae755a7e488bb954a"
  },
  "kernelspec": {
   "display_name": "Python 3.9.10 64-bit ('venv39')",
   "language": "python",
   "name": "python3"
  },
  "language_info": {
   "codemirror_mode": {
    "name": "ipython",
    "version": 3
   },
   "file_extension": ".py",
   "mimetype": "text/x-python",
   "name": "python",
   "nbconvert_exporter": "python",
   "pygments_lexer": "ipython3",
   "version": "3.9.10"
  },
  "orig_nbformat": 4
 },
 "nbformat": 4,
 "nbformat_minor": 2
}
