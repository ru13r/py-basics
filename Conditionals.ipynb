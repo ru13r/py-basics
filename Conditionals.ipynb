{
 "cells": [
  {
   "cell_type": "markdown",
   "metadata": {},
   "source": [
    "# Строки - продолжение\n",
    "\n",
    "## Операции со строками\n",
    "\n",
    "Вспоним, что строковые литералы в Питоне пишутся в кавычках:"
   ]
  },
  {
   "cell_type": "code",
   "execution_count": 2,
   "metadata": {},
   "outputs": [],
   "source": [
    "s1 = 'Hello'\n",
    "s2 = 'World'"
   ]
  },
  {
   "cell_type": "markdown",
   "metadata": {},
   "source": [
    "Строки можно \"складывать\". Такая операция называется конкатенацией (concatenation). Для конкатенации используется оператор ``+``:"
   ]
  },
  {
   "cell_type": "code",
   "execution_count": 3,
   "metadata": {},
   "outputs": [
    {
     "data": {
      "text/plain": [
       "'HelloWorld'"
      ]
     },
     "execution_count": 3,
     "metadata": {},
     "output_type": "execute_result"
    }
   ],
   "source": [
    "s1 + s2"
   ]
  },
  {
   "cell_type": "markdown",
   "metadata": {},
   "source": [
    "Естественно, мы можем использовать не только переменные, но и литералы (обращаем внимание на кавычки):"
   ]
  },
  {
   "cell_type": "code",
   "execution_count": 4,
   "metadata": {},
   "outputs": [
    {
     "data": {
      "text/plain": [
       "'Hello World!'"
      ]
     },
     "execution_count": 4,
     "metadata": {},
     "output_type": "execute_result"
    }
   ],
   "source": [
    "s1 + ' ' + s2 + '!'"
   ]
  },
  {
   "cell_type": "markdown",
   "metadata": {},
   "source": [
    "Запись конкатенации при помощи знака ``+`` не случайна. Это действительно похоже на сложение. А можно ли \"умножать\" строки? Попробуем:"
   ]
  },
  {
   "cell_type": "code",
   "execution_count": 7,
   "metadata": {},
   "outputs": [
    {
     "data": {
      "text/plain": [
       "'HelloHelloHello'"
      ]
     },
     "execution_count": 7,
     "metadata": {},
     "output_type": "execute_result"
    }
   ],
   "source": [
    "s1 * 3"
   ]
  },
  {
   "cell_type": "markdown",
   "metadata": {},
   "source": [
    "Оказывается, да! Но только на целые числа. В этом случае строка повторяется нужное количество раз."
   ]
  },
  {
   "cell_type": "markdown",
   "metadata": {},
   "source": [
    "## Функция str\n",
    "\n",
    "Раз ``+`` используется и для сложения, и для конкатенации строк, интересно, как Питон понимает, когда речь идет о числе, а когда о строке? Давайте попробуем \"сложить\" строку и число:"
   ]
  },
  {
   "cell_type": "code",
   "execution_count": null,
   "metadata": {},
   "outputs": [],
   "source": [
    "number = 33\n",
    "message = \"Number: \"\n",
    "message + number"
   ]
  },
  {
   "cell_type": "markdown",
   "metadata": {},
   "source": [
    "Как и ожидалось, Питон не может сложить строоку и число. Такая операция бессмысленная, поскольку для строк ``+`` означает конкатенацию, а для чисел - сложение. \n",
    "\n",
    "Как исправить ситуацию? Для этого в Питоне есть специальная функция ``str``, которая преобразовывает свой аргумент в строку: "
   ]
  },
  {
   "cell_type": "code",
   "execution_count": 12,
   "metadata": {},
   "outputs": [
    {
     "data": {
      "text/plain": [
       "'33'"
      ]
     },
     "execution_count": 12,
     "metadata": {},
     "output_type": "execute_result"
    }
   ],
   "source": [
    "str(number)"
   ]
  },
  {
   "cell_type": "markdown",
   "metadata": {},
   "source": [
    "Обратите внимание, что в выводе появились кавычки. ``'33'`` это строка из двух цифр, а ``33`` целое число. Для интерпретатора это разные вещи. \n",
    "\n",
    "Исправим наш код:"
   ]
  },
  {
   "cell_type": "code",
   "execution_count": 9,
   "metadata": {},
   "outputs": [
    {
     "data": {
      "text/plain": [
       "'Number: 3'"
      ]
     },
     "execution_count": 9,
     "metadata": {},
     "output_type": "execute_result"
    }
   ],
   "source": [
    "message + str(number)"
   ]
  },
  {
   "cell_type": "markdown",
   "metadata": {},
   "source": [
    "Теперь все работает!\n",
    "\n",
    "Что надо запомнить: внутри интерпретатора живут числа, списки и прочие объекты. Их внутреннее представление, с которым работает логика программы не читабельна для человека. Для того, чтобы показать их пользователю необходимо преобразовать их в строки. \n",
    "\n",
    "Кстати в Jupyter это происходит автоматически, когда мы даем ему команду вычислить ячейку."
   ]
  },
  {
   "cell_type": "markdown",
   "metadata": {},
   "source": [
    "## Функция print\n",
    "\n",
    "Вывод сообщений с результатами работы программ применяется так часто, что в большинстве языков предусмотрена специальная функция ``print``."
   ]
  },
  {
   "cell_type": "code",
   "execution_count": 13,
   "metadata": {},
   "outputs": [
    {
     "name": "stdout",
     "output_type": "stream",
     "text": [
      "25\n"
     ]
    }
   ],
   "source": [
    "a = 10\n",
    "b = 15\n",
    "print(a+b)"
   ]
  },
  {
   "cell_type": "markdown",
   "metadata": {},
   "source": [
    "Функция ``print`` неявно перобразовывает свой аргумент в строку, вызывая \"под капотом\" функцию ``str``. \n",
    "\n",
    "Большинство встроенных типов и объектов Питона могут быть выведены на печать. Это видно, когда мы вычисляем ячейку Jupyter Notebook.\n",
    "\n",
    "Для ручного форматирования вывода следует вызывать функцию ``str`` явно, как в примере выше."
   ]
  },
  {
   "cell_type": "markdown",
   "metadata": {},
   "source": [
    "## Функции int и float\n",
    "\n",
    "Если вы получили данные из файла, скорее всего они будут в строковом формате. Для преобразования их в числовые значения следует использовать встроенные функции ``int`` и ``float`` для **целочисленного значения (integer)** или значения с **плавающей точкой (float)**. "
   ]
  },
  {
   "cell_type": "code",
   "execution_count": 15,
   "metadata": {},
   "outputs": [
    {
     "data": {
      "text/plain": [
       "33.0"
      ]
     },
     "execution_count": 15,
     "metadata": {},
     "output_type": "execute_result"
    }
   ],
   "source": [
    "a = '33'\n",
    "float(a)"
   ]
  },
  {
   "cell_type": "markdown",
   "metadata": {},
   "source": [
    "Без преобразования Питон будет интерпретировать ввод как строковое значение (исправьте программу, чтобы она читала число):"
   ]
  },
  {
   "cell_type": "code",
   "execution_count": 21,
   "metadata": {},
   "outputs": [
    {
     "name": "stdout",
     "output_type": "stream",
     "text": [
      "The result:234234\n"
     ]
    }
   ],
   "source": [
    "a = input('Enter the number:')\n",
    "a = 2 * a\n",
    "print('The result:' + a)"
   ]
  },
  {
   "cell_type": "markdown",
   "metadata": {},
   "source": [
    "# Истина и ложь\n",
    "\n",
    "## Литералы True и False\n",
    "\n",
    "В Питоне предусмотрены два литерала ``True`` и ``False`` которые означают логические **истину** и **ложь**. Эти литералы в программировании называются **булевскими (Boolean)** в честь фамилии математика Буля (Bool), который занимался исследованиями в области логики в первой половине 20 века.\n",
    "\n",
    "Булевские величины являются ключевым элементом любой программы и позволяют управлять логикой вычислений.\n",
    "\n",
    "В Excel есть функции TRUE и FALSE, а с булевскими выражениями мы сталкиваемся, когда используем функцию IF."
   ]
  },
  {
   "cell_type": "markdown",
   "metadata": {},
   "source": [
    "## Операторы сравнения\n",
    "\n",
    "В Питоне предусмотрено пять операторов сравнения:\n",
    "\n",
    "| Оператор | Название              | Пример |\n",
    "|----------| ---------             |------- |\n",
    "| ``==``   | равенство             | ``x == y`` |\n",
    "| ``!=``   | неравенство           | ``x != y`` |\n",
    "| ``>``    | больше, чем           | ``x < y``  |\n",
    "| ``<``    | меньше, чем           | ``x > y``  |\n",
    "| ``>=``   | больше или равно, чем | ``x >= y`` |\n",
    "| ``<=``   | меньше или равно, чем | ``x <= y`` |\n",
    "\n",
    "В результате вычисления выражений с данными оператороми мы получаем булевскую величину - либо ``True``, либо  ``False``.\n",
    "\n",
    "Обратите внимание: оператор равенства это двойной знак равенства (``==``), не путайте его с оператором присваивания (``=``).\n",
    "\n",
    "Примеры:"
   ]
  },
  {
   "cell_type": "code",
   "execution_count": 22,
   "metadata": {},
   "outputs": [
    {
     "data": {
      "text/plain": [
       "True"
      ]
     },
     "execution_count": 22,
     "metadata": {},
     "output_type": "execute_result"
    }
   ],
   "source": [
    "2 + 2 == 4"
   ]
  },
  {
   "cell_type": "code",
   "execution_count": 23,
   "metadata": {},
   "outputs": [
    {
     "data": {
      "text/plain": [
       "False"
      ]
     },
     "execution_count": 23,
     "metadata": {},
     "output_type": "execute_result"
    }
   ],
   "source": [
    "2 + 3 == 1"
   ]
  },
  {
   "cell_type": "code",
   "execution_count": 25,
   "metadata": {},
   "outputs": [
    {
     "data": {
      "text/plain": [
       "False"
      ]
     },
     "execution_count": 25,
     "metadata": {},
     "output_type": "execute_result"
    }
   ],
   "source": [
    "2 + 3 * 9**2 > 8 ** 3"
   ]
  },
  {
   "cell_type": "markdown",
   "metadata": {},
   "source": [
    "Операторы равенства имеют более низкий приоритет, чем арифметические операции. То есть сначала выполняются все арифметические действия, затем операции сравнения. Однако лучше поставить скобки, чтобы выражение легче читалось, или если вы сомневаетесь:"
   ]
  },
  {
   "cell_type": "code",
   "execution_count": 26,
   "metadata": {},
   "outputs": [
    {
     "data": {
      "text/plain": [
       "False"
      ]
     },
     "execution_count": 26,
     "metadata": {},
     "output_type": "execute_result"
    }
   ],
   "source": [
    "(2 + 3 * 9**2) > (8 ** 3)"
   ]
  },
  {
   "cell_type": "markdown",
   "metadata": {},
   "source": [
    "Скобки в данном случае не влияют на результат. Но так выражение прочитать проще."
   ]
  },
  {
   "cell_type": "markdown",
   "metadata": {},
   "source": [
    "## Сравнение строк\n",
    "\n",
    "Строки также можно сравнивать друг с другом:"
   ]
  },
  {
   "cell_type": "code",
   "execution_count": 27,
   "metadata": {},
   "outputs": [
    {
     "data": {
      "text/plain": [
       "True"
      ]
     },
     "execution_count": 27,
     "metadata": {},
     "output_type": "execute_result"
    }
   ],
   "source": [
    "'a' + 'b' == 'ab'"
   ]
  },
  {
   "cell_type": "code",
   "execution_count": 28,
   "metadata": {},
   "outputs": [
    {
     "data": {
      "text/plain": [
       "True"
      ]
     },
     "execution_count": 28,
     "metadata": {},
     "output_type": "execute_result"
    }
   ],
   "source": [
    "'a' < 'b'"
   ]
  },
  {
   "cell_type": "markdown",
   "metadata": {},
   "source": [
    "Питон чувствителен к регистру: ``a`` и ``A`` это разные буквы!"
   ]
  },
  {
   "cell_type": "code",
   "execution_count": 36,
   "metadata": {},
   "outputs": [
    {
     "data": {
      "text/plain": [
       "False"
      ]
     },
     "execution_count": 36,
     "metadata": {},
     "output_type": "execute_result"
    }
   ],
   "source": [
    "'a' == 'A'"
   ]
  },
  {
   "cell_type": "code",
   "execution_count": 37,
   "metadata": {},
   "outputs": [
    {
     "data": {
      "text/plain": [
       "False"
      ]
     },
     "execution_count": 37,
     "metadata": {},
     "output_type": "execute_result"
    }
   ],
   "source": [
    "'apple' <= 'banana'"
   ]
  },
  {
   "cell_type": "markdown",
   "metadata": {},
   "source": [
    "Сравнение строк выполняется в лексикографическом порядке (по алфавиту). Но не все так просто::"
   ]
  },
  {
   "cell_type": "code",
   "execution_count": null,
   "metadata": {},
   "outputs": [],
   "source": [
    "'apple' <= 'Apple'"
   ]
  },
  {
   "cell_type": "markdown",
   "metadata": {},
   "source": [
    "На самом деле \"под капотом\" Питон сравнивает номера символов (букв и цифр) в кодовой таблице. А в ней буква ``A`` имеет меньший номер, чем ``a`` (то есть сначала идут все заглавные буквы, потом уже все строчные).\n",
    "\n",
    "Для получения номера символа в таблице используется функция ``ord``, а для получения символа по номеру ``chr``:"
   ]
  },
  {
   "cell_type": "code",
   "execution_count": 38,
   "metadata": {},
   "outputs": [
    {
     "data": {
      "text/plain": [
       "65"
      ]
     },
     "execution_count": 38,
     "metadata": {},
     "output_type": "execute_result"
    }
   ],
   "source": [
    "ord('A')"
   ]
  },
  {
   "cell_type": "code",
   "execution_count": 40,
   "metadata": {},
   "outputs": [
    {
     "data": {
      "text/plain": [
       "'A'"
      ]
     },
     "execution_count": 40,
     "metadata": {},
     "output_type": "execute_result"
    }
   ],
   "source": [
    "chr(65)"
   ]
  },
  {
   "cell_type": "markdown",
   "metadata": {},
   "source": [
    "Вот, например, кусок кодовой таблицы для кодов от 32 до 126 (код поймем, когда разберемся со списками):"
   ]
  },
  {
   "cell_type": "code",
   "execution_count": 60,
   "metadata": {},
   "outputs": [
    {
     "data": {
      "text/plain": [
       "'  ! \" # $ % & \\' ( ) * + , - . / 0 1 2 3 4 5 6 7 8 9 : ; < = > ? @ A B C D E F G H I J K L M N O P Q R S T U V W X Y Z [ \\\\ ] ^ _ ` a b c d e f g h i j k l m n o p q r s t u v w x y z { | } ~'"
      ]
     },
     "execution_count": 60,
     "metadata": {},
     "output_type": "execute_result"
    }
   ],
   "source": [
    "' '.join([chr(x) for x in range(32,127)])"
   ]
  },
  {
   "cell_type": "markdown",
   "metadata": {},
   "source": [
    "Таким образом все символы алфавита кодируются обычными числами. И именно поэтому ``'3'`` (строка) это не то же самое, что число ``3``. Символ ``'3'`` имеет код 51 в таблице."
   ]
  },
  {
   "cell_type": "code",
   "execution_count": 50,
   "metadata": {},
   "outputs": [
    {
     "data": {
      "text/plain": [
       "51"
      ]
     },
     "execution_count": 50,
     "metadata": {},
     "output_type": "execute_result"
    }
   ],
   "source": [
    "ord('3')"
   ]
  },
  {
   "cell_type": "markdown",
   "metadata": {},
   "source": [
    "Полезно запомнить, что строки для компьютера являются ни чем иным, как последовательностью чисел. Просто при выводе на экран, в браузере или еще где-либо, применяется кодовая таблица и печатаются символы."
   ]
  },
  {
   "cell_type": "markdown",
   "metadata": {},
   "source": [
    "## Булевские выражения"
   ]
  },
  {
   "cell_type": "markdown",
   "metadata": {},
   "source": [
    "Выражения, результатом которых является **ИСТИНА** или **ЛОЖЬ** называются **булевскими выражениями (boolean expressions)** и применяются в программировании повсеместно, поскольку позволяют управлять логикой исполнения программы:\n",
    "\n",
    "* выполнять какие-то оперции только при определенному условии (ветвление)\n",
    "* выполнять какие-то операции пока условие не будет выполнено (циклы)\n",
    "\n",
    "Булевские выражения также прекрасно подходят для описания состояний типа \"включено / выключено\" или \"да или нет\":\n",
    "\n",
    "* Существует ли какой-то объект?\n",
    "* Найдена ли искомая величина?\n",
    "* Включен ли какой-то режим?\n",
    "* Произошла ли ошибка?\n",
    "* и т. д."
   ]
  },
  {
   "cell_type": "markdown",
   "metadata": {},
   "source": [
    "## Булевские операции"
   ]
  },
  {
   "cell_type": "markdown",
   "metadata": {},
   "source": [
    "Булевские величины можно комбинировать с помощью логических операции \"не\", \"и\", \"или\". Это позволяет проверять выполнение нескольких условий одновременно и программировать сложную логику."
   ]
  },
  {
   "cell_type": "markdown",
   "metadata": {},
   "source": [
    "В Питоне есть три логические операции: ``and``, ``or``, ``not``.\n",
    "\n",
    "Таблица истинности для ``and``  и ``or`` представлена ниже:\n",
    "\n",
    "| A         | B         | A ``and`` B | A ``or`` B | \n",
    "|-----------|-----------|-------------|------------|\n",
    "| ``False`` | ``False`` | ``False``   | ``False``  |\n",
    "| ``True``  | ``False`` | ``False``   | ``True``   |\n",
    "| ``False`` | ``True``  | ``False``   | ``True``   |\n",
    "| ``True``  | ``True``  | ``True``    | ``True``   |\n",
    "\n",
    "* Операция ``and`` возвращает истинное значение, если все операнды истинные (выполняются все условия).\n",
    "* Операция ``or`` возвращает истинное значение, если хотя бы один операнд истинный (выполняется хотя бы одно условие).\n",
    "\n",
    "Операция ``not`` унарная, то есть ей необходим только один агрумент:\n",
    "\n",
    "| A         | ``not`` A | \n",
    "|-----------|-----------|\n",
    "| ``True``  | ``False`` | \n",
    "| ``False`` | ``True``  |\n",
    "\n",
    "Примеры логических операций:"
   ]
  },
  {
   "cell_type": "code",
   "execution_count": 61,
   "metadata": {},
   "outputs": [
    {
     "data": {
      "text/plain": [
       "False"
      ]
     },
     "execution_count": 61,
     "metadata": {},
     "output_type": "execute_result"
    }
   ],
   "source": [
    "not True"
   ]
  },
  {
   "cell_type": "code",
   "execution_count": 62,
   "metadata": {},
   "outputs": [
    {
     "data": {
      "text/plain": [
       "True"
      ]
     },
     "execution_count": 62,
     "metadata": {},
     "output_type": "execute_result"
    }
   ],
   "source": [
    "not False"
   ]
  },
  {
   "cell_type": "code",
   "execution_count": 70,
   "metadata": {},
   "outputs": [
    {
     "data": {
      "text/plain": [
       "True"
      ]
     },
     "execution_count": 70,
     "metadata": {},
     "output_type": "execute_result"
    }
   ],
   "source": [
    "a = 10\n",
    "\n",
    "(a % 5 == 0) or (a % 3 == 0)"
   ]
  },
  {
   "cell_type": "code",
   "execution_count": 68,
   "metadata": {},
   "outputs": [
    {
     "data": {
      "text/plain": [
       "True"
      ]
     },
     "execution_count": 68,
     "metadata": {},
     "output_type": "execute_result"
    }
   ],
   "source": [
    "a = 1\n",
    "command = \"add\"\n",
    "\n",
    "command == \"add\" and a == 1"
   ]
  },
  {
   "cell_type": "markdown",
   "metadata": {},
   "source": [
    "## Ассоциативность и порядок операций\n",
    "\n",
    "Добавим немного алгебры.\n",
    "\n",
    "Операции, которые принимают один операнд, называются **унарными (unary)**, а те которым нужны два операнда, называются **бинарными (binary)**. Так, ``not`` это унарная операция, а уже изученные нами арифметические операции, операции сравнения, а также логические ``and`` и ``or`` - это бинарные операции.\n",
    "\n",
    "Все бинарные операции в Питоне являются ассоциативными, то есть их результат не зависит от расстановки скобок. На примере сложения:"
   ]
  },
  {
   "cell_type": "code",
   "execution_count": 72,
   "metadata": {},
   "outputs": [
    {
     "data": {
      "text/plain": [
       "True"
      ]
     },
     "execution_count": 72,
     "metadata": {},
     "output_type": "execute_result"
    }
   ],
   "source": [
    "1 + 2 + 3 + 5 == ((1 + 2) + 3) + 5 "
   ]
  },
  {
   "cell_type": "markdown",
   "metadata": {},
   "source": [
    "Возможность расстановки скобок без изменения результата позволяет объединять не два, а большее количество операндов в вычислении. Каждый ``+`` под капотом применяется к двум аргументам, просто  мы опускаем скобки, поскольку операции являются ассоциативными, и на результат это не влияет.\n",
    "\n",
    "Операции ``and`` и ``or`` тоже являются ассоциативными. То есть мы можем конструировать цепочки:\n"
   ]
  },
  {
   "cell_type": "code",
   "execution_count": 73,
   "metadata": {},
   "outputs": [
    {
     "data": {
      "text/plain": [
       "True"
      ]
     },
     "execution_count": 73,
     "metadata": {},
     "output_type": "execute_result"
    }
   ],
   "source": [
    "x = 1000\n",
    "\n",
    "(x >= 999) and (x <= 1001) and (x % 100 == 0)"
   ]
  },
  {
   "cell_type": "markdown",
   "metadata": {},
   "source": [
    "Питон вычисляет истинность выражений слева направо, при этом в силу определения операций ``and`` и ``or``:\n",
    "\n",
    "* цепочка с ``and`` вычисляется до первого значения ``False`` (что будет дальше уже не важно)\n",
    "* цепочка с ``or`` вычисляется до первого значения ``True`` (это тоже определяет результат!)\n",
    "\n",
    "Это очень полезно в программах. Можно использовать ``and`` для последовательного выполнения действий, каждое их которых обязано завершиться успехом, а ``or`` для дефолтных значений."
   ]
  },
  {
   "cell_type": "markdown",
   "metadata": {},
   "source": [
    "Приоритет логических операций ниже, чем у операций сравнения. Поэтому скобки в примере выше мы можем опустить (но оставили для читабельности!). Теперь мы можем показать (упрощенную) таблицу приоритета Питоновских операций (более высокая строка означает более высокий приоритет):\n",
    "\n",
    "| Оператор                 | Название  | \n",
    "|------------------------- |-----------|\n",
    "| ``()``                   | скобки       | \n",
    "| ``**``                   | экспонента (возведение в степень)  |\n",
    "| ``\\*, /, //, %``         | умножение и деление, частное и остаток  |\n",
    "| ``+ -``                  | сложение и вычитание  |\n",
    "| ``==, !=, <, >, <=, >=`` | операторы сравнения |\n",
    "| ``not``                  | логическое НЕ |\n",
    "| ``and``                  | логическое И  |\n",
    "| ``or ``                  | логическое ИЛИ|\n",
    "\n",
    "Порядок (приоритет) операций полезно иметь ввиду, когда мы работаем с инструкциями ``if`` или ``while``, чтобы понимать в каком порядке Питон вычисляет выражения. Часто можно ставить скобки для облегчения чтения кода.\n"
   ]
  },
  {
   "cell_type": "markdown",
   "metadata": {},
   "source": [
    "# Инструкция if\n",
    "\n",
    "Инструкция ``if`` позволяет сделать выполнение кода **условным (conditional)**, то есть зависимым от выполнения некотрого условия. Базовый синтаксис следующий:\n",
    "```python\n",
    "if <булевское выражение>:\n",
    "    <код, который выполнится, если выражение истино>\n",
    "```\n",
    "Пример:"
   ]
  },
  {
   "cell_type": "code",
   "execution_count": 75,
   "metadata": {},
   "outputs": [
    {
     "name": "stdout",
     "output_type": "stream",
     "text": [
      "X - четное\n"
     ]
    }
   ],
   "source": [
    "x = 10\n",
    "if x % 2 == 0:\n",
    "    print('X - четное')"
   ]
  },
  {
   "cell_type": "markdown",
   "metadata": {},
   "source": [
    "Знак двоеточия (``:``) создает в Питоне вложенный блок кода. \n",
    "\n",
    "**Блок (block)** это группа инструкций. Проще говоря, это одна или более строк кода, которые логически связаны. \n",
    "\n",
    "Для выделения блока используются **отступы (indents)**. Это очень удобно!\n",
    "Рассмотрим еще один блок!"
   ]
  },
  {
   "cell_type": "code",
   "execution_count": 76,
   "metadata": {},
   "outputs": [
    {
     "name": "stdout",
     "output_type": "stream",
     "text": [
      "checking which fruit is that...\n",
      "x is apple!\n",
      "x is a fruit anyway!\n"
     ]
    }
   ],
   "source": [
    "x = 'apple'\n",
    "\n",
    "print('checking the fruit...')\n",
    "if x == 'banana':\n",
    "    print('x is banana!')\n",
    "    print('bananas are good')\n",
    "\n",
    "if x == 'apple':\n",
    "    print('x is apple!')\n",
    "    print('apples are fresh')\n",
    "\n",
    "print ('x is a fruit anyway!')\n",
    "\n"
   ]
  },
  {
   "cell_type": "markdown",
   "metadata": {},
   "source": [
    "Блоки кода с отступом под инструкцией ``if`` выполняются только при истинном значении выражений. Блоки кода без отсупа выполняются безусловно.\n",
    "\n",
    "Что если нам надо выполнить один блок кода, если условие выполняется, и другой блок, если оно *не выполняется*. Для такого случая существует инструкция ``else``:\n",
    "```python\n",
    "if <булевское выражение>:\n",
    "    <код, который выполнится, если выражение истино>\n",
    "else:\n",
    "    <код, который выполнится, если выражение ложно>\n",
    "```"
   ]
  },
  {
   "cell_type": "code",
   "execution_count": 80,
   "metadata": {},
   "outputs": [
    {
     "name": "stdout",
     "output_type": "stream",
     "text": [
      "x is banana!\n"
     ]
    }
   ],
   "source": [
    "x = 'banana'\n",
    "\n",
    "if x == 'banana':\n",
    "    print('x is banana!')\n",
    "else:\n",
    "    print('x is not a banana!')\n"
   ]
  },
  {
   "cell_type": "markdown",
   "metadata": {},
   "source": [
    "Заметьте, что ключевое слово ``else`` тут важно. Без него инструкция ``print('x is not a banana!')`` выполнилась бы безусловно:"
   ]
  },
  {
   "cell_type": "code",
   "execution_count": 81,
   "metadata": {},
   "outputs": [
    {
     "name": "stdout",
     "output_type": "stream",
     "text": [
      "x is banana!\n",
      "x is not a banana!\n"
     ]
    }
   ],
   "source": [
    "x = 'banana'\n",
    "if x == 'banana':\n",
    "    print('x is banana!')\n",
    "print('x is not a banana!')"
   ]
  },
  {
   "cell_type": "markdown",
   "metadata": {},
   "source": [
    "Если мы хотим проверить несколько условий, например, является наш фрукт яблоком? бананом или апельсином или чем-то еще? Можем, например, сделать инструкции ``if`` вложенными друг в друга:"
   ]
  },
  {
   "cell_type": "code",
   "execution_count": 83,
   "metadata": {},
   "outputs": [
    {
     "name": "stdout",
     "output_type": "stream",
     "text": [
      "x is neither a banana, nor an apple, nor an orange!\n"
     ]
    }
   ],
   "source": [
    "x = 'some other fruit'\n",
    "if x == 'banana':\n",
    "    print('x is banana!')\n",
    "else:\n",
    "    if x == 'apple':\n",
    "        print('x is an apple!')\n",
    "    else:\n",
    "        if x == 'orange':\n",
    "            print ('okay, x is an orange')\n",
    "        else:\n",
    "            print('x is neither a banana, nor an apple, nor an orange!')\n"
   ]
  },
  {
   "cell_type": "markdown",
   "metadata": {},
   "source": [
    "Такой код с вложениями ``if`` друг в друга тяжело читать. Но на практике конструкция ``else .. if`` очень распостранена. Мудрые создатели Питона, предусмотрели для избежания \"вложенности\" ключевое слово ``elif``:\n",
    "\n",
    "```python\n",
    "if <выражение1>:\n",
    "    <код выполнится, если выражение1 истинно>\n",
    "elif <выражение2>:\n",
    "    <код выполнится, если выражение2 истинно>\n",
    "elif <выражение3>:\n",
    "    и т. д.\n",
    "else:\n",
    "    <код, который выполнится, если выражение ложно>\n",
    "```\n",
    "Перепишем предыдущий пример с помощью ``elif``:"
   ]
  },
  {
   "cell_type": "code",
   "execution_count": 84,
   "metadata": {},
   "outputs": [
    {
     "name": "stdout",
     "output_type": "stream",
     "text": [
      "x is neither a banana, nor an apple, nor an orange!\n"
     ]
    }
   ],
   "source": [
    "x = 'some other fruit'\n",
    "if x == 'banana':\n",
    "    print('x is banana!')\n",
    "elif x == 'apple':\n",
    "    print('x is an apple!')\n",
    "elif x == 'orange':\n",
    "    print ('okay, x is an orange')\n",
    "else:\n",
    "    print('x is neither a banana, nor an apple, nor an orange!')"
   ]
  },
  {
   "cell_type": "markdown",
   "metadata": {},
   "source": [
    "Заметьте, насколько легче код стал читаться?\n",
    "\n",
    "При проверке большого количества условий часто появляется вложенность. Старайтесь ее избегать. Если уровней вложений становится больше двух, то код сложно читать."
   ]
  },
  {
   "cell_type": "markdown",
   "metadata": {},
   "source": [
    "# Циклы while\n",
    "\n",
    "Мы научились выполнять инструкции в зависимости от условий. \n",
    "\n",
    "Что, если нам нужно выполнять инструкции заданное число раз или пока какое то условие выполняется. Для этого в языках программирования предусмотрены **циклы (cycles)** или, как их еще называют **петли (loops)**.\n",
    "\n",
    "Цикл ``while`` выполняется \"по кругу\", пока условие истинно:\n",
    "```python\n",
    "while <булевское выражение>:\n",
    "    <код выполнится, если выражение истинно, а затем вернется в начало>\n",
    "```\n",
    "Это проще понять на примере:"
   ]
  },
  {
   "cell_type": "code",
   "execution_count": 86,
   "metadata": {},
   "outputs": [
    {
     "name": "stdout",
     "output_type": "stream",
     "text": [
      "0\n",
      "1\n",
      "2\n",
      "3\n",
      "4\n",
      "5\n"
     ]
    }
   ],
   "source": [
    "x = 0\n",
    "while x <= 5:\n",
    "    print(x)\n",
    "    x = x + 1"
   ]
  },
  {
   "cell_type": "markdown",
   "metadata": {},
   "source": [
    "Данный цикл \n",
    "1. проверяет, является ли истинным выражение под ключевым словом ``while``\n",
    "1. печатает содержимое переменной `x`\n",
    "1. увелчичивает значение ``x`` на единицу\n",
    "1. возвращается к пункту 1\n",
    "\n",
    "Этот код - рецепт, как повторить действия несколько раз:\n"
   ]
  },
  {
   "cell_type": "code",
   "execution_count": null,
   "metadata": {},
   "outputs": [],
   "source": [
    "i = 0\n",
    "n = 10\n",
    "while (i < n):\n",
    "    # do something\n",
    "    # do something else\n",
    "    i += 1"
   ]
  },
  {
   "cell_type": "markdown",
   "metadata": {},
   "source": [
    "Кстати, можно считать и \"с конца\".\n",
    "\n",
    "А вот такой цикл будет исполняться вечно, так как под словом ``while`` стоит значение, которое всегда истинно:"
   ]
  },
  {
   "cell_type": "code",
   "execution_count": null,
   "metadata": {},
   "outputs": [],
   "source": [
    "x = 0\n",
    "while True:\n",
    "    x = x + 1"
   ]
  },
  {
   "cell_type": "markdown",
   "metadata": {},
   "source": [
    "Вы наверняка сталкивались с зависанием программ? Скорее всего, где-то в их коде попался бесконечный цикл...\n",
    "\n",
    "Но иногда такое поведение программы осмысленно, например, если у вас сервер, который никогда не завершается, и бесконечно обрабатывает входящие запросы. "
   ]
  },
  {
   "cell_type": "markdown",
   "metadata": {},
   "source": [
    "Давайте, напишем, программу, которая суммирует последовательные нечетные числа:"
   ]
  },
  {
   "cell_type": "code",
   "execution_count": null,
   "metadata": {},
   "outputs": [],
   "source": [
    "N = 10     # сколько числе надо просуммировать\n",
    "k = 1      # первое число\n",
    "i = 1      # наш счетчик\n",
    "result = 0 # здесь мы будем хранить результат\n",
    "\n",
    "while (i <= N):\n",
    "    result = result + k\n",
    "    print(result)\n",
    "    k = k + 2\n",
    "    i = i + 1\n",
    "print('out of the cycle')"
   ]
  },
  {
   "cell_type": "markdown",
   "metadata": {},
   "source": [
    "Интересный результат. Оказывается последовательное суммирование нечетных чисел дает нам последовательные квадраты :)\n",
    "\n",
    "Что если мы хотим прервать цикл досрочно? Например, если резултат превысил 50? Для управления циклом существуют две инструкции: \n",
    "\n",
    "* ``break`` - немедленно прерывает цикл\n",
    "* ``continue`` - возвращает исполнение в начало цикла\n",
    "\n",
    "Модифицируем предыдущий пример, чтобы он завершился, как только результат больше 50:"
   ]
  },
  {
   "cell_type": "code",
   "execution_count": null,
   "metadata": {},
   "outputs": [],
   "source": [
    "N = 10     # сколько числе надо просуммировать\n",
    "k = 1      # первое число\n",
    "i = 1      # наш счетчик\n",
    "result = 0 # здесь мы будем хранить результат\n",
    "\n",
    "while (i <= N):\n",
    "    result = result + k\n",
    "    if result > 50:\n",
    "        break\n",
    "    print(result)\n",
    "    k = k + 2\n",
    "    i = i + 1\n",
    "print('out of the cycle')"
   ]
  },
  {
   "cell_type": "markdown",
   "metadata": {},
   "source": [
    "Пример использования ``continue`` - найдем все делители числа:"
   ]
  },
  {
   "cell_type": "code",
   "execution_count": 98,
   "metadata": {},
   "outputs": [
    {
     "name": "stdout",
     "output_type": "stream",
     "text": [
      "1\n",
      "3\n",
      "5\n",
      "9\n",
      "15\n",
      "45\n"
     ]
    }
   ],
   "source": [
    "number = 45  # наше число\n",
    "divisor = 0  # \n",
    "\n",
    "while (divisor <= number):\n",
    "    divisor += 1                 # на каждом шаге увеличиваем делитель на 1 (перебираем все)\n",
    "    if (number % divisor != 0):  # если остаток от деления ненулевой (не делится!) \n",
    "        continue                 # то сразу прыгаем в начало цикла\n",
    "    print(divisor)               # а вот эта инструкция выполнится, только если делится"
   ]
  },
  {
   "cell_type": "markdown",
   "metadata": {},
   "source": [
    "К управлению циклами при помощи ``break`` и ``continue`` мы еще вернемся, когда будем разбирать списки и цикл ``for`` в менее искуственных примерах."
   ]
  },
  {
   "cell_type": "markdown",
   "metadata": {},
   "source": [
    "# Что мы усвоили?\n",
    "\n",
    "Строки (**strings**)\n",
    "\n",
    "* строки можно \"складывать\" при помощи операции **конкатенации (concatenation)** ``+``\n",
    "* можно преобразовывать числа в строки с помощью ``str`` и обратно с помощью ``int`` и ``float``\n",
    "* символы в строках кодируются таблицей (функции ``ord`` и ``chr``)\n",
    "\n",
    "Булевские величины (**booleans**)\n",
    "* операторы ``and``, ``or`` и ``not`` работают по таблицам истинности\n",
    "* сравнения (``==``, ``<=``, ``>=``, ``!=``, ``<``, ``>``) являются булевскими операциями (дают ``True`` и ``False``)\n",
    "* порядок выполнения операций зависит от приоритета\n",
    "\n",
    "Управление исполнением программы (**control flow**)\n",
    "* инструкция ``if..elif..else`` позволяет выполнять **условным исполнением (conditional)**\n",
    "* инструкция while позволяет создать **цикл (loop)**\n",
    "* циклом можно управлять при помощи ``break`` и ``continue``\n",
    "\n",
    "Мы также узнали, что для группировки инструкций в **блоки кода (code blocks)** Питон использует **сдвиг indentation**. Это отличительная особенность Питона от многих языков, которая делает код на Питоне хорошо читаемым.\n",
    "\n",
    "Что осталось за кадром? В Питоне есть также **побитовые (bitwise)** операции и операторы побитового сравнения. Однако это чуть более сложная тема, и для простоты мы их здесь не разбирали. "
   ]
  },
  {
   "cell_type": "markdown",
   "metadata": {},
   "source": []
  }
 ],
 "metadata": {
  "interpreter": {
   "hash": "edd03d84c871bdfbd07a148ccd6ab54f96410cb62f1cefdae755a7e488bb954a"
  },
  "kernelspec": {
   "display_name": "Python 3.9.10 64-bit ('venv39')",
   "language": "python",
   "name": "python3"
  },
  "language_info": {
   "codemirror_mode": {
    "name": "ipython",
    "version": 3
   },
   "file_extension": ".py",
   "mimetype": "text/x-python",
   "name": "python",
   "nbconvert_exporter": "python",
   "pygments_lexer": "ipython3",
   "version": "3.9.10"
  },
  "orig_nbformat": 4
 },
 "nbformat": 4,
 "nbformat_minor": 2
}
