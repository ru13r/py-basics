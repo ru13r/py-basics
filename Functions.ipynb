{
 "cells": [
  {
   "cell_type": "markdown",
   "metadata": {},
   "source": [
    "# Цикл for..in\n",
    "\n",
    "## Списки - основы\n",
    "\n",
    "**Списки (lists)** позволяют хранить коллекцию некоторых значений. \n",
    "\n",
    "Списки иногда также называют массивами (arrays). \n",
    "Строго говоря, это не очень корректно, но вы можете столкнуться с такой терминологией.\n",
    "\n",
    " Списочный литерал объявляется при помощи перечисления значений в квадратных скобках:"
   ]
  },
  {
   "cell_type": "code",
   "execution_count": 1,
   "metadata": {},
   "outputs": [
    {
     "data": {
      "text/plain": [
       "[1, 2, 3]"
      ]
     },
     "execution_count": 1,
     "metadata": {},
     "output_type": "execute_result"
    }
   ],
   "source": [
    "[1, 2, 3]"
   ]
  },
  {
   "cell_type": "markdown",
   "metadata": {},
   "source": [
    "В Питоне не обязательно, чтобы списки хранили объекты одного типа. \n",
    "\n",
    "В один список можно положить и числа и строки, это не запрещено. Но не делайте так!"
   ]
  },
  {
   "cell_type": "code",
   "execution_count": 6,
   "metadata": {},
   "outputs": [
    {
     "data": {
      "text/plain": [
       "[1, 'hello', 3.14]"
      ]
     },
     "execution_count": 6,
     "metadata": {},
     "output_type": "execute_result"
    }
   ],
   "source": [
    "[1, 'hello', 3.14]"
   ]
  },
  {
   "cell_type": "markdown",
   "metadata": {},
   "source": [
    "Список можно присвоить перменной:"
   ]
  },
  {
   "cell_type": "code",
   "execution_count": 4,
   "metadata": {},
   "outputs": [],
   "source": [
    "my_list = [1, 2 ,3]"
   ]
  },
  {
   "cell_type": "markdown",
   "metadata": {},
   "source": [
    "Теперь ``my_list`` будет указывать на наш список."
   ]
  },
  {
   "cell_type": "code",
   "execution_count": 3,
   "metadata": {},
   "outputs": [
    {
     "ename": "NameError",
     "evalue": "name 'my_list' is not defined",
     "output_type": "error",
     "traceback": [
      "\u001b[0;31m---------------------------------------------------------------------------\u001b[0m",
      "\u001b[0;31mNameError\u001b[0m                                 Traceback (most recent call last)",
      "\u001b[1;32m/Users/ru13r/devel/py-basics/Functions.ipynb Cell 8\u001b[0m in \u001b[0;36m<module>\u001b[0;34m\u001b[0m\n\u001b[0;32m----> <a href='vscode-notebook-cell:/Users/ru13r/devel/py-basics/Functions.ipynb#X10sZmlsZQ%3D%3D?line=0'>1</a>\u001b[0m my_list\n",
      "\u001b[0;31mNameError\u001b[0m: name 'my_list' is not defined"
     ]
    }
   ],
   "source": [
    "my_list"
   ]
  },
  {
   "cell_type": "markdown",
   "metadata": {},
   "source": [
    "Для получения доступа к отдельным элементам списка используются квадратные скобки ``[]``, в которых мы указываем порядковый номер элемента (**индекс (index)**).\n",
    "\n",
    "Важно: нумерация начинается с нуля - это традиция со времен языка C. Поэтому в списке из трех элементов первый имеет номер ``0``, а последний номер ``2``:"
   ]
  },
  {
   "cell_type": "code",
   "execution_count": 11,
   "metadata": {},
   "outputs": [
    {
     "data": {
      "text/plain": [
       "3"
      ]
     },
     "execution_count": 11,
     "metadata": {},
     "output_type": "execute_result"
    }
   ],
   "source": [
    "my_list[2]"
   ]
  },
  {
   "cell_type": "markdown",
   "metadata": {},
   "source": [
    "Если обратиться к несуществующему индексу, получим ошибку ``IndexError``:"
   ]
  },
  {
   "cell_type": "code",
   "execution_count": 5,
   "metadata": {},
   "outputs": [
    {
     "ename": "IndexError",
     "evalue": "list index out of range",
     "output_type": "error",
     "traceback": [
      "\u001b[0;31m---------------------------------------------------------------------------\u001b[0m",
      "\u001b[0;31mIndexError\u001b[0m                                Traceback (most recent call last)",
      "\u001b[1;32m/Users/ru13r/devel/py-basics/Functions.ipynb Cell 12\u001b[0m in \u001b[0;36m<module>\u001b[0;34m\u001b[0m\n\u001b[0;32m----> <a href='vscode-notebook-cell:/Users/ru13r/devel/py-basics/Functions.ipynb#X14sZmlsZQ%3D%3D?line=0'>1</a>\u001b[0m my_list[\u001b[39m3\u001b[39;49m]\n",
      "\u001b[0;31mIndexError\u001b[0m: list index out of range"
     ]
    }
   ],
   "source": [
    "my_list[3]"
   ]
  },
  {
   "cell_type": "markdown",
   "metadata": {},
   "source": [
    "## Функция len\n",
    "\n",
    "Встроенная функция ``len`` возвращает нам длину списка:"
   ]
  },
  {
   "cell_type": "code",
   "execution_count": 13,
   "metadata": {},
   "outputs": [
    {
     "data": {
      "text/plain": [
       "3"
      ]
     },
     "execution_count": 13,
     "metadata": {},
     "output_type": "execute_result"
    }
   ],
   "source": [
    "len(my_list)"
   ]
  },
  {
   "cell_type": "markdown",
   "metadata": {},
   "source": [
    "Она работает и со строками:"
   ]
  },
  {
   "cell_type": "code",
   "execution_count": 15,
   "metadata": {},
   "outputs": [
    {
     "data": {
      "text/plain": [
       "4"
      ]
     },
     "execution_count": 15,
     "metadata": {},
     "output_type": "execute_result"
    }
   ],
   "source": [
    "len('abba')"
   ]
  },
  {
   "cell_type": "markdown",
   "metadata": {},
   "source": [
    "## Обход списка циклом while \n",
    "\n",
    "Как написать код, который \"обходит\" все элементы списка и выполняет с каждым некотрые действия?"
   ]
  },
  {
   "cell_type": "code",
   "execution_count": 22,
   "metadata": {},
   "outputs": [
    {
     "name": "stdout",
     "output_type": "stream",
     "text": [
      "1\n",
      "4\n",
      "9\n",
      "16\n",
      "25\n",
      "36\n",
      "[1, 2, 3, 4, 5, 6]\n"
     ]
    }
   ],
   "source": [
    "x = [1, 2, 3, 4, 5, 6]\n",
    "\n",
    "# выполнение операции с каждым элементом списка\n",
    "i = 0   # это наш индекс, индексы часто обозначают буквами i и j, как в математике\n",
    "while (i < len(x)):\n",
    "    print(x[i] * x[i])\n",
    "    i = i + 1\n",
    "\n",
    "print(x)"
   ]
  },
  {
   "cell_type": "markdown",
   "metadata": {},
   "source": [
    "В любом списке ``x`` корректные индексы лежат в диапазоне от ``0`` до ``len(x) - 1``.\n",
    "Чтобы обойти весь список, мы:\n",
    "* перед входом в цикл устанавливаем счетчик ``i`` в значение ``0``,\n",
    "* после выполнения действий увеличиваем ``i`` на единицу,\n",
    "* на каждом шаге сравниваем ``i`` с длиной списка оператором ``<`` (а не ``<=``)\n",
    "\n",
    "Аналогично мы можем сложить все элементы списка или свернуть их в одну величину каким-то способом.\n"
   ]
  },
  {
   "cell_type": "code",
   "execution_count": 23,
   "metadata": {},
   "outputs": [
    {
     "name": "stdout",
     "output_type": "stream",
     "text": [
      "21\n"
     ]
    }
   ],
   "source": [
    "# суммирование списка циклом while\n",
    "i = 0   # это наш индекс, индексы часто обозначают буквами i и j, как в математике\n",
    "result = 0\n",
    "while (i < len(x)):\n",
    "    result += x[i]\n",
    "    i = i + 1\n",
    "print(result)"
   ]
  },
  {
   "cell_type": "markdown",
   "metadata": {},
   "source": [
    "Все эти примеры обработки списка строятся по однотипному **паттерну (pattern)**:\n",
    "1. заводится счетчик ``i``\n",
    "1. запускается цикл, который крутится, пока счетчик ``i`` меньше, чем длина списка\n",
    "1. после каждого шага значение ``i`` увеличивается на единицу\n",
    "\n",
    "Это общий рецепт. "
   ]
  },
  {
   "cell_type": "markdown",
   "metadata": {},
   "source": [
    "## Обход списка циклом for..in\n",
    "\n",
    "Обход списка встречается почти в каждой программе. В Питоне предусмотрели специальный синтаксис:\n",
    "```python\n",
    "for <элемент> in <список>:\n",
    "    <код, котрый надо выполнить>\n",
    "```\n",
    "Запишем три предыдущих примера с помощью ``for..in``:"
   ]
  },
  {
   "cell_type": "code",
   "execution_count": 26,
   "metadata": {},
   "outputs": [
    {
     "name": "stdout",
     "output_type": "stream",
     "text": [
      "1\n",
      "4\n",
      "9\n",
      "16\n",
      "25\n",
      "36\n"
     ]
    }
   ],
   "source": [
    "xs = [1, 2, 3, 4, 5, 6]\n",
    "\n",
    "# выполнение операции с каждым элементом списка\n",
    "for x in xs: \n",
    "    print(x * x)"
   ]
  },
  {
   "cell_type": "code",
   "execution_count": 27,
   "metadata": {},
   "outputs": [
    {
     "name": "stdout",
     "output_type": "stream",
     "text": [
      "21\n"
     ]
    }
   ],
   "source": [
    "# суммирование списка циклом for\n",
    "result = 0\n",
    "for x in xs:\n",
    "    result += x\n",
    "print(result)"
   ]
  },
  {
   "cell_type": "markdown",
   "metadata": {},
   "source": [
    "Обратите внимание, насколько легче стал код, когда мы скрыли ``i`` и ``len`` \"под капот\".\n",
    "\n",
    "Циклы ``for..in`` работают не только со списками, но и с более сложными структурами данных. \n"
   ]
  },
  {
   "cell_type": "markdown",
   "metadata": {},
   "source": [
    "## Функция range\n",
    "\n",
    "Иногда нам нужны последовательности чисел от некоторого ``x`` до некоторого ``y``. Например, для повторения каких-то действий или работы с индексами.\n",
    "\n",
    "Функция ``range`` создает объект, который может генерировать такую последовательность:"
   ]
  },
  {
   "cell_type": "code",
   "execution_count": 33,
   "metadata": {},
   "outputs": [
    {
     "data": {
      "text/plain": [
       "range(0, 10)"
      ]
     },
     "execution_count": 33,
     "metadata": {},
     "output_type": "execute_result"
    }
   ],
   "source": [
    "range(10)"
   ]
  },
  {
   "cell_type": "markdown",
   "metadata": {},
   "source": [
    "Попробуем использовать ``range`` в цикле ``for..in``:"
   ]
  },
  {
   "cell_type": "code",
   "execution_count": 39,
   "metadata": {},
   "outputs": [
    {
     "name": "stdout",
     "output_type": "stream",
     "text": [
      "0\n",
      "1\n",
      "2\n",
      "3\n",
      "4\n",
      "5\n",
      "6\n",
      "7\n",
      "8\n",
      "9\n"
     ]
    }
   ],
   "source": [
    "for num in range(10):\n",
    "    print(num)"
   ]
  },
  {
   "cell_type": "markdown",
   "metadata": {},
   "source": [
    "Мы также можем вызвать ``range`` с двумя аргументами - указать нижнюю и верхнюю границу диапазона."
   ]
  },
  {
   "cell_type": "code",
   "execution_count": 40,
   "metadata": {},
   "outputs": [
    {
     "name": "stdout",
     "output_type": "stream",
     "text": [
      "5\n",
      "6\n",
      "7\n",
      "8\n",
      "9\n"
     ]
    }
   ],
   "source": [
    "for num in range(5, 10):\n",
    "    print(num)"
   ]
  },
  {
   "cell_type": "markdown",
   "metadata": {},
   "source": [
    "Если мы хотим повторить какое-то действие несколько раз, то можем:\n",
    "* воспользоваться циклом ``while`` с отдельной переменной-счетчиком\n",
    "* использовать цикл ``for..in`` с объектом ``range``"
   ]
  },
  {
   "cell_type": "code",
   "execution_count": 41,
   "metadata": {},
   "outputs": [
    {
     "name": "stdout",
     "output_type": "stream",
     "text": [
      "Hi!\n",
      "Hi!\n",
      "Hi!\n"
     ]
    }
   ],
   "source": [
    "for num in range(3):\n",
    "    print(\"Hi!\")"
   ]
  },
  {
   "cell_type": "markdown",
   "metadata": {},
   "source": [
    "# Функции (основы)\n",
    "\n",
    "## Что такое функции?\n",
    "\n",
    "В программировании **функции(functions)** (их также называют **процедурами (procedures)** или **подпрограммами (sub-routines)** в некоторых языках) - это именнованные блоки кода, которые можно **вызвать (call)** в любом месте программы.\n",
    "\n",
    "Мы уже сталкивались с встроенными функциями: ``str``, ``ord``, ``chr``, ``print``, ``list``.\n",
    "\n",
    "Магия программирования заключается в том, что разработчик может создавать собственные функции для решения типовых, повторяющихся задач.\n",
    "\n",
    "Это позволяет не писать один и тот же код несколько раз (DRY - do not repeat yourself), а также использовать код повторно в разных программах, не начиная с нуля.\n",
    "\n",
    "Давайте вспомним, как мы суммировали список:"
   ]
  },
  {
   "cell_type": "code",
   "execution_count": 42,
   "metadata": {},
   "outputs": [
    {
     "name": "stdout",
     "output_type": "stream",
     "text": [
      "15\n"
     ]
    }
   ],
   "source": [
    "xs = [4, 5, 6]\n",
    "result = 0\n",
    "for x in xs:\n",
    "    result += x\n",
    "print(result)"
   ]
  },
  {
   "cell_type": "markdown",
   "metadata": {},
   "source": [
    "Если возник еще один список, например ``ys``, мы можем просто повторить блок кода, заменив там ``xs`` на ``ys``, но:\n",
    "\n",
    "* программа разрастается и ее сложнее читать\n",
    "* если мы захотим поменять логику, то придется это делать в двух местах (а в больших программах просматривать весь код) и легко ошибиться\n",
    "\n",
    "Для подобной повторяющейся задачи лучше **объявить (define)** функцию суммирования."
   ]
  },
  {
   "cell_type": "markdown",
   "metadata": {},
   "source": [
    "## Как обяъвить и вызвать функцию?\n",
    "\n",
    "Общий синтаксис объявления функции такой:\n",
    "```python\n",
    "def <имя_функции>(<параметр1>, <параметр2> и т. д.):\n",
    "     <код функции>\n",
    "     return <результат функции>\n",
    "```\n",
    "\n",
    "Давайте посмотрим на примере функции суммирования:"
   ]
  },
  {
   "cell_type": "code",
   "execution_count": 44,
   "metadata": {},
   "outputs": [],
   "source": [
    "def sum(my_list):\n",
    "    result = 0\n",
    "    for number in my_list:\n",
    "        result += number\n",
    "    return result"
   ]
  },
  {
   "cell_type": "markdown",
   "metadata": {},
   "source": [
    "Давайте вызовем нашу функцию:"
   ]
  },
  {
   "cell_type": "code",
   "execution_count": 45,
   "metadata": {},
   "outputs": [
    {
     "data": {
      "text/plain": [
       "15"
      ]
     },
     "execution_count": 45,
     "metadata": {},
     "output_type": "execute_result"
    }
   ],
   "source": [
    "sum([4, 5, 6])"
   ]
  },
  {
   "cell_type": "markdown",
   "metadata": {},
   "source": [
    "Она будет работать с любым списком:"
   ]
  },
  {
   "cell_type": "code",
   "execution_count": 46,
   "metadata": {},
   "outputs": [
    {
     "data": {
      "text/plain": [
       "188"
      ]
     },
     "execution_count": 46,
     "metadata": {},
     "output_type": "execute_result"
    }
   ],
   "source": [
    "some_other_list = [29, 41, 54, 67, -3]\n",
    "sum(some_other_list)"
   ]
  },
  {
   "cell_type": "markdown",
   "metadata": {},
   "source": [
    "Результат выполнения функции можно также присвоить перменной (как обычно и делают):"
   ]
  },
  {
   "cell_type": "code",
   "execution_count": 47,
   "metadata": {},
   "outputs": [
    {
     "name": "stdout",
     "output_type": "stream",
     "text": [
      "188\n"
     ]
    }
   ],
   "source": [
    "res = sum(some_other_list)\n",
    "print(res)"
   ]
  },
  {
   "cell_type": "markdown",
   "metadata": {},
   "source": [
    "Или использовать в выражениях:"
   ]
  },
  {
   "cell_type": "code",
   "execution_count": 48,
   "metadata": {},
   "outputs": [
    {
     "name": "stdout",
     "output_type": "stream",
     "text": [
      "Result: 6\n"
     ]
    }
   ],
   "source": [
    "print('Result: ' + str(sum([1,2,3])))"
   ]
  },
  {
   "cell_type": "markdown",
   "metadata": {},
   "source": [
    "### Как определяется функция?\n",
    "\n",
    "1. Сначала мы **объявляем (define)** (еще говорят **декларируем (declare)**) функцию при помощи ключевого слова ``def``. Мы придумываем ей имя и названия **параметров (parameters)**, которые указываем в скобках.\n",
    "1. В блоке кода функции, который форматируется с помощью отступа (как было в ``if`` или циклах) параметры доступны по присвоенным именам (у нас один параметр ``my_list``), и мы можем с ними работать. \n",
    "1. Внутри функции также можно объявлять переменные. У нас такая переменная это ``result``.\n",
    "1. Когда мы получили результат, мы можем **вернуть (return)** его в программу, которая вызывает функцию. Для возврата используется ключевое слово ``return``.\n",
    "1. Возврат функции обычно присваивают какой-то переменной, чтобы дальше с ним работать.\n",
    "\n",
    "### Как вызывается функция?\n",
    "\n",
    "Для **вызова (сall)** функции необходимо написать ее имя, а затем в скобках **передать (pass)** ей параметры:\n",
    "```python\n",
    "<имя-функции>(<параметр1>, <параметр2> и т. д.)\n",
    "```"
   ]
  },
  {
   "cell_type": "markdown",
   "metadata": {},
   "source": [
    "## Функции без параметров\n",
    "\n",
    "Функция может и не иметь никаких параметров, в этом случае круглые скобки ``()`` в определении оставляем пустыми (но все равно оставляем). \n",
    "\n",
    "При вызове функции также пишем пару круглых скобок (посмотрите, что будет, если их убрать):"
   ]
  },
  {
   "cell_type": "code",
   "execution_count": 7,
   "metadata": {},
   "outputs": [
    {
     "name": "stdout",
     "output_type": "stream",
     "text": [
      ":-)\n"
     ]
    }
   ],
   "source": [
    "def print_smile():\n",
    "    print(':-)')\n",
    "\n",
    "print_smile()"
   ]
  },
  {
   "cell_type": "markdown",
   "metadata": {},
   "source": [
    "## Про возврат\n",
    "\n",
    "Функция может ничего не возвращать. Например:"
   ]
  },
  {
   "cell_type": "code",
   "execution_count": 53,
   "metadata": {},
   "outputs": [
    {
     "name": "stdout",
     "output_type": "stream",
     "text": [
      "Hello :)\n"
     ]
    }
   ],
   "source": [
    "def smile(msg):\n",
    "    print(msg + ' :)')\n",
    "\n",
    "smile('Hello')"
   ]
  },
  {
   "cell_type": "markdown",
   "metadata": {},
   "source": [
    "Внутри функции можно использовать несколько инструкций ``return``, например:"
   ]
  },
  {
   "cell_type": "code",
   "execution_count": 55,
   "metadata": {},
   "outputs": [],
   "source": [
    "# функция возвращает True, если буква есть в строке, а False в противном случае\n",
    "\n",
    "def find_letter(my_string, my_letter):\n",
    "    for letter in my_string:\n",
    "        if letter == my_letter:\n",
    "            return True\n",
    "    return False"
   ]
  },
  {
   "cell_type": "markdown",
   "metadata": {},
   "source": [
    "Внутри функции ``find_letter`` мы на каждом шаге цикла сравниваем букву строки с искомой. \n",
    "После инструкции ``return`` выполнение функции немедленно завершается, и мы возвращаемся в программу, которая ее вызывала.\n",
    "\n",
    "Если буква совпала, мы возвращаем ``True`` и тем самым завершаем работу функции (во второй ``return`` уже не попадем). \n",
    "Если совпадений не было, цикл завершится, и он исполнится:"
   ]
  },
  {
   "cell_type": "code",
   "execution_count": 57,
   "metadata": {},
   "outputs": [
    {
     "data": {
      "text/plain": [
       "False"
      ]
     },
     "execution_count": 57,
     "metadata": {},
     "output_type": "execute_result"
    }
   ],
   "source": [
    "find_letter('Hello', 'b')"
   ]
  },
  {
   "cell_type": "markdown",
   "metadata": {},
   "source": [
    "## Лирическое отступление по оператор in\n",
    "\n",
    "Код выше (проверка, есть ли элемент в списке) можно заменить оператор ``in``:"
   ]
  },
  {
   "cell_type": "code",
   "execution_count": 58,
   "metadata": {},
   "outputs": [
    {
     "data": {
      "text/plain": [
       "False"
      ]
     },
     "execution_count": 58,
     "metadata": {},
     "output_type": "execute_result"
    }
   ],
   "source": [
    "'b' in 'Hello'"
   ]
  },
  {
   "cell_type": "markdown",
   "metadata": {},
   "source": [
    "Такие возможности языка по упрощению записи типового кода называются на жаргоне разработчиков **синтаксический сахар (syntactic sugar)**. В Питоне такого сахара много, что и делает его простым для изучения.\n",
    "При этом надо помнить, что где-то \"под капотом\" ``in`` крутится некоторый цикл (выше мы его показали явно)."
   ]
  },
  {
   "cell_type": "markdown",
   "metadata": {},
   "source": [
    "# Переменные: области видимости\n",
    "\n",
    "## Локальная область видимости (local scope)\n",
    "\n",
    "Переменные, которые объявлены внутри функции называются **локальными переменными (local variables)**. Почему локальными? \n",
    "\n",
    "Рассмотрим пример: "
   ]
  },
  {
   "cell_type": "code",
   "execution_count": null,
   "metadata": {},
   "outputs": [],
   "source": [
    "def func():\n",
    "    z = 10\n",
    "    print(z)\n",
    "\n",
    "# тут мы вне функции - см. отступы\n",
    "print(z) # и тут будет ошибка, вне функции Питон не знает имени z"
   ]
  },
  {
   "cell_type": "markdown",
   "metadata": {},
   "source": [
    "Мы видим, что переменные, объявленные внутри функции, \"видны\" только в самой функции и не видны, за их пределами.\n",
    "\n",
    "C любой перменной всегда связана некоторая **область видимости (scope)**, которая зависит от того, где переменная объявлена.\n",
    "\n",
    "На область видимости можно смотреть как на справочник имен переменных. У каждой функции данный справочник собственный. Она не знает имен переменных в других функциях.\n",
    "\n",
    "Переменные внутри функции существуют в **локальной области видимости (local scope)**."
   ]
  },
  {
   "cell_type": "markdown",
   "metadata": {},
   "source": [
    "## Глобальная область видимости (global scope)\n",
    "\n",
    "Если объявлять переменные вне функций, они создаются в **глобальной области видимости (global scope)**. \n",
    "\n",
    "Все функции, объявленные в программе видят глобальные переменные."
   ]
  },
  {
   "cell_type": "code",
   "execution_count": 81,
   "metadata": {},
   "outputs": [
    {
     "name": "stdout",
     "output_type": "stream",
     "text": [
      "Мы в функции, и видим внешнюю переменную: 13\n"
     ]
    }
   ],
   "source": [
    "outer_var = 13\n",
    "\n",
    "def some_func():\n",
    "    print('Мы в функции, и видим внешнюю переменную: ' + str(outer_var))\n",
    "\n",
    "some_func()"
   ]
  },
  {
   "cell_type": "markdown",
   "metadata": {},
   "source": [
    "## Как связаны глобальная и локальные области видимости?\n",
    "\n",
    "Внутри функции присваивание всегда создает локальную переменная. \n",
    "\n",
    "Правило действует, даже если имя переменной объявлено во внешней области видимости. Следующий код может вызвать конфуз:"
   ]
  },
  {
   "cell_type": "code",
   "execution_count": 65,
   "metadata": {},
   "outputs": [
    {
     "name": "stdout",
     "output_type": "stream",
     "text": [
      "Мы вне функций, значение переменной равно 13\n",
      "Мы в функции, и видим внешнюю переменную: 13\n",
      "Внутри функции мы переопределили переменную, ее значение правно 19\n",
      "Снаружи значение переменной все равно 13\n"
     ]
    }
   ],
   "source": [
    "some_var = 13\n",
    "\n",
    "\n",
    "def some_func():\n",
    "    print('Мы в функции, и видим внешнюю переменную: ' + str(some_var))\n",
    "\n",
    "def some_other_func():\n",
    "    some_var = 19\n",
    "    print('Внутри функции мы переопределили переменную, ее значение правно ' + str(some_var))\n",
    "\n",
    "print('Мы вне функций, значение переменной равно ' + str(some_var))\n",
    "some_func()\n",
    "some_other_func()\n",
    "print('Снаружи значение переменной все равно ' + str(some_var))"
   ]
  },
  {
   "cell_type": "markdown",
   "metadata": {},
   "source": [
    "### Что тут происходит?\n",
    "\n",
    "* Когда мы объявляем функцию, она \"видит\" все внешние переменные. Мы можем свободно использовать ``some_var``.\n",
    "* Если внутри функции мы присвоим ``some_var`` значение, создается локальная переменная ``some_var``. Имена одинаковы, но они живут в разных областях видимости. Тут нет конфликта.\n",
    "* После завершения функций локальная переменная``some_var`` перестает существовать.\n",
    "* Глобальный ``some_var`` равен по-прежнему ``19``\n",
    "\n",
    "Таким образом, при использовании одинакового имени переменной в локальной и глобальной области видимости, переменная из локальной области \"затеняет\" (shadows) глобальную переменную.\n",
    "\n",
    "### Зачем это сделано?\n",
    "\n",
    "Программы состоят из десятков и сотен разных функций. Имена переменных в них могут совпадать. Чтобы не было путаницы, все переменные, объявленные внутри функций, создаются и существуют только в **локальной области видимости (local scope)**. \n",
    "Функции являются полностью отдельными программами (подпрограммами) с собственными переменными.\n",
    "\n",
    "### Если интересен полный рассказ и подробности?\n",
    "\n",
    "В Питоне есть ключевые слова ``global`` и ``nonlocal``, которые позволяют управлять областями видимости переменных. Мы не будем их разбирать, интересующимся можно прочитать [хоршую статью про области видимости](https://www.datacamp.com/community/tutorials/scope-of-variables-python)."
   ]
  },
  {
   "cell_type": "markdown",
   "metadata": {},
   "source": [
    "## Как работать со внешними переменными с помощью функций?\n",
    "\n",
    "Мы уже знаем, что внутри функции нельзя присвоить новое значение внешней переменной. Функция все делает локально."
   ]
  },
  {
   "cell_type": "code",
   "execution_count": 74,
   "metadata": {},
   "outputs": [
    {
     "name": "stdout",
     "output_type": "stream",
     "text": [
      "Global scope: 10\n",
      "Local scope: 23\n",
      "Global scope: 10\n"
     ]
    }
   ],
   "source": [
    "def add13(x):\n",
    "    x += 13\n",
    "    print('Local scope: ' + str(x))\n",
    "\n",
    "y = 10\n",
    "print('Global scope: ' + str(y))\n",
    "add13(y)\n",
    "print('Global scope: ' + str(y))"
   ]
  },
  {
   "cell_type": "markdown",
   "metadata": {},
   "source": [
    "Если нужно изменить значение внешней переменной, используется возврат:"
   ]
  },
  {
   "cell_type": "code",
   "execution_count": 75,
   "metadata": {},
   "outputs": [
    {
     "name": "stdout",
     "output_type": "stream",
     "text": [
      "Global scope: 10\n",
      "Local scope: 23\n",
      "Global scope: 23\n"
     ]
    }
   ],
   "source": [
    "def add13(x):\n",
    "    x += 13\n",
    "    print('Local scope: ' + str(x))\n",
    "    return x\n",
    "\n",
    "y = 10\n",
    "print('Global scope: ' + str(y))\n",
    "y = add13(y)\n",
    "print('Global scope: ' + str(y))"
   ]
  },
  {
   "cell_type": "markdown",
   "metadata": {},
   "source": [
    "Присвоение нового значения здесь происходит в глобальной области, а не внутри функции, поэтому все работает.\n",
    "\n",
    "Давайте попробуем изменить элементы списка внутри функции:"
   ]
  },
  {
   "cell_type": "code",
   "execution_count": 82,
   "metadata": {},
   "outputs": [
    {
     "name": "stdout",
     "output_type": "stream",
     "text": [
      "Global scope: [1, 2, 3]\n",
      "Local scope (before): [1, 2, 3]\n",
      "Local scope (after): [14, 15, 16]\n",
      "Global scope: [14, 15, 16]\n"
     ]
    }
   ],
   "source": [
    "\n",
    "def add13():\n",
    "    print('Local scope (before): ' + str(y))\n",
    "    for i in range(len(y)):\n",
    "        y[i] = y[i] + 13\n",
    "    print('Local scope (after): ' + str(y))\n",
    "\n",
    "y = [1, 2, 3]\n",
    "print('Global scope: ' + str(y))\n",
    "add13()\n",
    "print('Global scope: ' + str(y))"
   ]
  },
  {
   "cell_type": "markdown",
   "metadata": {},
   "source": [
    "Как ни странно, значения изменились, хотя мы не делали вовзрат! Почему же так происходит? \n",
    "\n",
    "Мы не присваивали новый список переменной ``y``, она указывает на тот же объект. Мы работали только с элементами этого объекта.\n",
    "\n",
    "Если бы мы присвоили ``y`` новое значение, то все ожидаемо:"
   ]
  },
  {
   "cell_type": "code",
   "execution_count": 85,
   "metadata": {},
   "outputs": [
    {
     "name": "stdout",
     "output_type": "stream",
     "text": [
      "Global scope: [1, 2, 3]\n",
      "Local scope (after): [13, 14, 15]\n",
      "Global scope: [1, 2, 3]\n"
     ]
    }
   ],
   "source": [
    "\n",
    "def add13():\n",
    "    y = [13, 14, 15]\n",
    "    print('Local scope (after): ' + str(y))\n",
    "\n",
    "y = [1, 2, 3]\n",
    "print('Global scope: ' + str(y))\n",
    "add13()\n",
    "print('Global scope: ' + str(y))"
   ]
  },
  {
   "cell_type": "markdown",
   "metadata": {},
   "source": [
    "В Питоне важно, в какой области видимости выполняется присваивание. \n",
    "\n",
    "Если переменная это составная структура, то работа с ее внутренностями (например, с элементами списка) не зависит от области видимости.\n",
    "\n",
    "Значения чисел или строк невозможно изменить, не выполнив присваивание \"целиком\". Такие объекты называются **неизменяемыми (immmutable)**. \n",
    "\n",
    "В противположность, объекты, которые позволяют изменять свое содержимое (список), называются **изменяемыми (mutable)**."
   ]
  },
  {
   "cell_type": "markdown",
   "metadata": {},
   "source": [
    "## Почему глобальные перменные - зло?\n",
    "\n",
    "Представьте, что у вас много функций, и каждая изменяет одну и ту же глобальную перменную. В сложных программах это приводит к ошибкам, которые сложно обнаружить и исправить. \n",
    "\n",
    "Поэтому, если надо поработать с внешним объектом, лучше всего делать это явно: передать его как параметр в функцию, а затем вернуть обратно результат."
   ]
  },
  {
   "cell_type": "code",
   "execution_count": 86,
   "metadata": {},
   "outputs": [
    {
     "name": "stdout",
     "output_type": "stream",
     "text": [
      "Global scope: [1, 2, 3]\n",
      "Global scope: [14, 15, 16]\n"
     ]
    }
   ],
   "source": [
    "def add13(some_list):\n",
    "    l = some_list                   # создаем местную ссылку\n",
    "    for i in range(len(y)):\n",
    "        l[i] = l[i] + 13\n",
    "    return l\n",
    "\n",
    "y = [1, 2, 3]\n",
    "print('Global scope: ' + str(y))\n",
    "y = add13(y)                        # тут можно было бы и новую переменную создать\n",
    "print('Global scope: ' + str(y))"
   ]
  },
  {
   "cell_type": "markdown",
   "metadata": {},
   "source": [
    "В этом коде явно видно, что ``add13`` работает со списком ``y``, и возвращает какой-то результат. Кроме того, внутри функции ``add13`` все переменные локальны, поэтому она не \"испортит\" какой-то внешний объект."
   ]
  },
  {
   "cell_type": "markdown",
   "metadata": {},
   "source": [
    "Поскольку глобальные переменные часто становятся причиной хаоса, даже основную программу оборачивают в функцию, которую принято называть ``main``. "
   ]
  },
  {
   "cell_type": "code",
   "execution_count": 1,
   "metadata": {},
   "outputs": [],
   "source": [
    "# Мы определели функцию main, все переменные локальные\n",
    "def main():\n",
    "    a = input('Введите первое число (a): ')\n",
    "    b = input('Введите второе число (b): ')\n",
    "    print('Сумма и произведение: ' + 'a + b = ' + (a+b) + ' a * b = ' + a*b)\n",
    "    return 0\n",
    "\n",
    "# Мы вызываем main для запуска\n",
    "main()"
   ]
  },
  {
   "cell_type": "markdown",
   "metadata": {},
   "source": [
    "# Оператор распаковки (unpacking)\n",
    "\n",
    "Выше мы определили функцию, которая суммировала список:"
   ]
  },
  {
   "cell_type": "code",
   "execution_count": 87,
   "metadata": {},
   "outputs": [
    {
     "name": "stdout",
     "output_type": "stream",
     "text": [
      "15\n"
     ]
    }
   ],
   "source": [
    "def sum(my_list):\n",
    "    result = 0\n",
    "    for number in my_list:\n",
    "        result += number\n",
    "    return result\n",
    "\n",
    "xs = [1, 2, 3, 4, 5]\n",
    "print(sum(xs))"
   ]
  },
  {
   "cell_type": "markdown",
   "metadata": {},
   "source": [
    "Эта функция \n",
    "* принимает единственный аргумент - список\n",
    "* возвращает число - сумму списка.\n",
    "\n",
    "Как мы знаем, в функцию SUM в Excel мы можем передавать не только диапазон (который, является аналогом списка), но и отдельные отдельные числа: SUM(1, 2, 3, 4).\n",
    "Можно ли сделать что-то аналогичное в Питоне?\n",
    "Конечно, мы можем определять функцию для суммы двух, трех и более чисел:"
   ]
  },
  {
   "cell_type": "code",
   "execution_count": null,
   "metadata": {},
   "outputs": [],
   "source": [
    "def sum2(a, b):\n",
    "    return a + b\n",
    "\n",
    "def sum(a, b, c):\n",
    "    return a + b + c"
   ]
  },
  {
   "cell_type": "markdown",
   "metadata": {},
   "source": [
    "Повторять код для каждого случая неудобно, к тому же мы можем не знать, сколько аргументов передаст в функцию пользователь.\n",
    "Посмотрим на такой код:"
   ]
  },
  {
   "cell_type": "code",
   "execution_count": 89,
   "metadata": {},
   "outputs": [
    {
     "name": "stdout",
     "output_type": "stream",
     "text": [
      "[[1, 2, 3], 5, 6]\n"
     ]
    }
   ],
   "source": [
    "xs = [1, 2 ,3]\n",
    "\n",
    "ys = [xs, 5, 6]\n",
    "print(ys)"
   ]
  },
  {
   "cell_type": "markdown",
   "metadata": {},
   "source": [
    "Если положить один список в другой, то получаем вложенные списки. \n",
    "\n",
    "Можно ли положить во второй список элементы первого списка, а не сам список?\n",
    "\n",
    "В Питоне предусмотрен унарный оператор **распаковки (unpacking)**, его также называют просто **\"звездой\" (star)**, поскольку записывается в виде ``*``:"
   ]
  },
  {
   "cell_type": "code",
   "execution_count": 90,
   "metadata": {},
   "outputs": [
    {
     "name": "stdout",
     "output_type": "stream",
     "text": [
      "[1, 2, 3, 5, 6]\n"
     ]
    }
   ],
   "source": [
    "xs = [1, 2 ,3]\n",
    "\n",
    "ys = [*xs, 5, 6]\n",
    "print(ys)"
   ]
  },
  {
   "cell_type": "markdown",
   "metadata": {},
   "source": [
    "Мы видим, что оператор ``*`` \"распаковал\" список на его элементы.\n",
    "Советую прочитать [статью про данный оператор](https://kirill-sklyarenko.ru/lenta/zvezdochki-v-python-chto-eto-i-kak-ispolzovat)."
   ]
  },
  {
   "cell_type": "markdown",
   "metadata": {},
   "source": [
    "Звездочка умеет не только \"распаковывать\" элементы списка, но и \"упаковывать\" их в список, если использовать ее в объявлении функции:"
   ]
  },
  {
   "cell_type": "code",
   "execution_count": 43,
   "metadata": {},
   "outputs": [
    {
     "data": {
      "text/plain": [
       "6"
      ]
     },
     "execution_count": 43,
     "metadata": {},
     "output_type": "execute_result"
    }
   ],
   "source": [
    "def sum(*args):\n",
    "    result = 0\n",
    "    for arg in args:\n",
    "        result += arg\n",
    "    return result\n",
    "sum(1,2,3)"
   ]
  },
  {
   "cell_type": "markdown",
   "metadata": {},
   "source": [
    "Упаковка аргументов в список при помощи ``*`` позволяет объявлять функции с неопределенным количеством аргументов."
   ]
  },
  {
   "cell_type": "markdown",
   "metadata": {},
   "source": [
    "# Как пишут программы?\n",
    "\n",
    "Реальные программы имеют сложную логику и работают с большим количеством данных и объектов. Чтобы упростить разработку, задачу разбивают на отдельные функции, каждая из которых выполяет отдельную подзадачу.\n",
    "\n",
    "Это позволяет:\n",
    "* разрезать слона на маленькие кусочки\n",
    "* работать с переменными локально в каждой функции\n",
    "* сделать программу читабельной, а ее логику понятной\n",
    "* сохранять полезные функции для дальнейшего использования\n",
    "* распределить задачи между несколькими разработчиками.\n",
    "\n",
    "Пример скелета программы, которая парсит цены в интернет магазине:"
   ]
  },
  {
   "cell_type": "code",
   "execution_count": 91,
   "metadata": {},
   "outputs": [],
   "source": [
    "def main():\n",
    "    url = 'http://somestore.com'\n",
    "    filename = 'results.txt'\n",
    "    print_welcome_message()\n",
    "    contents = get_page(url)\n",
    "    results = parse_contents(contents)\n",
    "    print_results(resuts)\n",
    "    save_results_to_file(filename)\n",
    "    finished()\n",
    "\n",
    "def print_welcome_message():\n",
    "    pass\n",
    "\n",
    "def get_page(url):\n",
    "    pass\n",
    "\n",
    "def parse_contents(contents):\n",
    "    pass\n",
    "\n",
    "def print_results(resuts):\n",
    "    pass\n",
    "    \n",
    "def save_results_to_file(filename):\n",
    "    pass\n",
    "\n",
    "def finished():\n",
    "    pass\n",
    "\n",
    "if (__name__ == 'main'):\n",
    "    main()"
   ]
  },
  {
   "cell_type": "markdown",
   "metadata": {},
   "source": [
    "Это корректный код. Правда, пока он ничего не делает. \n",
    "\n",
    "Зато мы уже разбили задачу на отдельные функции и сделали их объявление. \n",
    "\n",
    "Пока у нас нет их **реализации (implementation)**, мы использовали ключевое слово ``pass``.\n",
    "Питон не допускает функций без блока реализации, но если мы хотим отложить его написание на потом, то можем временно написать ``pass``.\n",
    "\n",
    "Слово ``pass`` также используют, чтобы подчеркнуть отсутствие какого-либо действия (для читабельности).\n",
    "\n",
    "Разбиение программы на подпрограммы называется **декомпозицией (decomposition)**."
   ]
  },
  {
   "cell_type": "markdown",
   "metadata": {},
   "source": [
    "# Что мы усвоили?\n",
    "\n",
    "## Списки и цикл for..in\n",
    "\n",
    "* списки объявляются при помощи квадратных скобок ``[]``\n",
    "* работать со списками можно циклом ``while``, но легче использовать ``for..in``\n",
    "* функция ``len`` возвращает длину списка (или строки), а ``range`` позволяет создавать последовательности чисел\n",
    "\n",
    "## Функции\n",
    "* функции **обявляются (define / declare)** с помощью слова ``def``\n",
    "* функции **вызываются (call)** с помощью круглых скобок ``()``\n",
    "* у функций могут быть параметры (parameters), а возврат результата и завершение работы функции делается при помощи слова ``return``\n",
    "\n",
    "## Области видимости (scope)\n",
    "* переменные, объявленные внутри фукции, всегда являются **локальными** (local)\n",
    "* существует также **глобальная область видимости (global scope)**, которую видно и внутри функций, при этом **локальная область видимости (local scope)**, если использовать одинаковые имена переменных **затеняет (shadow)** глобальную\n",
    "* функции могут работать с **глобальными переменными (global variables)**, но лучше так не делать, а вместо этого передавать им параметры и возвращать результат, а все переменные делать локальными\n",
    "\n",
    "Мы также усвоили, что функции являются подпрограммами, а не просто блоками кода. \n",
    "\n",
    "Большие программы разбивают на маленькие подпрограммы. Это называется **декомпозиция**.\n",
    "\n",
    "Основную программу тоже **реализуют (implement)** в виде функции, чтобы не трогать глобальную область видимости. Традиционно, главную функцию называют ``main``."
   ]
  },
  {
   "cell_type": "markdown",
   "metadata": {},
   "source": []
  }
 ],
 "metadata": {
  "interpreter": {
   "hash": "edd03d84c871bdfbd07a148ccd6ab54f96410cb62f1cefdae755a7e488bb954a"
  },
  "kernelspec": {
   "display_name": "Python 3.9.10 64-bit ('venv39')",
   "language": "python",
   "name": "python3"
  },
  "language_info": {
   "codemirror_mode": {
    "name": "ipython",
    "version": 3
   },
   "file_extension": ".py",
   "mimetype": "text/x-python",
   "name": "python",
   "nbconvert_exporter": "python",
   "pygments_lexer": "ipython3",
   "version": "3.9.10"
  },
  "orig_nbformat": 4
 },
 "nbformat": 4,
 "nbformat_minor": 2
}
