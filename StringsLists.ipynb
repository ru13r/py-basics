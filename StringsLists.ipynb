{
 "cells": [
  {
   "cell_type": "markdown",
   "metadata": {},
   "source": [
    "# Немного об объектах\n",
    "\n",
    "Мы уже создавали перменные и выполняли над ними действия. В сложных программах используются сотни переменных и разных функций. \n",
    "Для того, чтобы справится с этой сложностью, логически связанные между собой переменные и функции придумали группировать. Например, можно сгруппировать все функции, выполняющие типовые действия со строками или все функции, работающие со списками.\n",
    "\n",
    "**Объект (object)** — это набор данных (переменных) и **методов (methods)** (функций), которые с этими данными взаимодействуют. Иначе говоря объект:\n",
    "* является \"контейнером\" для хранения некоторых данных,\n",
    "* предоставляет инструменты (методы) для работы с этими данными.\n",
    "\n",
    "Мы уже работали с числами, строками, простыми списками. В Питоне все они являются объектами, то есть помимо хранения данных у нас есть (встроенные) методы для работы с ними.\n",
    "Для вызова методов объекта используется оператор ``.``. Например:"
   ]
  },
  {
   "cell_type": "code",
   "execution_count": 5,
   "metadata": {},
   "outputs": [
    {
     "data": {
      "text/plain": [
       "'hello world'"
      ]
     },
     "execution_count": 5,
     "metadata": {},
     "output_type": "execute_result"
    }
   ],
   "source": [
    "s = \"HELLO WORLD\"\n",
    "s = s.lower()\n",
    "s"
   ]
  },
  {
   "cell_type": "markdown",
   "metadata": {},
   "source": [
    "Выше мы вызвали встроенный метод ``lower()``, который преобразовывает строку в нижний регистр.\n",
    "Можно даже не объявлять отдельную переменную ``s``, а вызвать метод прямо от строкового литерала:"
   ]
  },
  {
   "cell_type": "code",
   "execution_count": 6,
   "metadata": {},
   "outputs": [
    {
     "data": {
      "text/plain": [
       "'hello world'"
      ]
     },
     "execution_count": 6,
     "metadata": {},
     "output_type": "execute_result"
    }
   ],
   "source": [
    "\"HELLO WORLD\".lower()"
   ]
  },
  {
   "cell_type": "markdown",
   "metadata": {},
   "source": [
    "Встроенные методы есть также у числовых объектов:"
   ]
  },
  {
   "cell_type": "code",
   "execution_count": 12,
   "metadata": {},
   "outputs": [
    {
     "data": {
      "text/plain": [
       "12.5"
      ]
     },
     "execution_count": 12,
     "metadata": {},
     "output_type": "execute_result"
    }
   ],
   "source": [
    "a = 9.5\n",
    "a.__add__(3)"
   ]
  },
  {
   "cell_type": "markdown",
   "metadata": {},
   "source": [
    "Обратите внимание что название некотрых методов обрамлено двойным символом подчеркивания ``__``. Такие методы называются \"магическими методами\" (magic methods). Предполагается, что они вызываются автоматически при совершении некоторых действий, а не непосредственно (как мы сделали выше). Например, внутренний метод ``__add__`` вызывается автоматически, когда мы применяем к числовому объекту оператор сложения ``+``:"
   ]
  },
  {
   "cell_type": "code",
   "execution_count": 13,
   "metadata": {},
   "outputs": [
    {
     "data": {
      "text/plain": [
       "12.5"
      ]
     },
     "execution_count": 13,
     "metadata": {},
     "output_type": "execute_result"
    }
   ],
   "source": [
    "a + 3 # Это то же самое что a.__add__(3)"
   ]
  },
  {
   "cell_type": "markdown",
   "metadata": {},
   "source": [
    "Питон \"из коробки\" предоставляет десятки встроенных методов для решения типовых задач.\n",
    "\n",
    "В наших приложениях и автоматизации \"скучных задач\" нам достаточно изучить встроенные методы и использовать уже разработанные кем-то библиотеки.\n",
    "\n",
    "Разработчики также создают собственные объекты и методы, в этом основная суть их работы. В рамках данного курса создание собственных объектов мы не изучаем, поскольку это объемная тема."
   ]
  },
  {
   "cell_type": "markdown",
   "metadata": {},
   "source": [
    "# Строки и списки\n",
    "\n",
    "Мы уже знаем, что:\n",
    "* строки объявляются в ординарных или двойных кавычках: ``\"Hi\"`` или ``'apple``\n",
    "* строки можно складывать при помощи конкатенации ``+``:"
   ]
  },
  {
   "cell_type": "code",
   "execution_count": 16,
   "metadata": {},
   "outputs": [
    {
     "name": "stdout",
     "output_type": "stream",
     "text": [
      "Hi, apple!\n"
     ]
    }
   ],
   "source": [
    "greeting = 'Hi'\n",
    "apple = 'apple'\n",
    "text = greeting + ', ' + apple + '!'\n",
    "print(text)"
   ]
  },
  {
   "cell_type": "markdown",
   "metadata": {},
   "source": [
    "## Специальные символы и экранирование\n",
    "\n",
    "Что, если мы хотим вывести на экран текст в кавычках? \n",
    "\n",
    "Кавычки используются как специальный символ языка для объявления строковых литералов. \n",
    "\n",
    "Если мы хотим буквально ввести сам символ кавычек, то используем **экранирование (escaping)**. Для экранирования используется символ ``\\`` (backslash).\n",
    "Пример:"
   ]
  },
  {
   "cell_type": "code",
   "execution_count": 19,
   "metadata": {},
   "outputs": [
    {
     "name": "stdout",
     "output_type": "stream",
     "text": [
      "'Hello'\n"
     ]
    }
   ],
   "source": [
    "print('\\'Hello\\'')"
   ]
  },
  {
   "cell_type": "markdown",
   "metadata": {},
   "source": [
    "Также существует много символов, которые не видны непосредственно, но влияют на вывод строк на экран. Они тоже вводятся с помощью символа ``\\``. Например:\n",
    "* символ табуляции ``\\t`` - задает отступ, полезен при форматировании таблиц\n",
    "* символ новой строки ``\\n`` - переводит каретку на следующую строку, как на печатной машинке\n",
    "\n",
    "Примеры:"
   ]
  },
  {
   "cell_type": "code",
   "execution_count": 39,
   "metadata": {},
   "outputs": [
    {
     "name": "stdout",
     "output_type": "stream",
     "text": [
      "Number\t| Sqr\t| Cube\n",
      "1\t| 1\t| 1\n",
      "2\t| 4\t| 8\n",
      "3\t| 9\t| 27\n",
      "4\t| 16\t| 64\n",
      "5\t| 25\t| 125\n"
     ]
    }
   ],
   "source": [
    "# табуляция полезна при печати таблиц\n",
    "\n",
    "# табулятор мы используем для отступа c выравниванием\n",
    "split = '\\t| '\n",
    "# заголовок таблицы\n",
    "header = 'Number' + split + 'Sqr' + split + 'Cube' \n",
    "\n",
    "numbers = [1, 2, 3, 4, 5]\n",
    "\n",
    "print(header)\n",
    "for num in numbers:\n",
    "    print (str(num) + split + str(num**2) + split + str(num**3))"
   ]
  },
  {
   "cell_type": "code",
   "execution_count": 68,
   "metadata": {},
   "outputs": [
    {
     "name": "stdout",
     "output_type": "stream",
     "text": [
      "Hello,\n",
      "World\n"
     ]
    }
   ],
   "source": [
    "some_text = 'Hello,\\nWorld'\n",
    "print(some_text)"
   ]
  },
  {
   "cell_type": "markdown",
   "metadata": {},
   "source": [
    "## Схожесть и различия строк и списков\n",
    "\n",
    "Мы уже сталкивались со списками. Списки можно конкатенировать так же, как и строки, при помощи знака ``+``:"
   ]
  },
  {
   "cell_type": "code",
   "execution_count": 45,
   "metadata": {},
   "outputs": [
    {
     "name": "stdout",
     "output_type": "stream",
     "text": [
      "[1, 2, 3, 4, 5]\n"
     ]
    }
   ],
   "source": [
    "some_list = [1, 2, 3] + [4, 5]\n",
    "print(some_list)"
   ]
  },
  {
   "cell_type": "markdown",
   "metadata": {},
   "source": [
    "В строках, как и в списках, можно использовать квадратные скобки для доступа к отдельным символам:"
   ]
  },
  {
   "cell_type": "code",
   "execution_count": 50,
   "metadata": {},
   "outputs": [
    {
     "name": "stdout",
     "output_type": "stream",
     "text": [
      "3\n",
      "l\n"
     ]
    }
   ],
   "source": [
    "print(some_list[2])    # взять второй элемент списка\n",
    "print(some_text[2])    # взять второй элемент строки"
   ]
  },
  {
   "cell_type": "markdown",
   "metadata": {},
   "source": [
    "Это не случайно, поскольку строка - не что иное, как список отдельных символов. \n",
    "\n",
    "*На заметку: во многих языках программирования (например в С) нет различия между строками и массивами. Массив - это список фиксированной длины однотипных объектов. \n",
    "В Питоне массивов нет, есть только списки (которые допускают и хранение разных типов, и динамическое изменение длины списка добавлением и удалением элементов).*\n",
    "\n",
    "В Питоне между списками и строками есть следующая разница:\n",
    "* в списке можно перезаписать любой элемент, списки являются изменямыми (mutable)\n",
    "* для строк в языке Питон такое действие запрещено, строки являются неизменяемыми (immutable)\n",
    "\n",
    "Такой код работает:"
   ]
  },
  {
   "cell_type": "code",
   "execution_count": 51,
   "metadata": {},
   "outputs": [
    {
     "name": "stdout",
     "output_type": "stream",
     "text": [
      "[1, 2, 100, 4, 5]\n"
     ]
    }
   ],
   "source": [
    "some_list[2] = 100\n",
    "print(some_list)"
   ]
  },
  {
   "cell_type": "markdown",
   "metadata": {},
   "source": [
    "А такой выдаст ошибку TypeError (запрет на присваивание значений элементам строки):"
   ]
  },
  {
   "cell_type": "code",
   "execution_count": 52,
   "metadata": {},
   "outputs": [
    {
     "ename": "TypeError",
     "evalue": "'str' object does not support item assignment",
     "output_type": "error",
     "traceback": [
      "\u001b[0;31m---------------------------------------------------------------------------\u001b[0m",
      "\u001b[0;31mTypeError\u001b[0m                                 Traceback (most recent call last)",
      "\u001b[1;32m/Users/ru13r/devel/py-basics/StringsLists.ipynb Cell 24\u001b[0m in \u001b[0;36m<module>\u001b[0;34m\u001b[0m\n\u001b[0;32m----> <a href='vscode-notebook-cell:/Users/ru13r/devel/py-basics/StringsLists.ipynb#X33sZmlsZQ%3D%3D?line=0'>1</a>\u001b[0m some_text[\u001b[39m2\u001b[39m] \u001b[39m=\u001b[39m \u001b[39m'\u001b[39m\u001b[39mA\u001b[39m\u001b[39m'\u001b[39m\n",
      "\u001b[0;31mTypeError\u001b[0m: 'str' object does not support item assignment"
     ]
    }
   ],
   "source": [
    "some_text[2] = 'A'"
   ]
  },
  {
   "cell_type": "markdown",
   "metadata": {},
   "source": [
    "Оба типа поддерживают функцию ``len``, которая возвращает количество элементов:"
   ]
  },
  {
   "cell_type": "code",
   "execution_count": 71,
   "metadata": {},
   "outputs": [
    {
     "name": "stdout",
     "output_type": "stream",
     "text": [
      "12\n"
     ]
    }
   ],
   "source": [
    "print(len(some_list)) \n",
    "print(len(some_text))"
   ]
  },
  {
   "cell_type": "markdown",
   "metadata": {},
   "source": [
    "На самом деле, когда мы вызываем функцию ``len`` у обеих объектов \"под капотом\" вызывается встроенный метод ``__len__``:"
   ]
  },
  {
   "cell_type": "code",
   "execution_count": 70,
   "metadata": {},
   "outputs": [
    {
     "name": "stdout",
     "output_type": "stream",
     "text": [
      "6\n",
      "12\n"
     ]
    }
   ],
   "source": [
    "print(some_list.__len__()) \n",
    "print(some_text.__len__())"
   ]
  },
  {
   "cell_type": "markdown",
   "metadata": {},
   "source": [
    "## Оператор среза ``[n:m]``\n",
    "\n",
    "Мы уже видели, что квадратные скобки используются для доступа к отдельным элементам строки или . В Питоне предусмотрен также **оператор среза (slice operator)**, который позволяет получить доступ к части строки или списка.\n",
    "Оператор ``[n:m]`` возвращает часть списка, начинающуюся с индекса ``n`` до индекса ``m``, не включая элемент с индексом ``m``.\n",
    "\n",
    "Пример:"
   ]
  },
  {
   "cell_type": "code",
   "execution_count": 55,
   "metadata": {},
   "outputs": [
    {
     "name": "stdout",
     "output_type": "stream",
     "text": [
      "[1, 2]\n",
      "apple\n"
     ]
    }
   ],
   "source": [
    "some_list = [0, 1, 2, 3, 4, 5]\n",
    "print(some_list[1:3])\n",
    "\n",
    "some_text = \"Mapple\"\n",
    "print(some_text[1:6])"
   ]
  },
  {
   "cell_type": "markdown",
   "metadata": {},
   "source": [
    "Если опустить первый индекс, то срез будет начинаться с начала строки. Если опустить второй индекс, срез будет идти до конца строки:"
   ]
  },
  {
   "cell_type": "code",
   "execution_count": 56,
   "metadata": {},
   "outputs": [
    {
     "name": "stdout",
     "output_type": "stream",
     "text": [
      "[0, 1, 2]\n",
      "apple\n"
     ]
    }
   ],
   "source": [
    "print(some_list[:3])\n",
    "print(some_text[1:])"
   ]
  },
  {
   "cell_type": "markdown",
   "metadata": {},
   "source": [
    "*Аналогия с Excel*. Для работы со строками предусмотрены функции LEFT, RIGHT и MID. Часто бывает, что вырезать нужный кусок из текста при помощи данных функций достаточно сложно. Оператор среза в Питоне гораздо мощнее. К тому же он работает и со списками, а не только со строками. "
   ]
  },
  {
   "cell_type": "markdown",
   "metadata": {},
   "source": [
    "Также с помощью среза можно быстро заменить значения в списке:"
   ]
  },
  {
   "cell_type": "code",
   "execution_count": 241,
   "metadata": {},
   "outputs": [
    {
     "name": "stdout",
     "output_type": "stream",
     "text": [
      "[0, 100, 101, 3, 4, 5]\n"
     ]
    }
   ],
   "source": [
    "some_list = [0, 1, 2, 3, 4, 5]\n",
    "some_list[1:3] = [100, 101]\n",
    "print(some_list)"
   ]
  },
  {
   "cell_type": "markdown",
   "metadata": {},
   "source": [
    "В строках так сделать нельзя, поскольку они являются неизменямыми (см. выше)."
   ]
  },
  {
   "cell_type": "markdown",
   "metadata": {},
   "source": [
    "## Функции split и join\n",
    "\n",
    "Поскольку списки и строки так похожи между собой, логично предположить, что есть встроенные функции, которые преобразовывают строку в список, и список в строку. Такие функции действительно есть:\n",
    "* функция ``split`` разбивает строку в список\n",
    "* функция ``join`` объединяет список в строку\n",
    "Обеим функциям в качестве аргумента надо скормить строку-разделитель (separator).\n",
    "\n",
    "Посмотрим, как они работают:"
   ]
  },
  {
   "cell_type": "code",
   "execution_count": 62,
   "metadata": {},
   "outputs": [
    {
     "name": "stdout",
     "output_type": "stream",
     "text": [
      "['I', 'am', 'learning', 'Python']\n",
      "I am learning Python\n"
     ]
    }
   ],
   "source": [
    "l = 'I am learning Python'.split(' ')   # разбиваем по пробелам на отдельные слова\n",
    "print(l)                                # теперь у нас список слов\n",
    "s = \" \".join(l)                         # объединяем список в строку, используя строку \" \" как разделитель\n",
    "print(s)                                # теперь у нас снова строка"
   ]
  },
  {
   "cell_type": "markdown",
   "metadata": {},
   "source": [
    "Пример - подсчет количества слов:"
   ]
  },
  {
   "cell_type": "code",
   "execution_count": 104,
   "metadata": {},
   "outputs": [
    {
     "name": "stdout",
     "output_type": "stream",
     "text": [
      "10\n"
     ]
    }
   ],
   "source": [
    "def wc(text):\n",
    "    count = 0\n",
    "    ss = text.split('\\n')\n",
    "    for s in ss:\n",
    "        count += len(s.split(' '))\n",
    "    return count\n",
    "\n",
    "sample = 'This is a sample text\\nto test our word count'\n",
    "\n",
    "print(wc(sample))\n",
    "\n"
   ]
  },
  {
   "cell_type": "markdown",
   "metadata": {},
   "source": [
    "Конечно, такой пример учебный. Для работы с реальным текстом необходимо также исключать знаки препинания, табуляторы и другие символы.\n",
    "\n",
    "Кроме того, для разбивки текста на строки, можно использовать функцию ``splitlines``:"
   ]
  },
  {
   "cell_type": "code",
   "execution_count": 127,
   "metadata": {},
   "outputs": [
    {
     "name": "stdout",
     "output_type": "stream",
     "text": [
      "['Hello', 'World']\n",
      "['Hello', 'World']\n"
     ]
    }
   ],
   "source": [
    "s = 'Hello\\nWorld'\n",
    "print(s.split('\\n'))    # как в примере выше\n",
    "print(s.splitlines())   # эквивалентная функция, но смотрится получше"
   ]
  },
  {
   "cell_type": "markdown",
   "metadata": {},
   "source": [
    "Еще один пример - загрузка данных из csv файла (текстовый формат данных, где значения разделены запятой) в список:"
   ]
  },
  {
   "cell_type": "code",
   "execution_count": 99,
   "metadata": {},
   "outputs": [
    {
     "name": "stdout",
     "output_type": "stream",
     "text": [
      "Original data from the CSV file:\n",
      "Brazil,100,104,108,112\n",
      "Russia,102,103,104,106\n",
      "\n",
      "List we can work with:\n",
      "[['Brazil', '100', '104', '108', '112'], ['Russia', '102', '103', '104', '106']]\n",
      "\n",
      "We can select country\n",
      "['Russia', '102', '103', '104', '106']\n",
      "\n",
      "And display it as table:\n",
      "| Russia\t|\n",
      "| 102\t\t|\n",
      "| 103\t\t|\n",
      "| 104\t\t|\n",
      "| 106\t\t|\n"
     ]
    }
   ],
   "source": [
    "text = 'Brazil,100,104,108,112\\nRussia,102,103,104,106'\n",
    "print('Original data from the CSV file:')\n",
    "print(text+'\\n')\n",
    "\n",
    "countries = text.split('\\n')    # разбили на отдельные строки\n",
    "data = []                       # пустой список для накопления данных\n",
    "for c in countries:\n",
    "    data = data + [c.split(',')]  # разбили по запятой каждую строку на отдельные значения\n",
    "\n",
    "print('List we can work with:')\n",
    "print(str(data)+'\\n')\n",
    "\n",
    "print('We can select country')\n",
    "russia = data[1]\n",
    "print(str(russia)+'\\n')\n",
    "\n",
    "print('And display it as table:')\n",
    "header = '| ' + russia[0] + '\\t|'\n",
    "rows = '\\t\\t|\\n| '.join(russia[1:])\n",
    "table = header + '\\n| ' + rows + '\\t\\t|'\n",
    "print(table)\n",
    "\n"
   ]
  },
  {
   "cell_type": "markdown",
   "metadata": {},
   "source": [
    "# Строки - основные функции\n",
    "\n",
    "## Функции для работы с регистром\n",
    "В практике работы с текстом, часто необходимо привести все слова к общему регистру. Например, в частотном анализе не имеет значения, написано слово с заглавной буквы (в начале предложения), капс локом (если кто-то кричит) или со строчной. Для преобразования регистра есть несколько встороенных функций."
   ]
  },
  {
   "cell_type": "code",
   "execution_count": 114,
   "metadata": {},
   "outputs": [
    {
     "name": "stdout",
     "output_type": "stream",
     "text": [
      "hello world\n",
      "Hello World\n",
      "Hello world\n",
      "HELLO WORLD\n",
      "groß\n",
      "gross\n",
      "gROSS\n"
     ]
    }
   ],
   "source": [
    "s = 'hello world'\n",
    "print(s)\n",
    "print(s.title())        # перевести первые буквы слов в верхний регистр\n",
    "print(s.capitalize())   # перевести первую букву первого слова в верхний регистр\n",
    "print(s.upper())        # перевести все буквы в верхний регистр\n",
    "\n",
    "s = \"Groß\"\n",
    "print(s.lower())        # перевести все буквы в нижний регистр\n",
    "print(s.casefold())     # перевести все буквы в нижний регистр (более агрессивная версия)\n",
    "print(s.swapcase())     # изменить регистр на противоположный"
   ]
  },
  {
   "cell_type": "markdown",
   "metadata": {},
   "source": [
    "## Функции для работы с пробелами\n",
    "\n",
    "Часто бывает, что:\n",
    "* в строке есть лишние пробелы в начале или конце,\n",
    "* в строке необходимо заменить табуляторы на пробелы.\n",
    "\n",
    "Для этого есть следующие функции:"
   ]
  },
  {
   "cell_type": "code",
   "execution_count": 121,
   "metadata": {},
   "outputs": [
    {
     "name": "stdout",
     "output_type": "stream",
     "text": [
      "'    hello world   '\n",
      "'hello world'\n",
      "'hello world   '\n",
      "'    hello world'\n",
      "\n",
      "\n",
      "'\tHello\t\tWorld'\n",
      "' Hello  World'\n"
     ]
    }
   ],
   "source": [
    "s = '    hello world   '\n",
    "\n",
    "# функция добавляет явные кавычки к строке, чтобы явно было видно, о чем речь\n",
    "def print_quotes(s):\n",
    "    print('\\'' + s +'\\'')\n",
    "\n",
    "print_quotes(s)\n",
    "print_quotes(s.strip())    # убрать лишние пробелы слева и справа\n",
    "print_quotes(s.lstrip())   # убрать лишние пробелы только слева\n",
    "print_quotes(s.rstrip())   # убрать лишние пробелы только справа\n",
    "\n",
    "print('\\n')              # печатаем пустые строки для отступа\n",
    "\n",
    "s = '\\tHello\\t\\tWorld'\n",
    "print_quotes(s)\n",
    "print_quotes(s.expandtabs(1)) # замена табуляторов на 1 пробел (можно менять параметр)"
   ]
  },
  {
   "cell_type": "markdown",
   "metadata": {},
   "source": [
    "Также есть функции, которые выравнивают строку текста, дополняя ее пробелами слева и справа. Параметром функций является полная длина строки, вторым параметром можно передать символ для заполнения."
   ]
  },
  {
   "cell_type": "code",
   "execution_count": 130,
   "metadata": {},
   "outputs": [
    {
     "name": "stdout",
     "output_type": "stream",
     "text": [
      "'a banana'\n",
      "'  a banana'\n",
      "'a banana  '\n",
      "' a banana '\n",
      "'=a banana='\n"
     ]
    }
   ],
   "source": [
    "txt = 'a banana'\n",
    "\n",
    "print_quotes(txt);\n",
    "print_quotes(txt.rjust(10))     # выравнивание по правому краю\n",
    "print_quotes(txt.ljust(10))     # выравнивание по левому краю\n",
    "print_quotes(txt.center(10))    # выравнивание по центру\n",
    "print_quotes(txt.center(10, '='))    # выравнивание по центру"
   ]
  },
  {
   "cell_type": "markdown",
   "metadata": {},
   "source": [
    "Также, иногда бывает нужно заполнить строку нулями слева (при форматировании чисел, даты времени):"
   ]
  },
  {
   "cell_type": "code",
   "execution_count": 132,
   "metadata": {},
   "outputs": [
    {
     "name": "stdout",
     "output_type": "stream",
     "text": [
      "0001\n",
      "0013\n",
      "0157\n",
      "4567\n"
     ]
    }
   ],
   "source": [
    "nums = [1, 13, 157, 4567]\n",
    "for n in nums:\n",
    "    print(str(n).zfill(4))"
   ]
  },
  {
   "cell_type": "markdown",
   "metadata": {},
   "source": [
    "## Определение содержимого строки\n",
    "\n",
    "Часто нужно проверить содержимое строки. Является ли она представляением числа (помним, что числа в текстовом файле или другом источнике будут именно строками, а не буквально числами) или содержит только буквы алфавита? Создатели Питона предусмотрели для этого встроенные функции, имена которых начинаются с is:"
   ]
  },
  {
   "cell_type": "code",
   "execution_count": 157,
   "metadata": {},
   "outputs": [
    {
     "name": "stdout",
     "output_type": "stream",
     "text": [
      "source: ['123', '123.0', 'a123', '123.1.1', 'abc']\n",
      "isalnum: [True, False, True, False, True]\n",
      "isdigit: [True, False, False, False, False]\n",
      "isnumeric: [True, False, False, False, False]\n",
      "isalpha: [False, False, False, False, True]\n"
     ]
    }
   ],
   "source": [
    "ss = ['123', '123.0', 'a123', '123.1.1', 'abc']\n",
    "\n",
    "print('source: ' + str(ss))\n",
    "result = []\n",
    "for s in ss:\n",
    "    result += [s.isalnum()]    # прогоняем функцию isalnum по списку\n",
    "print('isalnum: ' + str(result))\n",
    "\n",
    "result = []\n",
    "for s in ss:\n",
    "    result += [s.isdigit()]    \n",
    "print('isdigit: ' + str(result))\n",
    "\n",
    "result = []\n",
    "for s in ss:\n",
    "    result += [s.isnumeric()]    \n",
    "print('isnumeric: ' + str(result))\n",
    "\n",
    "result = []\n",
    "for s in ss:\n",
    "    result += [s.isalpha()]    \n",
    "print('isalpha: ' + str(result))\n"
   ]
  },
  {
   "cell_type": "markdown",
   "metadata": {},
   "source": [
    "Также есть встроенные функции, которые позволяют проверить регистр строки (``islower``, ``isupper``), содержит ли строка только пробелы (``isspace``) и другие."
   ]
  },
  {
   "cell_type": "markdown",
   "metadata": {},
   "source": [
    "## Функции поиска и замены\n",
    "\n",
    "### Поиск подстроки\n",
    "Для определения, есть ли в строке заданная подстрока, используется оператор ``in``:"
   ]
  },
  {
   "cell_type": "code",
   "execution_count": 209,
   "metadata": {},
   "outputs": [
    {
     "name": "stdout",
     "output_type": "stream",
     "text": [
      "True\n",
      "True\n",
      "False\n",
      "False\n"
     ]
    }
   ],
   "source": [
    "s = \"Hello world\"\n",
    "print('H' in s)\n",
    "print('Hello' in s)\n",
    "print('W' in s)\n",
    "print('apple' in s)"
   ]
  },
  {
   "cell_type": "markdown",
   "metadata": {},
   "source": [
    "Оператор ``in`` лишь говорит нам, есть ли у строки заданная подстрока, но не говорит ничего о том, где она находится внутри строки.\n",
    "\n",
    "Для поиска места вхождения подстроки в строку используются функции ``find`` и ``index``.\n",
    "\n",
    "Функция ``find`` возвращает индекс первого вхождения подстроки в строку:"
   ]
  },
  {
   "cell_type": "code",
   "execution_count": 212,
   "metadata": {},
   "outputs": [
    {
     "name": "stdout",
     "output_type": "stream",
     "text": [
      "7\n",
      "18\n"
     ]
    }
   ],
   "source": [
    "string = 'I like apples and bananas'\n",
    "\n",
    "print(string.find('apples'))\n",
    "print(string.find('bananas'))\n"
   ]
  },
  {
   "cell_type": "markdown",
   "metadata": {},
   "source": [
    "Далее мы можем использовать найденный индекс в программе. Например, удалить все, после слова 'and':"
   ]
  },
  {
   "cell_type": "code",
   "execution_count": 208,
   "metadata": {},
   "outputs": [
    {
     "data": {
      "text/plain": [
       "'I hate oranges'"
      ]
     },
     "execution_count": 208,
     "metadata": {},
     "output_type": "execute_result"
    }
   ],
   "source": [
    "i = string.find('and')\n",
    "string[:i-1]"
   ]
  },
  {
   "cell_type": "markdown",
   "metadata": {},
   "source": [
    "Если искомая строка отсутствует, функция ``find`` вернет индекс ``-1``:"
   ]
  },
  {
   "cell_type": "code",
   "execution_count": 162,
   "metadata": {},
   "outputs": [
    {
     "data": {
      "text/plain": [
       "-1"
      ]
     },
     "execution_count": 162,
     "metadata": {},
     "output_type": "execute_result"
    }
   ],
   "source": [
    "string.find('oranges')"
   ]
  },
  {
   "cell_type": "markdown",
   "metadata": {},
   "source": [
    "Функция ``index`` работает так же, как и ``find``, но в случае отсутствия совпадения ничего не возвращает, а выдает ошибку ``ValueError``. Ее можно использовать в комбинации с оператором ``in``."
   ]
  },
  {
   "cell_type": "code",
   "execution_count": 163,
   "metadata": {},
   "outputs": [
    {
     "ename": "ValueError",
     "evalue": "substring not found",
     "output_type": "error",
     "traceback": [
      "\u001b[0;31m---------------------------------------------------------------------------\u001b[0m",
      "\u001b[0;31mValueError\u001b[0m                                Traceback (most recent call last)",
      "\u001b[1;32m/Users/ru13r/devel/py-basics/StringsLists.ipynb Cell 60\u001b[0m in \u001b[0;36m<module>\u001b[0;34m\u001b[0m\n\u001b[0;32m----> <a href='vscode-notebook-cell:/Users/ru13r/devel/py-basics/StringsLists.ipynb#Y121sZmlsZQ%3D%3D?line=0'>1</a>\u001b[0m string\u001b[39m.\u001b[39;49mindex(\u001b[39m'\u001b[39;49m\u001b[39moranges\u001b[39;49m\u001b[39m'\u001b[39;49m)\n",
      "\u001b[0;31mValueError\u001b[0m: substring not found"
     ]
    }
   ],
   "source": [
    "string.index('oranges')"
   ]
  },
  {
   "cell_type": "code",
   "execution_count": 213,
   "metadata": {},
   "outputs": [
    {
     "name": "stdout",
     "output_type": "stream",
     "text": [
      "Not found\n"
     ]
    }
   ],
   "source": [
    "if('oranges' in string):\n",
    "    print(string.index('oranges'))\n",
    "else:\n",
    "    print('Not found')"
   ]
  },
  {
   "cell_type": "markdown",
   "metadata": {},
   "source": [
    "Данные функции поиска ищут первое вхождение подстроки в строку слева направо. Если нам нужно найти последнее вхождение (поиска справа налево), мы можем использовать аналоги ``rfind`` и ``rindex``:"
   ]
  },
  {
   "cell_type": "code",
   "execution_count": 164,
   "metadata": {},
   "outputs": [
    {
     "name": "stdout",
     "output_type": "stream",
     "text": [
      "16\n",
      "30\n"
     ]
    }
   ],
   "source": [
    "s = \"I like to write code and read code.\"\n",
    "print(s.find('code'))\n",
    "print(s.rfind('code'))"
   ]
  },
  {
   "cell_type": "markdown",
   "metadata": {},
   "source": [
    "Есть также функция ``partition``, которые разбивают строку на **кортеж (tuple)** (аналог списка, о нем речь пойдет далее) из трех частей:\n",
    "* все, что стоит до искомой подстроки значения,\n",
    "* искомая подстрока,\n",
    "* все, что стоит после искомой подстроки.\n",
    "\n",
    "Пример:"
   ]
  },
  {
   "cell_type": "code",
   "execution_count": 165,
   "metadata": {},
   "outputs": [
    {
     "name": "stdout",
     "output_type": "stream",
     "text": [
      "('I like ', 'apples', ' and bananas')\n"
     ]
    }
   ],
   "source": [
    "string = 'I like apples and bananas'\n",
    "parts = string.partition('apples')\n",
    "print(parts)"
   ]
  },
  {
   "cell_type": "markdown",
   "metadata": {},
   "source": [
    "Функция похожа на ``split``, только разбивает строку при первом вхождении, а не при каждом.\n",
    "У нее есть также аналог ``rpartition``, который выполняет поиск и разбиение справа налево."
   ]
  },
  {
   "cell_type": "markdown",
   "metadata": {},
   "source": [
    "Также у нас есть две функции ``startswith`` и ``endswith``, которые ищут подстроку только в начале или конце строки:"
   ]
  },
  {
   "cell_type": "code",
   "execution_count": 166,
   "metadata": {},
   "outputs": [
    {
     "name": "stdout",
     "output_type": "stream",
     "text": [
      "True\n",
      "False\n"
     ]
    }
   ],
   "source": [
    "string = 'I like apples and bananas'\n",
    "print(string.startswith('I like'))\n",
    "print(string.endswith('oranges'))"
   ]
  },
  {
   "cell_type": "markdown",
   "metadata": {},
   "source": [
    "### Замена подстроки\n",
    "\n",
    "Если мы хотим заменить подстроку на новую подстроку, нам нужна функция ``replace``."
   ]
  },
  {
   "cell_type": "code",
   "execution_count": 170,
   "metadata": {},
   "outputs": [
    {
     "name": "stdout",
     "output_type": "stream",
     "text": [
      "I like apples and bananas\n",
      "I like oranges and bananas\n",
      "I hate oranges and bananas\n",
      "I hate oranges and bananas\n"
     ]
    }
   ],
   "source": [
    "string = 'I like apples and bananas'\n",
    "print(string)\n",
    "string = string.replace('apples', 'oranges')\n",
    "print(string)\n",
    "string = string.replace('like', 'hate')\n",
    "print(string)\n",
    "string = string.replace('like', 'hate')\n",
    "print(string)"
   ]
  },
  {
   "cell_type": "markdown",
   "metadata": {},
   "source": [
    "В случае отсутствия совпадений ``replace`` возвращает исходную строку без изменений."
   ]
  },
  {
   "cell_type": "markdown",
   "metadata": {},
   "source": [
    "# Списки\n",
    "\n",
    "Списки являются важнейшим встроенным объектом любого языка программирования. Большинство приложений так или иначе сводится к следующему:\n",
    "* загрузить данные в список\n",
    "* обработать его каким-то алгоритмом\n",
    "* вывести результат.\n",
    "\n",
    "## Создание списка\n",
    "Для создания списка из другого объекта используется встроенная функция ``list``. Мы уже сталкивались с объектом ``range``, а также со строками. Посмотрим, как превратить их в список:"
   ]
  },
  {
   "cell_type": "code",
   "execution_count": 172,
   "metadata": {},
   "outputs": [
    {
     "data": {
      "text/plain": [
       "[0, 1, 2, 3, 4, 5, 6, 7, 8, 9]"
      ]
     },
     "execution_count": 172,
     "metadata": {},
     "output_type": "execute_result"
    }
   ],
   "source": [
    "rng = range(0,10)\n",
    "list(rng)"
   ]
  },
  {
   "cell_type": "code",
   "execution_count": 173,
   "metadata": {},
   "outputs": [
    {
     "data": {
      "text/plain": [
       "['H', 'e', 'l', 'l', 'o']"
      ]
     },
     "execution_count": 173,
     "metadata": {},
     "output_type": "execute_result"
    }
   ],
   "source": [
    "s = 'Hello'\n",
    "list(s)"
   ]
  },
  {
   "cell_type": "markdown",
   "metadata": {},
   "source": [
    "Разумеется, не всякий объект можно превратить в список. Для этого необходимо, чтобы он был **итерируемым (iterable)**. Не углубляясь в вопрос, пока достаочно запомнить, что итерируемый объект - это нечто \"спископодобное\", имеющее определенную последовательность элементов (например, строки или диапазоны таковыми являются)."
   ]
  },
  {
   "cell_type": "markdown",
   "metadata": {},
   "source": [
    "## Поиск элементов в списке\n",
    "\n",
    "Чтобы проверить, есть ли заданный элемент в списке, можно использовать оператор ``in``:"
   ]
  },
  {
   "cell_type": "code",
   "execution_count": 207,
   "metadata": {},
   "outputs": [
    {
     "name": "stdout",
     "output_type": "stream",
     "text": [
      "True\n",
      "False\n"
     ]
    }
   ],
   "source": [
    "my_list = [1, 2, 3, 4]\n",
    "print(4 in my_list)\n",
    "print(5 in my_list)"
   ]
  },
  {
   "cell_type": "markdown",
   "metadata": {},
   "source": [
    "Для поиска номера элемента в списке используется метод ``index``, который работает полностью аналогично методу ``index`` для строк:"
   ]
  },
  {
   "cell_type": "code",
   "execution_count": 203,
   "metadata": {},
   "outputs": [
    {
     "name": "stdout",
     "output_type": "stream",
     "text": [
      "3\n"
     ]
    }
   ],
   "source": [
    "my_list = [1, 2, 3, 4, 2, 3]\n",
    "print(my_list.index(4))"
   ]
  },
  {
   "cell_type": "markdown",
   "metadata": {},
   "source": [
    "## Добавление и удаление элементов из списка\n",
    "\n",
    "### Добавление элементов в конец списка\n",
    "Мы уже работали с конкатенацией списков оператором ``+``."
   ]
  },
  {
   "cell_type": "code",
   "execution_count": 177,
   "metadata": {},
   "outputs": [
    {
     "name": "stdout",
     "output_type": "stream",
     "text": [
      "[1, 2, 3, 12, 34]\n"
     ]
    }
   ],
   "source": [
    "my_list = [1, 2, 3] + [12, 34]\n",
    "print(my_list)"
   ]
  },
  {
   "cell_type": "markdown",
   "metadata": {},
   "source": [
    "Конкатенация работает, только если оба операнда являются списками. Например, следующий код выдаст ошибку типа ``TypeError``:"
   ]
  },
  {
   "cell_type": "code",
   "execution_count": 178,
   "metadata": {},
   "outputs": [
    {
     "ename": "TypeError",
     "evalue": "can only concatenate list (not \"int\") to list",
     "output_type": "error",
     "traceback": [
      "\u001b[0;31m---------------------------------------------------------------------------\u001b[0m",
      "\u001b[0;31mTypeError\u001b[0m                                 Traceback (most recent call last)",
      "\u001b[1;32m/Users/ru13r/devel/py-basics/StringsLists.ipynb Cell 78\u001b[0m in \u001b[0;36m<module>\u001b[0;34m\u001b[0m\n\u001b[0;32m----> <a href='vscode-notebook-cell:/Users/ru13r/devel/py-basics/StringsLists.ipynb#Y152sZmlsZQ%3D%3D?line=0'>1</a>\u001b[0m my_list \u001b[39m=\u001b[39m [\u001b[39m1\u001b[39;49m, \u001b[39m2\u001b[39;49m, \u001b[39m3\u001b[39;49m] \u001b[39m+\u001b[39;49m \u001b[39m1\u001b[39;49m\n",
      "\u001b[0;31mTypeError\u001b[0m: can only concatenate list (not \"int\") to list"
     ]
    }
   ],
   "source": [
    "my_list = [1, 2, 3] + 1\n",
    "print(my_list)"
   ]
  },
  {
   "cell_type": "markdown",
   "metadata": {},
   "source": [
    "Интерпретатор справедливо указывает, что нельзя \"складывать\" значения разных типов - список и целое число (яблоко с бананом). Одно из решений - обернуть это целое число в списочный литерал (как мы делали в примерах выше):"
   ]
  },
  {
   "cell_type": "code",
   "execution_count": 181,
   "metadata": {},
   "outputs": [
    {
     "name": "stdout",
     "output_type": "stream",
     "text": [
      "[1, 2, 3, 1]\n"
     ]
    }
   ],
   "source": [
    "my_list = [1, 2, 3] + [1]\n",
    "print(my_list)"
   ]
  },
  {
   "cell_type": "markdown",
   "metadata": {},
   "source": [
    "Для добавления элементов в конец списка существует встроенная функция ``append``:"
   ]
  },
  {
   "cell_type": "code",
   "execution_count": 182,
   "metadata": {},
   "outputs": [
    {
     "name": "stdout",
     "output_type": "stream",
     "text": [
      "[1, 2, 3, 1]\n"
     ]
    }
   ],
   "source": [
    "my_list = [1, 2, 3]\n",
    "my_list.append(1)\n",
    "print(my_list)"
   ]
  },
  {
   "cell_type": "markdown",
   "metadata": {},
   "source": [
    "Пример добавления элементов в список - последовательность Фибоначчи: \n",
    "* первые два числа равны 1, \n",
    "* каждое число, начиная с третьего, равно сумме двух предыдущих.\n",
    "\n",
    "(Эта последовательность играет важную роль в математике, программировании и природе)"
   ]
  },
  {
   "cell_type": "code",
   "execution_count": 184,
   "metadata": {},
   "outputs": [
    {
     "name": "stdout",
     "output_type": "stream",
     "text": [
      "[1, 1, 2, 3, 5, 8, 13, 21, 34, 55]\n"
     ]
    }
   ],
   "source": [
    "fib = [1, 1]\n",
    "for i in range(2,10):\n",
    "    fib.append(fib[i-1]+fib[i-2])\n",
    "print(fib)"
   ]
  },
  {
   "cell_type": "markdown",
   "metadata": {},
   "source": [
    "Мы также можем добавить в конец не один элемент, а целый список элементов при помощи метода ``extend``."
   ]
  },
  {
   "cell_type": "code",
   "execution_count": 189,
   "metadata": {},
   "outputs": [
    {
     "name": "stdout",
     "output_type": "stream",
     "text": [
      "[1, 2, 3, 4, 5, 6, 7, 8, 9]\n"
     ]
    }
   ],
   "source": [
    "my_list = [1, 2, 3]\n",
    "my_list.extend(range(4, 10))\n",
    "print(my_list)"
   ]
  },
  {
   "cell_type": "markdown",
   "metadata": {},
   "source": [
    "На первый взгляд функция ``extend`` дублирует конкатенацию. На самом деле в приложениях данная функция (так же как и ``append``) является более гибкой - она позволяет добавлять в конец списка содержимое любого итерируемого объекта, тогда как конкатенация работает только с \"чистыми\" списками."
   ]
  },
  {
   "cell_type": "markdown",
   "metadata": {},
   "source": [
    "Мы также можем вставить элемент в произвольное место списка. Для этого существует метод ``insert``, которому аргументом передается индекс места вставки:"
   ]
  },
  {
   "cell_type": "code",
   "execution_count": 191,
   "metadata": {},
   "outputs": [
    {
     "name": "stdout",
     "output_type": "stream",
     "text": [
      "[1, 2, 100, 3]\n"
     ]
    }
   ],
   "source": [
    "my_list = [1, 2, 3]\n",
    "my_list.insert(2, 100)\n",
    "print(my_list)"
   ]
  },
  {
   "cell_type": "markdown",
   "metadata": {},
   "source": [
    "### Удаление элементов из списка\n",
    "Для удаления элемента с заданным индексом используется метод ``pop``:"
   ]
  },
  {
   "cell_type": "code",
   "execution_count": 192,
   "metadata": {},
   "outputs": [
    {
     "name": "stdout",
     "output_type": "stream",
     "text": [
      "[1, 2, 100, 3]\n",
      "Removed item: 100\n",
      "List after removal: [1, 2, 3]\n"
     ]
    }
   ],
   "source": [
    "print(my_list)\n",
    "removed_item = my_list.pop(2)\n",
    "print('Removed item: ' + str(removed_item))\n",
    "print ('List after removal: ' + str(my_list))"
   ]
  },
  {
   "cell_type": "markdown",
   "metadata": {},
   "source": [
    "Если вызвать метод ``pop`` без аргументов, то он удаляет последний элемент списка:"
   ]
  },
  {
   "cell_type": "code",
   "execution_count": 193,
   "metadata": {},
   "outputs": [
    {
     "name": "stdout",
     "output_type": "stream",
     "text": [
      "[1, 2, 3]\n",
      "Removed item: 3\n",
      "List after removal: [1, 2]\n"
     ]
    }
   ],
   "source": [
    "print(my_list)\n",
    "removed_item = my_list.pop()\n",
    "print('Removed item: ' + str(removed_item))\n",
    "print ('List after removal: ' + str(my_list))"
   ]
  },
  {
   "cell_type": "markdown",
   "metadata": {},
   "source": [
    "Также предусмотрен метод ``remove``, который удаляет *первый* элемент с заданным значением. Он совмещает в себе работу методов ``index`` и ``pop``:"
   ]
  },
  {
   "cell_type": "code",
   "execution_count": 194,
   "metadata": {},
   "outputs": [
    {
     "name": "stdout",
     "output_type": "stream",
     "text": [
      "[1, 3, 4, 2, 3]\n"
     ]
    }
   ],
   "source": [
    "my_list = [1, 2, 3, 4, 2, 3]\n",
    "my_list.remove(2)\n",
    "print(my_list)"
   ]
  },
  {
   "cell_type": "markdown",
   "metadata": {},
   "source": [
    "Если искомого элемента в списке нет, метод ``remove`` бросает ошбику ``ValueError`` и программа завершается."
   ]
  },
  {
   "cell_type": "code",
   "execution_count": 195,
   "metadata": {},
   "outputs": [
    {
     "ename": "ValueError",
     "evalue": "list.remove(x): x not in list",
     "output_type": "error",
     "traceback": [
      "\u001b[0;31m---------------------------------------------------------------------------\u001b[0m",
      "\u001b[0;31mValueError\u001b[0m                                Traceback (most recent call last)",
      "\u001b[1;32m/Users/ru13r/devel/py-basics/StringsLists.ipynb Cell 97\u001b[0m in \u001b[0;36m<module>\u001b[0;34m\u001b[0m\n\u001b[1;32m      <a href='vscode-notebook-cell:/Users/ru13r/devel/py-basics/StringsLists.ipynb#Y211sZmlsZQ%3D%3D?line=0'>1</a>\u001b[0m my_list \u001b[39m=\u001b[39m [\u001b[39m1\u001b[39m, \u001b[39m2\u001b[39m, \u001b[39m3\u001b[39m, \u001b[39m4\u001b[39m, \u001b[39m2\u001b[39m, \u001b[39m3\u001b[39m]\n\u001b[0;32m----> <a href='vscode-notebook-cell:/Users/ru13r/devel/py-basics/StringsLists.ipynb#Y211sZmlsZQ%3D%3D?line=1'>2</a>\u001b[0m my_list\u001b[39m.\u001b[39;49mremove(\u001b[39m5\u001b[39;49m)\n\u001b[1;32m      <a href='vscode-notebook-cell:/Users/ru13r/devel/py-basics/StringsLists.ipynb#Y211sZmlsZQ%3D%3D?line=2'>3</a>\u001b[0m \u001b[39mprint\u001b[39m(my_list)\n",
      "\u001b[0;31mValueError\u001b[0m: list.remove(x): x not in list"
     ]
    }
   ],
   "source": [
    "my_list = [1, 2, 3, 4, 2, 3]\n",
    "my_list.remove(5)\n",
    "print(my_list)"
   ]
  },
  {
   "cell_type": "markdown",
   "metadata": {},
   "source": [
    "Чтобы избежать ошибки, мы можем сначала проверить, есть ли в списке заданный элемент:"
   ]
  },
  {
   "cell_type": "code",
   "execution_count": 200,
   "metadata": {},
   "outputs": [
    {
     "name": "stdout",
     "output_type": "stream",
     "text": [
      "[1, 2, 3, 4, 2, 3]\n",
      "Element 2 removed\n",
      "[1, 3, 4, 2, 3]\n"
     ]
    }
   ],
   "source": [
    "my_list = [1, 2, 3, 4, 2, 3]\n",
    "print(my_list)\n",
    "\n",
    "element = 2\n",
    "if (element in my_list):\n",
    "    my_list.remove(element)\n",
    "    print('Element ' + str(element) + ' removed')\n",
    "else:\n",
    "    print('First element ' + str(element) + ' not found')\n",
    "print(my_list)"
   ]
  },
  {
   "cell_type": "markdown",
   "metadata": {},
   "source": [
    "## Копирование списку\n",
    "\n",
    "Если нам необходимо сделать копию списка, мы можем воспользоваться методом ``copy``:"
   ]
  },
  {
   "cell_type": "code",
   "execution_count": 216,
   "metadata": {},
   "outputs": [
    {
     "name": "stdout",
     "output_type": "stream",
     "text": [
      "Original list: ['apple', 'orange', 'banana', 'peach']\n",
      "Copied list: ['apple', 'orange', 'banana', 'peach']\n"
     ]
    }
   ],
   "source": [
    "my_list = ['apple', 'orange', 'banana', 'peach']\n",
    "print('Original list: ' + str(my_list))\n",
    "another_list = my_list.copy()\n",
    "print('Copied list: ' + str(another_list))"
   ]
  },
  {
   "cell_type": "markdown",
   "metadata": {},
   "source": [
    "Зачем нужна такая операция, разве нельзя сделать просто присваивание? Давайте посмотрим, что произойдет, если просто присвоить новой переменной существующий список:"
   ]
  },
  {
   "cell_type": "code",
   "execution_count": 217,
   "metadata": {},
   "outputs": [
    {
     "name": "stdout",
     "output_type": "stream",
     "text": [
      "Original list: ['apple', 'orange', 'banana', 'peach']\n",
      "Copied list: ['apple', 'orange', 'banana', 'peach']\n"
     ]
    }
   ],
   "source": [
    "my_list = ['apple', 'orange', 'banana', 'peach']\n",
    "print('Original list: ' + str(my_list))\n",
    "another_list = my_list\n",
    "print('Copied list: ' + str(another_list))"
   ]
  },
  {
   "cell_type": "markdown",
   "metadata": {},
   "source": [
    "На первый взгляд, все то же самое. Но давайте попробуем удалить элемент:"
   ]
  },
  {
   "cell_type": "code",
   "execution_count": 218,
   "metadata": {},
   "outputs": [
    {
     "name": "stdout",
     "output_type": "stream",
     "text": [
      "Original list: ['apple', 'orange', 'banana']\n",
      "Copied list: ['apple', 'orange', 'banana']\n"
     ]
    }
   ],
   "source": [
    "another_list.pop()\n",
    "print('Original list: ' + str(my_list))\n",
    "print('Copied list: ' + str(another_list))"
   ]
  },
  {
   "cell_type": "markdown",
   "metadata": {},
   "source": [
    "Оригинальный список тоже изменился? Почему так происходит? Дело в том, что для составных типов переменная (имя) является просто ссылкой на некоторый объект. После обычного присваивания у нас просто две ссылки, указывающие на один и тот же объект. При копировании создается новый объект, а не ссылка на существующий:"
   ]
  },
  {
   "cell_type": "code",
   "execution_count": 219,
   "metadata": {},
   "outputs": [
    {
     "name": "stdout",
     "output_type": "stream",
     "text": [
      "Original list: ['apple', 'orange', 'banana', 'peach']\n",
      "Copied list: ['apple', 'orange', 'banana']\n"
     ]
    }
   ],
   "source": [
    "my_list = ['apple', 'orange', 'banana', 'peach']\n",
    "print('Original list: ' + str(my_list))\n",
    "another_list = my_list.copy()\n",
    "another_list.pop()\n",
    "print('Copied list: ' + str(another_list))"
   ]
  },
  {
   "cell_type": "markdown",
   "metadata": {},
   "source": [
    "Теперь все работает, как ожидалось.\n",
    "\n",
    "Заметим, что с числами или строками присвоение копирует значение, а не ссылку. Эти типы не являются составными (не имеют изменяемых элементов):"
   ]
  },
  {
   "cell_type": "code",
   "execution_count": 223,
   "metadata": {},
   "outputs": [
    {
     "name": "stdout",
     "output_type": "stream",
     "text": [
      "oranges and bananas\n",
      "bananas\n"
     ]
    }
   ],
   "source": [
    "s1 = 'oranges and bananas'\n",
    "s2 = s1\n",
    "s2 = s2.replace('oranges and ', '')\n",
    "print(s1)\n",
    "print(s2)"
   ]
  },
  {
   "cell_type": "markdown",
   "metadata": {},
   "source": [
    "Со списками, кортежами, словарями и другими составными объектами присваивание их переменным создает новые ссылки, а не копирует весь объект. Следует об этом помнить."
   ]
  },
  {
   "cell_type": "markdown",
   "metadata": {},
   "source": [
    "## Сортировка списка\n",
    "\n",
    "Метод ``sort`` без аргументов сортирует список по возрастанию:"
   ]
  },
  {
   "cell_type": "code",
   "execution_count": 232,
   "metadata": {},
   "outputs": [
    {
     "name": "stdout",
     "output_type": "stream",
     "text": [
      "[1, 1, 3, 4, 4, 5, 6, 7, 7, 8]\n"
     ]
    }
   ],
   "source": [
    "l = [7, 1, 6, 3, 4, 5, 1, 8, 7, 4]\n",
    "l.sort()\n",
    "print(l)"
   ]
  },
  {
   "cell_type": "markdown",
   "metadata": {},
   "source": [
    "Для сортировки по убыванию, необходимо передать в метод ``sort`` именованный аргумент reverse (о них более подробно чуть дальше поговорим):"
   ]
  },
  {
   "cell_type": "code",
   "execution_count": 233,
   "metadata": {},
   "outputs": [
    {
     "name": "stdout",
     "output_type": "stream",
     "text": [
      "[8, 7, 7, 6, 5, 4, 4, 3, 1, 1]\n"
     ]
    }
   ],
   "source": [
    "l = [7, 1, 6, 3, 4, 5, 1, 8, 7, 4]\n",
    "l.sort(reverse=True)\n",
    "print(l)"
   ]
  },
  {
   "cell_type": "markdown",
   "metadata": {},
   "source": [
    "Мы также можем использовать собственную функцию для критерия сортировки.\n",
    "Например, строки можно отсортировать в лексикографическом порядке:"
   ]
  },
  {
   "cell_type": "code",
   "execution_count": 234,
   "metadata": {},
   "outputs": [
    {
     "name": "stdout",
     "output_type": "stream",
     "text": [
      "['apple', 'banana', 'orange', 'peach', 'pear', 'plum']\n"
     ]
    }
   ],
   "source": [
    "l = ['banana', 'apple', 'orange', 'pear', 'peach', 'plum']\n",
    "l.sort()\n",
    "print(l)"
   ]
  },
  {
   "cell_type": "markdown",
   "metadata": {},
   "source": [
    "А можно отсортировать по длине слов. Для этого объявляем функцию, которая по элементу выдает число и передаем ее в метод ``sort`` через именованный аргумент key (``sort`` будет сравнивать эти числа, а не сами элементы списка):"
   ]
  },
  {
   "cell_type": "code",
   "execution_count": 235,
   "metadata": {},
   "outputs": [
    {
     "name": "stdout",
     "output_type": "stream",
     "text": [
      "['pear', 'plum', 'apple', 'peach', 'banana', 'orange']\n"
     ]
    }
   ],
   "source": [
    "l = ['banana', 'apple', 'orange', 'pear', 'peach', 'plum']\n",
    "def myFunc(e):\n",
    "  return len(e)\n",
    "\n",
    "l.sort(key=myFunc)      # можно было написать key=len, так как функция встроенная\n",
    "print(l)\n"
   ]
  },
  {
   "cell_type": "markdown",
   "metadata": {},
   "source": [
    "## Прочие методы списков\n",
    "\n",
    "Метод ``count`` позволяет посчитать, сколько раз элемент встречается в списке:"
   ]
  },
  {
   "cell_type": "code",
   "execution_count": 224,
   "metadata": {},
   "outputs": [
    {
     "data": {
      "text/plain": [
       "3"
      ]
     },
     "execution_count": 224,
     "metadata": {},
     "output_type": "execute_result"
    }
   ],
   "source": [
    "l = [1, 2, 3, 2, 2, 4, 7, 1]\n",
    "l.count(2)"
   ]
  },
  {
   "cell_type": "markdown",
   "metadata": {},
   "source": [
    "Метод ``clear`` удаляет все элементы списка. В результате остается пустой список ``[]``:"
   ]
  },
  {
   "cell_type": "code",
   "execution_count": 225,
   "metadata": {},
   "outputs": [
    {
     "name": "stdout",
     "output_type": "stream",
     "text": [
      "[]\n"
     ]
    }
   ],
   "source": [
    "l.clear()\n",
    "print(l)"
   ]
  },
  {
   "cell_type": "markdown",
   "metadata": {},
   "source": [
    "Метод ``reverse`` переворачивает список в обратный порядок."
   ]
  },
  {
   "cell_type": "code",
   "execution_count": 238,
   "metadata": {},
   "outputs": [
    {
     "name": "stdout",
     "output_type": "stream",
     "text": [
      "[3, 2, 1]\n"
     ]
    }
   ],
   "source": [
    "l = [1, 2, 3]\n",
    "l.reverse()\n",
    "print(l)"
   ]
  }
 ],
 "metadata": {
  "kernelspec": {
   "display_name": "Python 3.9.10 64-bit ('3.9.10')",
   "language": "python",
   "name": "python3"
  },
  "language_info": {
   "codemirror_mode": {
    "name": "ipython",
    "version": 3
   },
   "file_extension": ".py",
   "mimetype": "text/x-python",
   "name": "python",
   "nbconvert_exporter": "python",
   "pygments_lexer": "ipython3",
   "version": "3.9.10"
  },
  "orig_nbformat": 4,
  "vscode": {
   "interpreter": {
    "hash": "7551de34fdc406bb8beb396eff8fa233ed1ef8f1a9758d8424385c9abb2d2a0c"
   }
  }
 },
 "nbformat": 4,
 "nbformat_minor": 2
}
