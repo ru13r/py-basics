{
 "cells": [
  {
   "cell_type": "markdown",
   "metadata": {},
   "source": [
    "## Работа с Excel"
   ]
  },
  {
   "cell_type": "markdown",
   "metadata": {},
   "source": [
    "Среди многообразия библиотек python для работы с Excel наиболее обширным функционалом для автоматизации из бесплатных решений на наш взгляд обладает библиотека **xlwings**.\n",
    "\n",
    "Xlwings позволяет подключаться к открытым файлам Excel, читать и редактировать данные. Также после установки специальной надстройки для Excel, xlwings позволяет запускать скрипты python прямо из Excel и писать пользовательские функции для Excel на языке python."
   ]
  },
  {
   "cell_type": "markdown",
   "metadata": {},
   "source": [
    "### Начало работы"
   ]
  },
  {
   "cell_type": "markdown",
   "metadata": {},
   "source": [
    "Импортируем библиотеку xlwings"
   ]
  },
  {
   "cell_type": "code",
   "execution_count": 1,
   "metadata": {},
   "outputs": [],
   "source": [
    "import xlwings as xw"
   ]
  },
  {
   "cell_type": "markdown",
   "metadata": {},
   "source": [
    "Для того, чтобы подключиться к открытой книге Excel, необходимо воспользоваться функцией ```xw.Book('File.xlsx')```, указав в качестве аргумента название файла. Если файл не открыт, но находится в рабочей директории, то аналогичная инструкция откроет этот файл. Функция ```Book()``` возвращает ссылку на объект типа ```Book```, с помощью которого можно читать и редактировать данные в соответствующей рабочей книге.\n",
    "\n",
    "Откроем файл \"Examples/Exchange rates/USD.xlsx\" в Excel и попробуем подключиться к открытому документы из python."
   ]
  },
  {
   "cell_type": "code",
   "execution_count": 2,
   "metadata": {},
   "outputs": [],
   "source": [
    "wb = xw.Book('USD.xlsx') # Переменная wb теперь содержит объект Book, ссылающийся на открытую книгу USD.xlsx"
   ]
  },
  {
   "cell_type": "markdown",
   "metadata": {},
   "source": [
    "Чтобы убедиться в том, что переменная wb теперь действительно содержит ссылку на наш файл Excel, попробуем прочитать какие-нибудь данные из файла. Детальное описание следующей инструкции будет приведено далее в тренинге."
   ]
  },
  {
   "cell_type": "code",
   "execution_count": 3,
   "metadata": {},
   "outputs": [
    {
     "name": "stdout",
     "output_type": "stream",
     "text": [
      "[['data', 'curs'], [datetime.datetime(2021, 12, 31, 0, 0), 74.2926]]\n"
     ]
    }
   ],
   "source": [
    "print(wb.sheets[0].range('B1:C2').value)"
   ]
  },
  {
   "cell_type": "markdown",
   "metadata": {},
   "source": [
    "Как видим, мы действительно получили содержимое диапазона B1:C2 в открытом файле: заголовок таблицы и первую строку с данными (дата и курс).\n",
    "\n",
    "Теперь попробуем открыть файл Excel с помощью python. Для этого, как уже упоминалось, нужно воспользоваться аналогичной функцией и передать ей путь к файлу в качестве аргумента."
   ]
  },
  {
   "cell_type": "code",
   "execution_count": 4,
   "metadata": {},
   "outputs": [],
   "source": [
    "chf = xw.Book('Examples/Exchange rates/CHF.xlsx')"
   ]
  },
  {
   "cell_type": "markdown",
   "metadata": {},
   "source": [
    "Альтернативно можно воспользоваться функцией ```xw.books.open('path')```"
   ]
  },
  {
   "cell_type": "code",
   "execution_count": 5,
   "metadata": {},
   "outputs": [],
   "source": [
    "jpy = xw.books.open('Examples/Exchange rates/JPY.xlsx')"
   ]
  },
  {
   "cell_type": "markdown",
   "metadata": {},
   "source": [
    "Сохранить и закрыть книгу можно при помощи функций ```save()``` и ```close()``` соответственно. Обратите внимание на то, что функция ```close()``` закрывает книгу без сохранения и, не выдавая стандартное окно с предложением сохранить изменения. Поэтому перед ее вызовом обязательно нужно убедиться, что все необходимые изменения сохранены - восстановить потерянные правки после закрытия будет не возможно!"
   ]
  },
  {
   "cell_type": "code",
   "execution_count": 6,
   "metadata": {},
   "outputs": [],
   "source": [
    "jpy.save()\n",
    "jpy.close()"
   ]
  },
  {
   "cell_type": "markdown",
   "metadata": {},
   "source": [
    "### Объектная модель Xlwings"
   ]
  },
  {
   "cell_type": "markdown",
   "metadata": {},
   "source": [
    "Объекты в xlwings имеют ту же иерархию (и те же названия), что и в Excel:\n",
    "    \n",
    "**Application -> Workbook -> Sheet -> Range**\n",
    "\n",
    "Соответственно из любого объекта ```Book``` (как те, которые мы создавали в прошлых примерах), можно обратиться к дочерним объектам - листам. Такой объект называется ```Sheet```. В xlwings они сгруппированы в коллекцию ```sheets```, и к конкретным листам можно обращаться либо по их названию, либо по индексу."
   ]
  },
  {
   "cell_type": "code",
   "execution_count": 7,
   "metadata": {},
   "outputs": [
    {
     "name": "stdout",
     "output_type": "stream",
     "text": [
      "RC\n"
     ]
    }
   ],
   "source": [
    "print(wb.sheets[0].name) # Вывести имя первого листа (индексация с нуля!)"
   ]
  },
  {
   "cell_type": "code",
   "execution_count": 8,
   "metadata": {},
   "outputs": [
    {
     "name": "stdout",
     "output_type": "stream",
     "text": [
      "RC\n"
     ]
    }
   ],
   "source": [
    "print(wb.sheets['RC'].name) # Аналогичный результат, но уже с обращением к листу по имени, а не по индексу"
   ]
  },
  {
   "cell_type": "markdown",
   "metadata": {},
   "source": [
    "Для создания нового листа необходимо воспользоваться функцией ```add()```. Опционально можно передать ей в качестве аргументов имя нового листа и его расположение (перед или после какого-либо из существующих листов)."
   ]
  },
  {
   "cell_type": "code",
   "execution_count": 9,
   "metadata": {},
   "outputs": [
    {
     "data": {
      "text/plain": [
       "<Sheet [USD.xlsx]Sheet1>"
      ]
     },
     "execution_count": 9,
     "metadata": {},
     "output_type": "execute_result"
    }
   ],
   "source": [
    "wb.sheets.add() # Добавлен новый лист с именем по умолчанию (н.п. \"Sheet1\")"
   ]
  },
  {
   "cell_type": "code",
   "execution_count": 10,
   "metadata": {},
   "outputs": [
    {
     "data": {
      "text/plain": [
       "<Sheet [USD.xlsx]new>"
      ]
     },
     "execution_count": 10,
     "metadata": {},
     "output_type": "execute_result"
    }
   ],
   "source": [
    "wb.sheets.add('new') # Добавлен новый лист с именем \"new\""
   ]
  },
  {
   "cell_type": "code",
   "execution_count": 11,
   "metadata": {},
   "outputs": [
    {
     "data": {
      "text/plain": [
       "<Sheet [USD.xlsx]before>"
      ]
     },
     "execution_count": 11,
     "metadata": {},
     "output_type": "execute_result"
    }
   ],
   "source": [
    "wb.sheets.add('before', before='RC') # Добавлен новый лист с именем \"before\" перед листом \"RC\""
   ]
  },
  {
   "cell_type": "code",
   "execution_count": 12,
   "metadata": {},
   "outputs": [
    {
     "data": {
      "text/plain": [
       "<Sheet [USD.xlsx]after>"
      ]
     },
     "execution_count": 12,
     "metadata": {},
     "output_type": "execute_result"
    }
   ],
   "source": [
    "wb.sheets.add('after', after='RC') # Добавлен новый лист с именем \"after\" после листа \"RC\""
   ]
  },
  {
   "cell_type": "markdown",
   "metadata": {},
   "source": [
    "Дочерним объектом для листа (```Sheet```) является объект диапазон - ```Range```. К диапазону можно обращаться аналогично тому, как это осуществляется в Excel - по адресу (н.п. 'B1' или 'A1:B2') или по имени (другие способы останутся за пределами данного тренинга, но они описаны в документации к xlwings).\n",
    "\n",
    "Давайте попробуем прочитать значение ячейки A1 в файле \"USD.xlsx\" при помощи свойства ```value``` листа."
   ]
  },
  {
   "cell_type": "code",
   "execution_count": 13,
   "metadata": {},
   "outputs": [
    {
     "name": "stdout",
     "output_type": "stream",
     "text": [
      "nominal\n"
     ]
    }
   ],
   "source": [
    "print(wb.sheets['RC'].range('A1').value)"
   ]
  },
  {
   "cell_type": "markdown",
   "metadata": {},
   "source": [
    "Теперь давайте вернемся в Excel и назовем диапазон A1:D1 на листе RC *title*. А затем попробуем прочитать данные из него в python по имени этого диапазона."
   ]
  },
  {
   "cell_type": "code",
   "execution_count": 14,
   "metadata": {},
   "outputs": [
    {
     "name": "stdout",
     "output_type": "stream",
     "text": [
      "['nominal', 'data', 'curs', 'cdx']\n"
     ]
    }
   ],
   "source": [
    "print(wb.sheets['RC'].range('title').value)"
   ]
  },
  {
   "cell_type": "markdown",
   "metadata": {},
   "source": [
    "### Работа с диапазонами"
   ]
  },
  {
   "cell_type": "markdown",
   "metadata": {},
   "source": [
    "Как мы уже видели выше, данные из диапазона в Excel можно получать при помощи свойства ```value``` листа. Однако аналогично можно и записывать значения в ячейку, присвоив данному свойству нужное значение."
   ]
  },
  {
   "cell_type": "code",
   "execution_count": 15,
   "metadata": {},
   "outputs": [],
   "source": [
    "wb.sheets['RC'].range('F1').value = '3d average'"
   ]
  },
  {
   "cell_type": "code",
   "execution_count": 16,
   "metadata": {},
   "outputs": [],
   "source": [
    "rates = wb.sheets['RC'].range('C2:C4').value # Получаем массив значений курса за первые 3 дня\n",
    "average = sum(rates) / len(rates) # Находим среднее из этих трех значений\n",
    "wb.sheets['RC'].range('F2').value = average # Записываем получившийся результат в ячейку F2"
   ]
  },
  {
   "cell_type": "markdown",
   "metadata": {},
   "source": [
    "Аналогично можно записать в ячейку формулу, которая будет динамически работать в Excel. Например, создадим в ячейке F3 формулу, дающую аналогичный результат предыдущим вычислениям."
   ]
  },
  {
   "cell_type": "code",
   "execution_count": 17,
   "metadata": {},
   "outputs": [],
   "source": [
    "wb.sheets['RC'].range('F3').value = '=AVERAGE(C2:C4)'"
   ]
  },
  {
   "cell_type": "markdown",
   "metadata": {},
   "source": [
    "Как мы уже видели в примере с чтением заголовка таблицы по имени диапазона, данные из диапазонов в Excel возвращаются в python в виде массива. В случае с двумерным диапазоном массив также будет двумерным, где первым уровнем будут строки таблицы, а вторым - столбцы.\n",
    "\n",
    "```\n",
    "[\n",
    "        [Столбец 1, Столбец 2],   -> строка 1\n",
    "        [Столбец 1, Столбец 2]    -> строка 2\n",
    "]\n",
    "```\n",
    "\n",
    "Для примера получим данные курса за первые два дня вместе с датами."
   ]
  },
  {
   "cell_type": "code",
   "execution_count": 18,
   "metadata": {},
   "outputs": [
    {
     "name": "stdout",
     "output_type": "stream",
     "text": [
      "[['data', 'curs'], [datetime.datetime(2021, 12, 31, 0, 0), 74.2926], [datetime.datetime(2021, 12, 30, 0, 0), 73.6514]]\n"
     ]
    }
   ],
   "source": [
    "print(wb.sheets['RC'].range('B1:C3').value)"
   ]
  },
  {
   "cell_type": "markdown",
   "metadata": {},
   "source": [
    "Массив содержит три элемента (также массивы), которые представляют из себя три строки в Excel: <br>\n",
    "(1) заголовок *(['data', 'curs'])*, <br>\n",
    "(2) дата и курс в первый день *([datetime.datetime(2021, 12, 31, 0, 0), 74.2926])* и <br>\n",
    "(3) дата и курс во второй день *([datetime.datetime(2021, 12, 30, 0, 0), 73.6514])*\n",
    "\n",
    "Каждый из этих элементов также является массивом и содержит по два элемента, которые представляют из себя столбцы - дата и курс."
   ]
  },
  {
   "cell_type": "markdown",
   "metadata": {},
   "source": [
    "Запись диапазонов в Excel осуществляется по тому же принципу. Для записи строк достаточно перечислить значения каждого столбца в строке в одномерном массиве."
   ]
  },
  {
   "cell_type": "code",
   "execution_count": 19,
   "metadata": {},
   "outputs": [],
   "source": [
    "wb.sheets['RC'].range('F5').value = [1, 2, 3]"
   ]
  },
  {
   "cell_type": "markdown",
   "metadata": {},
   "source": [
    "Для записи столбца из нескольких строк необходимо использовать вложенные массивы (двумерный массив), так как каждая строка должна представляться отдельным массивом."
   ]
  },
  {
   "cell_type": "code",
   "execution_count": 20,
   "metadata": {},
   "outputs": [],
   "source": [
    "wb.sheets['RC'].range('F5').value = [[1], [2], [3]]"
   ]
  },
  {
   "cell_type": "markdown",
   "metadata": {},
   "source": [
    "Более удобным способом получения аналогичного результата является испольозвание опции ```transpose```."
   ]
  },
  {
   "cell_type": "code",
   "execution_count": 21,
   "metadata": {},
   "outputs": [],
   "source": [
    "arr = [10, 20, 30]\n",
    "wb.sheets['RC'].range('F5').options(transpose=True).value = arr"
   ]
  },
  {
   "cell_type": "markdown",
   "metadata": {},
   "source": [
    "Соответственно двумерные диапазоны записываются при помощи двумерных массивов, где внешний уровень - это строки, а вложенный - столбцы."
   ]
  },
  {
   "cell_type": "code",
   "execution_count": 22,
   "metadata": {},
   "outputs": [],
   "source": [
    "wb.sheets['RC'].range('F5').value = [[1, 2, 3], [4, 5, 6], [7, 8, 9]]"
   ]
  },
  {
   "cell_type": "markdown",
   "metadata": {},
   "source": [
    "Для получения полного диапазона, начиная от определенной ячейки, используется функция ```expand()```. <br>\n",
    "Она используется с тремя основными параметрами:<br>\n",
    "1. ```down``` - выделяет диапазон до конца вниз, аналогично использованию комбинации Ctrl+Shift+↓ в Excel\n",
    "2. ```right``` - выделяет диапазон до конца вправо, аналогично использованию комбинации Ctrl+Shift+→ в Excel\n",
    "3. ```table``` - объединяет две предыдущие команды - выделяет диапазон целиком вниз и вправо"
   ]
  },
  {
   "cell_type": "code",
   "execution_count": 23,
   "metadata": {},
   "outputs": [
    {
     "name": "stdout",
     "output_type": "stream",
     "text": [
      "$A$1:$A$249\n"
     ]
    }
   ],
   "source": [
    "print(wb.sheets['RC'].range('A1').expand('down').address)"
   ]
  },
  {
   "cell_type": "code",
   "execution_count": 24,
   "metadata": {},
   "outputs": [
    {
     "name": "stdout",
     "output_type": "stream",
     "text": [
      "$A$1:$D$1\n"
     ]
    }
   ],
   "source": [
    "print(wb.sheets['RC'].range('A1').expand('right').address)"
   ]
  },
  {
   "cell_type": "code",
   "execution_count": 25,
   "metadata": {},
   "outputs": [
    {
     "name": "stdout",
     "output_type": "stream",
     "text": [
      "$A$1:$D$249\n"
     ]
    }
   ],
   "source": [
    "print(wb.sheets['RC'].range('A1').expand('table').address)"
   ]
  },
  {
   "cell_type": "markdown",
   "metadata": {},
   "source": [
    "### Выполнение кода на Python из Excel"
   ]
  },
  {
   "cell_type": "markdown",
   "metadata": {},
   "source": [
    "Инструмент xlwings также включает специальную надстройку для Excel со следующим функционалом:\n",
    " - запуск скриптов, написанных на Python из Excel\n",
    " - написание пользовательских функций на языке Python\n",
    " \n",
    "Для установки надстройки закройте Excel и выполните в командной строке следующую инструкцию:\n",
    "\n",
    " ```xlwings addin install```\n",
    " \n",
    "Далее в Excel необходимо добавить xlwings в References для того, чтобы ее могли использовать макросы в Excel. Для этого нужно на вкладке Developer нажать кнопку Visual Basic. В меню Tools выбрать пункт References, в появившемся окне найти пункт xlwings и убедиться, что он отмечен галочкой."
   ]
  },
  {
   "cell_type": "markdown",
   "metadata": {},
   "source": [
    "Для запуска скрипта на Python в VBA (Visual Basic for Applications - язык программирования, используемый в Excel) используется специальная функция ```RunPython```. В качестве параметра ей передается код на языке Python. Для удобства редактирования кода, лучше вынести его в отдельный модуль и импортировать в Excel.\n",
    "\n",
    "Например, создадим новый файл \"script.py\" и сохраним в той же папке новый пустой файл Excel.\n",
    "В файле \"script.py\" напишем следующий скрипт для получения котировок акции по ее тикеру за последний год."
   ]
  },
  {
   "cell_type": "code",
   "execution_count": null,
   "metadata": {},
   "outputs": [],
   "source": [
    "def getQuotes():\n",
    "    \n",
    "    import xlwings as xw\n",
    "    wb = xw.Book.caller() # Ссылка на книгу Excel, из которой был вызван скрипт\n",
    "    ticker = wb.sheets[0].range('ticker').value # Получение тикера из ячейки с именем \"ticker\" в Excel\n",
    "\n",
    "    # Код необходимый для корректной работы импорта котировок (не будет разбираться в рамках данного тренинга)\n",
    "    import requests\n",
    "    from urllib3.exceptions import InsecureRequestWarning\n",
    "    session = requests.Session()\n",
    "    session.verify = False\n",
    "    requests.packages.urllib3.disable_warnings(category=InsecureRequestWarning)\n",
    "\n",
    "    import yfinance as yf # yfinance - популярная библиотека для получения данных (в т.ч. котировок) из Yahoo Finance\n",
    "    quotes = yf.Ticker(ticker, session=session).history(period='1y') # Импорт котировок за последний год\n",
    "    wb.sheets[0].range('output').value = quotes # Вывод результата в Excel"
   ]
  },
  {
   "cell_type": "markdown",
   "metadata": {},
   "source": [
    "Теперь вернемся в Excel и зададим имена ячеек для ввода и вывода данных.\n",
    "\n",
    "Для получения имени тикера мы использовали в нашем скрипте ячейку с названием 'ticker'. Поэтому зададим соответствующее имя, например, ячейке A1 в Excel. Введем туда какой-нибудь популярный тикер вроде AAPL или MSFT.\n",
    "\n",
    "Для вывода будем использовать к примеру диапазон, начиная с ячейки C1. Для этого присвоим ячейке C1 имя 'output'.\n",
    "\n",
    "Теперь создадим новый VBA модуль. Для этого необходимо открыть Visual Basic на вкладке Developer и в меню Insert выбрать Module. Напишем простую функцию, импортирующую наш скрипт из файла и запускающую функцию getQuotes в этом скрипте."
   ]
  },
  {
   "cell_type": "code",
   "execution_count": null,
   "metadata": {},
   "outputs": [],
   "source": [
    "Sub runPythonScript()\n",
    "  RunPython \"import script; script.getQuotes()\"\n",
    "End Sub"
   ]
  },
  {
   "cell_type": "markdown",
   "metadata": {},
   "source": [
    "Запустим нашу функцию в VBA, нажав F5 в редакторе. Если все было выполнено корректно, VBA должен импортировать скрипт из файла 'script.py' и выполнить в нем функцию ```getQuotes()```. Скрипт прочитает из Excel наименование тикера, получит котировки за последний год и вернет их в Excel в диапазон, начиная с ячейки с именем 'output'."
   ]
  }
 ],
 "metadata": {
  "kernelspec": {
   "display_name": "Python 3",
   "language": "python",
   "name": "python3"
  },
  "language_info": {
   "codemirror_mode": {
    "name": "ipython",
    "version": 3
   },
   "file_extension": ".py",
   "mimetype": "text/x-python",
   "name": "python",
   "nbconvert_exporter": "python",
   "pygments_lexer": "ipython3",
   "version": "3.9.6"
  }
 },
 "nbformat": 4,
 "nbformat_minor": 4
}
